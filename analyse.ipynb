{
 "cells": [
  {
   "cell_type": "code",
   "execution_count": 1,
   "id": "d44e227a-42ee-4f0a-8a7a-34cb470002e7",
   "metadata": {
    "pycharm": {
     "name": "#%%\n"
    }
   },
   "outputs": [],
   "source": [
    "import pandas as pd\n",
    "import numpy as np\n",
    "import matplotlib.pyplot as plt\n",
    "import scipy.stats"
   ]
  },
  {
   "cell_type": "code",
   "execution_count": 2,
   "id": "62287d07-2d2c-49ea-8350-e5e44903f1dc",
   "metadata": {
    "pycharm": {
     "name": "#%%\n"
    }
   },
   "outputs": [],
   "source": [
    "from utils.connect  import connect\n",
    "o = connect()"
   ]
  },
  {
   "cell_type": "markdown",
   "id": "b8f0fb5c-cc51-4ac6-881c-fdc6d70d0f15",
   "metadata": {
    "pycharm": {
     "name": "#%% md\n"
    }
   },
   "source": [
    "# pagerank & hits"
   ]
  },
  {
   "cell_type": "code",
   "execution_count": 3,
   "id": "643269af-5d89-4455-9b4c-0dcd1d962b66",
   "metadata": {
    "pycharm": {
     "name": "#%%\n"
    }
   },
   "outputs": [
    {
     "data": {
      "text/html": [
       "<div>\n",
       "<style scoped>\n",
       "    .dataframe tbody tr th:only-of-type {\n",
       "        vertical-align: middle;\n",
       "    }\n",
       "\n",
       "    .dataframe tbody tr th {\n",
       "        vertical-align: top;\n",
       "    }\n",
       "\n",
       "    .dataframe thead th {\n",
       "        text-align: right;\n",
       "    }\n",
       "</style>\n",
       "<table border=\"1\" class=\"dataframe\">\n",
       "  <thead>\n",
       "    <tr style=\"text-align: right;\">\n",
       "      <th></th>\n",
       "      <th>id</th>\n",
       "      <th>pagerank</th>\n",
       "      <th>h</th>\n",
       "      <th>a</th>\n",
       "    </tr>\n",
       "  </thead>\n",
       "  <tbody>\n",
       "    <tr>\n",
       "      <th>0</th>\n",
       "      <td>50567111</td>\n",
       "      <td>1.714631e-06</td>\n",
       "      <td>4.376455e-06</td>\n",
       "      <td>1.175334e-06</td>\n",
       "    </tr>\n",
       "    <tr>\n",
       "      <th>1</th>\n",
       "      <td>8517910</td>\n",
       "      <td>1.999484e-06</td>\n",
       "      <td>0.000000e+00</td>\n",
       "      <td>7.507156e-08</td>\n",
       "    </tr>\n",
       "    <tr>\n",
       "      <th>2</th>\n",
       "      <td>61306948</td>\n",
       "      <td>7.992035e-08</td>\n",
       "      <td>4.133725e-09</td>\n",
       "      <td>0.000000e+00</td>\n",
       "    </tr>\n",
       "    <tr>\n",
       "      <th>3</th>\n",
       "      <td>60854565</td>\n",
       "      <td>7.992035e-08</td>\n",
       "      <td>4.688124e-10</td>\n",
       "      <td>0.000000e+00</td>\n",
       "    </tr>\n",
       "    <tr>\n",
       "      <th>4</th>\n",
       "      <td>57724193</td>\n",
       "      <td>7.992035e-08</td>\n",
       "      <td>4.808973e-11</td>\n",
       "      <td>0.000000e+00</td>\n",
       "    </tr>\n",
       "    <tr>\n",
       "      <th>...</th>\n",
       "      <td>...</td>\n",
       "      <td>...</td>\n",
       "      <td>...</td>\n",
       "      <td>...</td>\n",
       "    </tr>\n",
       "    <tr>\n",
       "      <th>3801770</th>\n",
       "      <td>90369758</td>\n",
       "      <td>7.992035e-08</td>\n",
       "      <td>1.935796e-11</td>\n",
       "      <td>0.000000e+00</td>\n",
       "    </tr>\n",
       "    <tr>\n",
       "      <th>3801771</th>\n",
       "      <td>72910664</td>\n",
       "      <td>7.992035e-08</td>\n",
       "      <td>1.935796e-11</td>\n",
       "      <td>0.000000e+00</td>\n",
       "    </tr>\n",
       "    <tr>\n",
       "      <th>3801772</th>\n",
       "      <td>72599709</td>\n",
       "      <td>7.992035e-08</td>\n",
       "      <td>1.935796e-11</td>\n",
       "      <td>0.000000e+00</td>\n",
       "    </tr>\n",
       "    <tr>\n",
       "      <th>3801773</th>\n",
       "      <td>34569793</td>\n",
       "      <td>7.992035e-08</td>\n",
       "      <td>1.935796e-11</td>\n",
       "      <td>0.000000e+00</td>\n",
       "    </tr>\n",
       "    <tr>\n",
       "      <th>3801774</th>\n",
       "      <td>67463870</td>\n",
       "      <td>1.078678e-07</td>\n",
       "      <td>0.000000e+00</td>\n",
       "      <td>3.577681e-09</td>\n",
       "    </tr>\n",
       "  </tbody>\n",
       "</table>\n",
       "<p>3801775 rows × 4 columns</p>\n",
       "</div>"
      ],
      "text/plain": [
       "               id      pagerank             h             a\n",
       "0        50567111  1.714631e-06  4.376455e-06  1.175334e-06\n",
       "1         8517910  1.999484e-06  0.000000e+00  7.507156e-08\n",
       "2        61306948  7.992035e-08  4.133725e-09  0.000000e+00\n",
       "3        60854565  7.992035e-08  4.688124e-10  0.000000e+00\n",
       "4        57724193  7.992035e-08  4.808973e-11  0.000000e+00\n",
       "...           ...           ...           ...           ...\n",
       "3801770  90369758  7.992035e-08  1.935796e-11  0.000000e+00\n",
       "3801771  72910664  7.992035e-08  1.935796e-11  0.000000e+00\n",
       "3801772  72599709  7.992035e-08  1.935796e-11  0.000000e+00\n",
       "3801773  34569793  7.992035e-08  1.935796e-11  0.000000e+00\n",
       "3801774  67463870  1.078678e-07  0.000000e+00  3.577681e-09\n",
       "\n",
       "[3801775 rows x 4 columns]"
      ]
     },
     "execution_count": 3,
     "metadata": {},
     "output_type": "execute_result"
    }
   ],
   "source": [
    "data = pd.read_table(\"./result/pagerank.txt\")\n",
    "hist_a = pd.read_table(\"./result/hits_a.txt\")\n",
    "hist_h = pd.read_table(\"./result/hits_h.txt\")\n",
    "data['h'] = hist_h['h']\n",
    "data['a'] = hist_a['a']\n",
    "data"
   ]
  },
  {
   "cell_type": "code",
   "execution_count": 4,
   "id": "0e88b422-4130-440f-861d-1bb738584e82",
   "metadata": {
    "pycharm": {
     "name": "#%%\n"
    }
   },
   "outputs": [
    {
     "data": {
      "text/html": [
       "<div>\n",
       "<style scoped>\n",
       "    .dataframe tbody tr th:only-of-type {\n",
       "        vertical-align: middle;\n",
       "    }\n",
       "\n",
       "    .dataframe tbody tr th {\n",
       "        vertical-align: top;\n",
       "    }\n",
       "\n",
       "    .dataframe thead th {\n",
       "        text-align: right;\n",
       "    }\n",
       "</style>\n",
       "<table border=\"1\" class=\"dataframe\">\n",
       "  <thead>\n",
       "    <tr style=\"text-align: right;\">\n",
       "      <th></th>\n",
       "      <th>pagerank</th>\n",
       "      <th>h</th>\n",
       "      <th>a</th>\n",
       "    </tr>\n",
       "  </thead>\n",
       "  <tbody>\n",
       "    <tr>\n",
       "      <th>count</th>\n",
       "      <td>3.801775e+06</td>\n",
       "      <td>3.801775e+06</td>\n",
       "      <td>3.801775e+06</td>\n",
       "    </tr>\n",
       "    <tr>\n",
       "      <th>mean</th>\n",
       "      <td>2.630350e-07</td>\n",
       "      <td>2.630350e-07</td>\n",
       "      <td>2.630350e-07</td>\n",
       "    </tr>\n",
       "    <tr>\n",
       "      <th>std</th>\n",
       "      <td>1.035325e-05</td>\n",
       "      <td>9.151808e-07</td>\n",
       "      <td>3.098953e-06</td>\n",
       "    </tr>\n",
       "    <tr>\n",
       "      <th>min</th>\n",
       "      <td>7.992035e-08</td>\n",
       "      <td>-7.552653e-25</td>\n",
       "      <td>-1.900506e-22</td>\n",
       "    </tr>\n",
       "    <tr>\n",
       "      <th>25%</th>\n",
       "      <td>7.992035e-08</td>\n",
       "      <td>1.368570e-10</td>\n",
       "      <td>0.000000e+00</td>\n",
       "    </tr>\n",
       "    <tr>\n",
       "      <th>50%</th>\n",
       "      <td>7.992035e-08</td>\n",
       "      <td>8.886910e-09</td>\n",
       "      <td>0.000000e+00</td>\n",
       "    </tr>\n",
       "    <tr>\n",
       "      <th>75%</th>\n",
       "      <td>8.279140e-08</td>\n",
       "      <td>1.038977e-07</td>\n",
       "      <td>4.657859e-08</td>\n",
       "    </tr>\n",
       "    <tr>\n",
       "      <th>max</th>\n",
       "      <td>1.251692e-02</td>\n",
       "      <td>2.618888e-04</td>\n",
       "      <td>2.847239e-03</td>\n",
       "    </tr>\n",
       "  </tbody>\n",
       "</table>\n",
       "</div>"
      ],
      "text/plain": [
       "           pagerank             h             a\n",
       "count  3.801775e+06  3.801775e+06  3.801775e+06\n",
       "mean   2.630350e-07  2.630350e-07  2.630350e-07\n",
       "std    1.035325e-05  9.151808e-07  3.098953e-06\n",
       "min    7.992035e-08 -7.552653e-25 -1.900506e-22\n",
       "25%    7.992035e-08  1.368570e-10  0.000000e+00\n",
       "50%    7.992035e-08  8.886910e-09  0.000000e+00\n",
       "75%    8.279140e-08  1.038977e-07  4.657859e-08\n",
       "max    1.251692e-02  2.618888e-04  2.847239e-03"
      ]
     },
     "execution_count": 4,
     "metadata": {},
     "output_type": "execute_result"
    }
   ],
   "source": [
    "data.iloc[:,1:].describe()"
   ]
  },
  {
   "cell_type": "code",
   "execution_count": 5,
   "id": "b0e947fd-1dd7-473b-8662-0990583a07b1",
   "metadata": {
    "pycharm": {
     "name": "#%%\n"
    }
   },
   "outputs": [],
   "source": [
    "delta = 1"
   ]
  },
  {
   "cell_type": "code",
   "execution_count": 6,
   "id": "c991a265-1c8f-439a-89db-91a7012dd673",
   "metadata": {
    "pycharm": {
     "name": "#%%\n"
    }
   },
   "outputs": [
    {
     "data": {
      "image/png": "[encoded data removed]",
      "text/plain": [
       "<Figure size 432x288 with 1 Axes>"
      ]
     },
     "metadata": {
      "needs_background": "light"
     },
     "output_type": "display_data"
    }
   ],
   "source": [
    "plt.hist(np.log10(data['pagerank']*1e6+delta))\n",
    "plt.show()"
   ]
  },
  {
   "cell_type": "code",
   "execution_count": 7,
   "id": "a6e70e83-90b6-404e-a694-073de4af7d26",
   "metadata": {
    "pycharm": {
     "name": "#%%\n"
    }
   },
   "outputs": [
    {
     "data": {
      "image/png": "[encoded data removed]",
      "text/plain": [
       "<Figure size 432x288 with 1 Axes>"
      ]
     },
     "metadata": {
      "needs_background": "light"
     },
     "output_type": "display_data"
    }
   ],
   "source": [
    "plt.hist(np.log10(data['h']*1e6+delta))\n",
    "plt.show()"
   ]
  },
  {
   "cell_type": "code",
   "execution_count": 8,
   "id": "94ceb831-5408-4ede-970e-f07e54c8a266",
   "metadata": {
    "pycharm": {
     "name": "#%%\n"
    }
   },
   "outputs": [
    {
     "data": {
      "image/png": "[encoded data removed]",
      "text/plain": [
       "<Figure size 432x288 with 1 Axes>"
      ]
     },
     "metadata": {
      "needs_background": "light"
     },
     "output_type": "display_data"
    }
   ],
   "source": [
    "plt.hist(np.log10(data['a']*1e6+delta))\n",
    "plt.show()"
   ]
  },
  {
   "cell_type": "code",
   "execution_count": 9,
   "id": "364998d4-81df-4bd6-93f0-442fac708694",
   "metadata": {
    "pycharm": {
     "name": "#%%\n"
    }
   },
   "outputs": [],
   "source": [
    "def mainpage(id):\n",
    "    sql = \"select login from ods_github_users where database_id = %s\" % id\n",
    "    with o.execute_sql(sql).open_reader() as reader:\n",
    "        for record in reader:\n",
    "            return \"https://github.com/\" + record.login"
   ]
  },
  {
   "cell_type": "code",
   "execution_count": 10,
   "id": "301f762a-b14f-4bba-9d94-a3d783b25770",
   "metadata": {
    "pycharm": {
     "name": "#%%\n"
    }
   },
   "outputs": [
    {
     "data": {
      "text/html": [
       "<div>\n",
       "<style scoped>\n",
       "    .dataframe tbody tr th:only-of-type {\n",
       "        vertical-align: middle;\n",
       "    }\n",
       "\n",
       "    .dataframe tbody tr th {\n",
       "        vertical-align: top;\n",
       "    }\n",
       "\n",
       "    .dataframe thead th {\n",
       "        text-align: right;\n",
       "    }\n",
       "</style>\n",
       "<table border=\"1\" class=\"dataframe\">\n",
       "  <thead>\n",
       "    <tr style=\"text-align: right;\">\n",
       "      <th></th>\n",
       "      <th>id</th>\n",
       "      <th>pagerank</th>\n",
       "      <th>h</th>\n",
       "      <th>a</th>\n",
       "    </tr>\n",
       "  </thead>\n",
       "  <tbody>\n",
       "    <tr>\n",
       "      <th>19052</th>\n",
       "      <td>810438</td>\n",
       "      <td>0.004137</td>\n",
       "      <td>4.104238e-06</td>\n",
       "      <td>0.001466</td>\n",
       "    </tr>\n",
       "    <tr>\n",
       "      <th>1807</th>\n",
       "      <td>499550</td>\n",
       "      <td>0.005089</td>\n",
       "      <td>8.645806e-06</td>\n",
       "      <td>0.001641</td>\n",
       "    </tr>\n",
       "    <tr>\n",
       "      <th>2613</th>\n",
       "      <td>905434</td>\n",
       "      <td>0.005173</td>\n",
       "      <td>0.000000e+00</td>\n",
       "      <td>0.001180</td>\n",
       "    </tr>\n",
       "    <tr>\n",
       "      <th>8096</th>\n",
       "      <td>66577</td>\n",
       "      <td>0.005820</td>\n",
       "      <td>3.916010e-07</td>\n",
       "      <td>0.000728</td>\n",
       "    </tr>\n",
       "    <tr>\n",
       "      <th>6200</th>\n",
       "      <td>1024025</td>\n",
       "      <td>0.012517</td>\n",
       "      <td>0.000000e+00</td>\n",
       "      <td>0.002847</td>\n",
       "    </tr>\n",
       "  </tbody>\n",
       "</table>\n",
       "</div>"
      ],
      "text/plain": [
       "            id  pagerank             h         a\n",
       "19052   810438  0.004137  4.104238e-06  0.001466\n",
       "1807    499550  0.005089  8.645806e-06  0.001641\n",
       "2613    905434  0.005173  0.000000e+00  0.001180\n",
       "8096     66577  0.005820  3.916010e-07  0.000728\n",
       "6200   1024025  0.012517  0.000000e+00  0.002847"
      ]
     },
     "execution_count": 10,
     "metadata": {},
     "output_type": "execute_result"
    }
   ],
   "source": [
    "data.sort_values(by = 'pagerank').tail(5)"
   ]
  },
  {
   "cell_type": "code",
   "execution_count": 11,
   "id": "f5a0f6c7-43aa-4d6c-8262-c2f219b71c50",
   "metadata": {
    "pycharm": {
     "name": "#%%\n"
    }
   },
   "outputs": [
    {
     "name": "stdout",
     "output_type": "stream",
     "text": [
      "1024025 https://github.com/torvalds\n",
      "66577 https://github.com/JakeWharton\n",
      "905434 https://github.com/ruanyf\n",
      "499550 https://github.com/yyx990803\n",
      "810438 https://github.com/gaearon\n"
     ]
    }
   ],
   "source": [
    "for user_id in data.sort_values(by = 'pagerank', ascending=False).head(5)['id']:\n",
    "    print(user_id, end=\" \")\n",
    "    print(mainpage(user_id))"
   ]
  },
  {
   "cell_type": "code",
   "execution_count": 12,
   "id": "1916f54b-265b-4ae6-9285-9d1c5f6c03d1",
   "metadata": {
    "pycharm": {
     "name": "#%%\n"
    }
   },
   "outputs": [
    {
     "name": "stdout",
     "output_type": "stream",
     "text": [
      "14808551 https://github.com/Lisprez\n",
      "250445 https://github.com/batermj\n",
      "4624113 https://github.com/Magicianred\n",
      "14338588 https://github.com/AlexxNica\n",
      "18233711 https://github.com/justStarNew\n"
     ]
    }
   ],
   "source": [
    "for user_id in data.sort_values(by = 'h', ascending=False).head(5)['id']:\n",
    "    print(user_id, end=\" \")\n",
    "    print(mainpage(user_id))"
   ]
  },
  {
   "cell_type": "code",
   "execution_count": 13,
   "id": "2a1c212c-2aa2-4744-9c63-9372337437ba",
   "metadata": {
    "pycharm": {
     "name": "#%%\n"
    }
   },
   "outputs": [
    {
     "name": "stdout",
     "output_type": "stream",
     "text": [
      "1024025 https://github.com/torvalds\n",
      "499550 https://github.com/yyx990803\n",
      "810438 https://github.com/gaearon\n",
      "905434 https://github.com/ruanyf\n",
      "170270 https://github.com/sindresorhus\n"
     ]
    }
   ],
   "source": [
    "for user_id in data.sort_values(by = 'a', ascending=False).head(5)['id']:\n",
    "    print(user_id, end=\" \")\n",
    "    print(mainpage(user_id))"
   ]
  },
  {
   "cell_type": "markdown",
   "id": "6e2f0727-f995-41f3-8d15-c89f4135b9a6",
   "metadata": {
    "jupyter": {
     "outputs_hidden": false
    },
    "pycharm": {
     "name": "#%%\n"
    }
   },
   "source": [
    "# BurstBiRank"
   ]
  },
  {
   "cell_type": "code",
   "execution_count": 14,
   "id": "1a153531-8d27-4adf-a8b3-9297831793fd",
   "metadata": {
    "pycharm": {
     "name": "#%%\n"
    }
   },
   "outputs": [],
   "source": [
    "actor = pd.read_table(\"./result/burstbirank_actor.txt\")"
   ]
  },
  {
   "cell_type": "code",
   "execution_count": 15,
   "id": "00cb2772-9976-4bfa-8332-cbade09e780c",
   "metadata": {
    "pycharm": {
     "name": "#%%\n"
    }
   },
   "outputs": [
    {
     "data": {
      "text/plain": [
       "actor_id    134279\n",
       "rank        134279\n",
       "dtype: int64"
      ]
     },
     "execution_count": 15,
     "metadata": {},
     "output_type": "execute_result"
    }
   ],
   "source": [
    "actor.count()"
   ]
  },
  {
   "cell_type": "code",
   "execution_count": 16,
   "id": "c0b0516a-e7c1-402b-ae36-000ab013a04b",
   "metadata": {
    "pycharm": {
     "name": "#%%\n"
    }
   },
   "outputs": [
    {
     "data": {
      "image/png": "[encoded data removed]",
      "text/plain": [
       "<Figure size 432x288 with 1 Axes>"
      ]
     },
     "metadata": {
      "needs_background": "light"
     },
     "output_type": "display_data"
    }
   ],
   "source": [
    "delta = 1.0\n",
    "plt.hist(np.log10(actor['rank']*1e6+delta))\n",
    "plt.show()"
   ]
  },
  {
   "cell_type": "code",
   "execution_count": 17,
   "id": "6fd4cf99-113c-45e9-9ade-bf208ba13838",
   "metadata": {
    "pycharm": {
     "name": "#%%\n"
    }
   },
   "outputs": [],
   "source": [
    "repo = pd.read_table(\"./result/burstbirank_repo.txt\")"
   ]
  },
  {
   "cell_type": "code",
   "execution_count": 18,
   "id": "0a14ee78-8568-4af1-9cb3-b96dc2d6ab9f",
   "metadata": {
    "pycharm": {
     "name": "#%%\n"
    }
   },
   "outputs": [
    {
     "data": {
      "text/plain": [
       "repo_id    41667\n",
       "rank       41667\n",
       "dtype: int64"
      ]
     },
     "execution_count": 18,
     "metadata": {},
     "output_type": "execute_result"
    }
   ],
   "source": [
    "repo.count()"
   ]
  },
  {
   "cell_type": "code",
   "execution_count": 19,
   "id": "52a6ecc3-4d53-43f8-b548-3a3d16492e6f",
   "metadata": {
    "pycharm": {
     "name": "#%%\n"
    }
   },
   "outputs": [
    {
     "data": {
      "image/png": "[encoded data removed]",
      "text/plain": [
       "<Figure size 432x288 with 1 Axes>"
      ]
     },
     "metadata": {
      "needs_background": "light"
     },
     "output_type": "display_data"
    }
   ],
   "source": [
    "delta = 1.0\n",
    "plt.hist(np.log10(repo['rank']*1e6+delta))\n",
    "plt.show()"
   ]
  },
  {
   "cell_type": "code",
   "execution_count": 1,
   "id": "addaad81-8636-4c79-bed3-5574ccf50ffb",
   "metadata": {
    "pycharm": {
     "name": "#%%\n"
    }
   },
   "outputs": [
    {
     "ename": "FileNotFoundError",
     "evalue": "[Errno 2] No such file or directory: './data/users_name.csv'",
     "output_type": "error",
     "traceback": [
      "\u001b[0;31m---------------------------------------------------------------------------\u001b[0m",
      "\u001b[0;31mFileNotFoundError\u001b[0m                         Traceback (most recent call last)",
      "\u001b[0;32m/var/folders/8p/phz4vkr90_j3vp316ngxfn8h0000gn/T/ipykernel_11422/1209777914.py\u001b[0m in \u001b[0;36m<module>\u001b[0;34m\u001b[0m\n\u001b[1;32m      1\u001b[0m \u001b[0mid2name\u001b[0m \u001b[0;34m=\u001b[0m \u001b[0;34m{\u001b[0m\u001b[0;34m}\u001b[0m\u001b[0;34m\u001b[0m\u001b[0;34m\u001b[0m\u001b[0m\n\u001b[0;32m----> 2\u001b[0;31m \u001b[0;32mwith\u001b[0m \u001b[0mopen\u001b[0m\u001b[0;34m(\u001b[0m\u001b[0;34m\"./data/users_name.csv\"\u001b[0m\u001b[0;34m,\u001b[0m \u001b[0;34m\"r\"\u001b[0m\u001b[0;34m)\u001b[0m \u001b[0;32mas\u001b[0m \u001b[0mf\u001b[0m\u001b[0;34m:\u001b[0m\u001b[0;34m\u001b[0m\u001b[0;34m\u001b[0m\u001b[0m\n\u001b[0m\u001b[1;32m      3\u001b[0m     \u001b[0;32mfor\u001b[0m \u001b[0mline\u001b[0m \u001b[0;32min\u001b[0m \u001b[0mf\u001b[0m\u001b[0;34m:\u001b[0m\u001b[0;34m\u001b[0m\u001b[0;34m\u001b[0m\u001b[0m\n\u001b[1;32m      4\u001b[0m         \u001b[0;32mtry\u001b[0m\u001b[0;34m:\u001b[0m\u001b[0;34m\u001b[0m\u001b[0;34m\u001b[0m\u001b[0m\n\u001b[1;32m      5\u001b[0m             \u001b[0mtemp\u001b[0m \u001b[0;34m=\u001b[0m \u001b[0mline\u001b[0m\u001b[0;34m.\u001b[0m\u001b[0msplit\u001b[0m\u001b[0;34m(\u001b[0m\u001b[0;34m','\u001b[0m\u001b[0;34m)\u001b[0m\u001b[0;34m\u001b[0m\u001b[0;34m\u001b[0m\u001b[0m\n",
      "\u001b[0;31mFileNotFoundError\u001b[0m: [Errno 2] No such file or directory: './data/users_name.csv'"
     ]
    }
   ],
   "source": [
    "id2name = {}\n",
    "with open(\"./data/users_name.csv\", \"r\") as f:\n",
    "    for line in f:\n",
    "        try:\n",
    "            temp = line.split(',')\n",
    "            temp_id = int(temp[0])\n",
    "            temp_name = temp[1][:-1]\n",
    "            id2name[temp_id] = temp_name\n",
    "        except ValueError:\n",
    "            continue"
   ]
  },
  {
   "cell_type": "code",
   "execution_count": 21,
   "id": "43279af0-316e-4b79-ba73-08d8ee77562a",
   "metadata": {
    "pycharm": {
     "name": "#%%\n"
    }
   },
   "outputs": [
    {
     "data": {
      "text/html": [
       "<div>\n",
       "<style scoped>\n",
       "    .dataframe tbody tr th:only-of-type {\n",
       "        vertical-align: middle;\n",
       "    }\n",
       "\n",
       "    .dataframe tbody tr th {\n",
       "        vertical-align: top;\n",
       "    }\n",
       "\n",
       "    .dataframe thead th {\n",
       "        text-align: right;\n",
       "    }\n",
       "</style>\n",
       "<table border=\"1\" class=\"dataframe\">\n",
       "  <thead>\n",
       "    <tr style=\"text-align: right;\">\n",
       "      <th></th>\n",
       "      <th>actor_id</th>\n",
       "      <th>rank</th>\n",
       "    </tr>\n",
       "  </thead>\n",
       "  <tbody>\n",
       "    <tr>\n",
       "      <th>99766</th>\n",
       "      <td>49699333</td>\n",
       "      <td>1.356540e-01</td>\n",
       "    </tr>\n",
       "    <tr>\n",
       "      <th>78947</th>\n",
       "      <td>27856297</td>\n",
       "      <td>2.970224e-02</td>\n",
       "    </tr>\n",
       "    <tr>\n",
       "      <th>92040</th>\n",
       "      <td>41898282</td>\n",
       "      <td>1.465271e-02</td>\n",
       "    </tr>\n",
       "    <tr>\n",
       "      <th>80041</th>\n",
       "      <td>29139614</td>\n",
       "      <td>9.897163e-03</td>\n",
       "    </tr>\n",
       "    <tr>\n",
       "      <th>69581</th>\n",
       "      <td>19733683</td>\n",
       "      <td>7.030640e-03</td>\n",
       "    </tr>\n",
       "    <tr>\n",
       "      <th>...</th>\n",
       "      <td>...</td>\n",
       "      <td>...</td>\n",
       "    </tr>\n",
       "    <tr>\n",
       "      <th>40302</th>\n",
       "      <td>5627428</td>\n",
       "      <td>2.095829e-07</td>\n",
       "    </tr>\n",
       "    <tr>\n",
       "      <th>96163</th>\n",
       "      <td>45841273</td>\n",
       "      <td>2.095829e-07</td>\n",
       "    </tr>\n",
       "    <tr>\n",
       "      <th>29834</th>\n",
       "      <td>2762623</td>\n",
       "      <td>2.095829e-07</td>\n",
       "    </tr>\n",
       "    <tr>\n",
       "      <th>7978</th>\n",
       "      <td>298435</td>\n",
       "      <td>2.095829e-07</td>\n",
       "    </tr>\n",
       "    <tr>\n",
       "      <th>10303</th>\n",
       "      <td>445655</td>\n",
       "      <td>2.095829e-07</td>\n",
       "    </tr>\n",
       "  </tbody>\n",
       "</table>\n",
       "<p>134279 rows × 2 columns</p>\n",
       "</div>"
      ],
      "text/plain": [
       "       actor_id          rank\n",
       "99766  49699333  1.356540e-01\n",
       "78947  27856297  2.970224e-02\n",
       "92040  41898282  1.465271e-02\n",
       "80041  29139614  9.897163e-03\n",
       "69581  19733683  7.030640e-03\n",
       "...         ...           ...\n",
       "40302   5627428  2.095829e-07\n",
       "96163  45841273  2.095829e-07\n",
       "29834   2762623  2.095829e-07\n",
       "7978     298435  2.095829e-07\n",
       "10303    445655  2.095829e-07\n",
       "\n",
       "[134279 rows x 2 columns]"
      ]
     },
     "execution_count": 21,
     "metadata": {},
     "output_type": "execute_result"
    }
   ],
   "source": [
    "actor = actor.sort_values(by = 'rank', ascending=False)\n",
    "actor"
   ]
  },
  {
   "cell_type": "code",
   "execution_count": 22,
   "id": "036d73c3-1b98-4a5c-bfc2-391b2f187da1",
   "metadata": {
    "pycharm": {
     "name": "#%%\n"
    }
   },
   "outputs": [
    {
     "name": "stdout",
     "output_type": "stream",
     "text": [
      "49699333 dependabot[bot]\n",
      "27856297 dependabot-preview[bot]\n",
      "41898282 github-actions[bot]\n",
      "29139614 renovate[bot]\n",
      "19733683 snyk-bot\n",
      "39814207 pull[bot]\n",
      "37929162 mergify[bot]\n",
      "26384082 stale[bot]\n",
      "31301654 imgbot[bot]\n",
      "46447321 allcontributors[bot]\n"
     ]
    }
   ],
   "source": [
    "for actor_id in actor.head(10)['actor_id']:\n",
    "    print(actor_id, end=\" \")\n",
    "    print(id2name[actor_id])"
   ]
  },
  {
   "cell_type": "code",
   "execution_count": 23,
   "id": "92b12995-87cd-4e33-9006-555ad127d65f",
   "metadata": {
    "pycharm": {
     "name": "#%%\n"
    }
   },
   "outputs": [
    {
     "name": "stdout",
     "output_type": "stream",
     "text": [
      "0.44\n"
     ]
    }
   ],
   "source": [
    "bot_cnt = 0\n",
    "for actor_id in actor.head(50)['actor_id']:\n",
    "    if 'bot' in id2name[actor_id]:\n",
    "        bot_cnt += 1\n",
    "print(bot_cnt/50)"
   ]
  },
  {
   "cell_type": "code",
   "execution_count": 24,
   "id": "99456e3e-304c-4980-88c3-a789cbc24c22",
   "metadata": {
    "pycharm": {
     "name": "#%%\n"
    }
   },
   "outputs": [
    {
     "name": "stdout",
     "output_type": "stream",
     "text": [
      "0.28\n"
     ]
    }
   ],
   "source": [
    "bot_cnt = 0\n",
    "for actor_id in actor.head(100)['actor_id']:\n",
    "    if 'bot' in id2name[actor_id]:\n",
    "        bot_cnt += 1\n",
    "print(bot_cnt/100)"
   ]
  },
  {
   "cell_type": "code",
   "execution_count": 25,
   "id": "6a272a04-2dec-4c10-837c-aec8d299da34",
   "metadata": {
    "pycharm": {
     "name": "#%%\n"
    }
   },
   "outputs": [
    {
     "name": "stdout",
     "output_type": "stream",
     "text": [
      "31519754 https://github.com/bohdanklius\n",
      "43047562 https://github.com/scala-steward\n",
      "22633385 https://github.com/eltociear\n",
      "81964055 https://github.com/w0wn3r0\n",
      "81969455 https://github.com/abelschroder\n"
     ]
    }
   ],
   "source": [
    "i = 0\n",
    "for actor_id in actor.head(50)['actor_id']:\n",
    "    name = id2name[actor_id]\n",
    "    if \"bot\" not in name:\n",
    "        print(actor_id, end=\" \")\n",
    "        print(\"https://github.com/\" + id2name[actor_id])\n",
    "        i += 1\n",
    "    if i == 5:\n",
    "        break"
   ]
  },
  {
   "cell_type": "markdown",
   "id": "cc4f07f6-5efc-4062-b689-3d50f8f9e2b3",
   "metadata": {
    "pycharm": {
     "name": "#%% md\n"
    }
   },
   "source": [
    "# BurstBiRank no bot"
   ]
  },
  {
   "cell_type": "code",
   "execution_count": 26,
   "id": "9de10838-f63c-4b37-a6a8-f4cdbd75d8f7",
   "metadata": {
    "pycharm": {
     "name": "#%%\n"
    }
   },
   "outputs": [],
   "source": [
    "actor_nobot = pd.read_table(\"./result/burstbirank_nobot_actor.txt\")"
   ]
  },
  {
   "cell_type": "code",
   "execution_count": 27,
   "id": "6f1a6ba4-fd05-46fa-8db5-e5162dca75aa",
   "metadata": {},
   "outputs": [
    {
     "data": {
      "text/plain": [
       "actor_id    133431\n",
       "rank        133431\n",
       "dtype: int64"
      ]
     },
     "execution_count": 27,
     "metadata": {},
     "output_type": "execute_result"
    }
   ],
   "source": [
    "actor_nobot.count()"
   ]
  },
  {
   "cell_type": "code",
   "execution_count": 28,
   "id": "db8a0f31-4983-43e2-93aa-ab7015a93dcc",
   "metadata": {},
   "outputs": [
    {
     "data": {
      "text/html": [
       "<div>\n",
       "<style scoped>\n",
       "    .dataframe tbody tr th:only-of-type {\n",
       "        vertical-align: middle;\n",
       "    }\n",
       "\n",
       "    .dataframe tbody tr th {\n",
       "        vertical-align: top;\n",
       "    }\n",
       "\n",
       "    .dataframe thead th {\n",
       "        text-align: right;\n",
       "    }\n",
       "</style>\n",
       "<table border=\"1\" class=\"dataframe\">\n",
       "  <thead>\n",
       "    <tr style=\"text-align: right;\">\n",
       "      <th></th>\n",
       "      <th>actor_id</th>\n",
       "      <th>rank</th>\n",
       "    </tr>\n",
       "  </thead>\n",
       "  <tbody>\n",
       "    <tr>\n",
       "      <th>99065</th>\n",
       "      <td>49307266</td>\n",
       "      <td>1.698802e-02</td>\n",
       "    </tr>\n",
       "    <tr>\n",
       "      <th>79340</th>\n",
       "      <td>28701943</td>\n",
       "      <td>1.697430e-02</td>\n",
       "    </tr>\n",
       "    <tr>\n",
       "      <th>99821</th>\n",
       "      <td>50273712</td>\n",
       "      <td>1.671893e-02</td>\n",
       "    </tr>\n",
       "    <tr>\n",
       "      <th>109843</th>\n",
       "      <td>61370901</td>\n",
       "      <td>1.663876e-02</td>\n",
       "    </tr>\n",
       "    <tr>\n",
       "      <th>114618</th>\n",
       "      <td>66905013</td>\n",
       "      <td>1.656699e-02</td>\n",
       "    </tr>\n",
       "    <tr>\n",
       "      <th>...</th>\n",
       "      <td>...</td>\n",
       "      <td>...</td>\n",
       "    </tr>\n",
       "    <tr>\n",
       "      <th>112227</th>\n",
       "      <td>63962870</td>\n",
       "      <td>1.347985e-08</td>\n",
       "    </tr>\n",
       "    <tr>\n",
       "      <th>112226</th>\n",
       "      <td>63961273</td>\n",
       "      <td>1.347985e-08</td>\n",
       "    </tr>\n",
       "    <tr>\n",
       "      <th>112225</th>\n",
       "      <td>63954316</td>\n",
       "      <td>1.347985e-08</td>\n",
       "    </tr>\n",
       "    <tr>\n",
       "      <th>55370</th>\n",
       "      <td>11039634</td>\n",
       "      <td>1.347985e-08</td>\n",
       "    </tr>\n",
       "    <tr>\n",
       "      <th>66715</th>\n",
       "      <td>17687435</td>\n",
       "      <td>1.347985e-08</td>\n",
       "    </tr>\n",
       "  </tbody>\n",
       "</table>\n",
       "<p>133431 rows × 2 columns</p>\n",
       "</div>"
      ],
      "text/plain": [
       "        actor_id          rank\n",
       "99065   49307266  1.698802e-02\n",
       "79340   28701943  1.697430e-02\n",
       "99821   50273712  1.671893e-02\n",
       "109843  61370901  1.663876e-02\n",
       "114618  66905013  1.656699e-02\n",
       "...          ...           ...\n",
       "112227  63962870  1.347985e-08\n",
       "112226  63961273  1.347985e-08\n",
       "112225  63954316  1.347985e-08\n",
       "55370   11039634  1.347985e-08\n",
       "66715   17687435  1.347985e-08\n",
       "\n",
       "[133431 rows x 2 columns]"
      ]
     },
     "execution_count": 28,
     "metadata": {},
     "output_type": "execute_result"
    }
   ],
   "source": [
    "actor_nobot= actor_nobot.sort_values(by = 'rank', ascending=False)\n",
    "actor_nobot"
   ]
  },
  {
   "cell_type": "code",
   "execution_count": 29,
   "id": "76c1f951-22f7-4f21-aca0-0758cbecc100",
   "metadata": {},
   "outputs": [
    {
     "name": "stdout",
     "output_type": "stream",
     "text": [
      "49307266 https://github.com/wannte\n",
      "28701943 https://github.com/YounghoonKwon\n",
      "50273712 https://github.com/TaewanKimmmm\n",
      "61370901 https://github.com/PapimonLikelion\n",
      "66905013 https://github.com/knae11\n"
     ]
    }
   ],
   "source": [
    "for actor_id in actor_nobot.head(5)['actor_id']:\n",
    "    print(actor_id , \"https://github.com/\" + id2name[actor_id])"
   ]
  },
  {
   "cell_type": "markdown",
   "id": "09c69e6a-f179-48a6-ace0-7ecdee5b6ccc",
   "metadata": {},
   "source": [
    "# compare"
   ]
  },
  {
   "cell_type": "code",
   "execution_count": 30,
   "id": "9af414e8-5299-43d7-ba9e-579baea550c2",
   "metadata": {},
   "outputs": [
    {
     "data": {
      "text/plain": [
       "(0.7965697078035007, 0.0)"
      ]
     },
     "execution_count": 30,
     "metadata": {},
     "output_type": "execute_result"
    }
   ],
   "source": [
    "scipy.stats.pearsonr(data['pagerank'], data['a'])"
   ]
  },
  {
   "cell_type": "code",
   "execution_count": 31,
   "id": "6a372353-7f69-4025-8313-bbe383b72657",
   "metadata": {},
   "outputs": [],
   "source": [
    "alldata = pd.merge(data, actor_nobot,how='inner',left_on='id', right_on = 'actor_id')"
   ]
  },
  {
   "cell_type": "code",
   "execution_count": 32,
   "id": "4a81ac5e-5ca1-415e-b36e-b68ff71fefc0",
   "metadata": {},
   "outputs": [
    {
     "name": "stdout",
     "output_type": "stream",
     "text": [
      "3801775\n",
      "133431\n",
      "105158\n"
     ]
    }
   ],
   "source": [
    "print(len(data))\n",
    "print(len(actor_nobot))\n",
    "print(len(alldata))"
   ]
  },
  {
   "cell_type": "code",
   "execution_count": 33,
   "id": "b81001d5-3b7a-4eef-90df-ceef97b41335",
   "metadata": {},
   "outputs": [
    {
     "data": {
      "text/plain": [
       "(0.7682528981064298, 0.0)"
      ]
     },
     "execution_count": 33,
     "metadata": {},
     "output_type": "execute_result"
    }
   ],
   "source": [
    "scipy.stats.pearsonr(alldata['pagerank'], alldata['a'])"
   ]
  },
  {
   "cell_type": "code",
   "execution_count": 34,
   "id": "bc4f4190-03a9-4bb5-8866-c5319b330e8a",
   "metadata": {},
   "outputs": [
    {
     "data": {
      "text/plain": [
       "(-0.0016157752730159868, 0.600307113329816)"
      ]
     },
     "execution_count": 34,
     "metadata": {},
     "output_type": "execute_result"
    }
   ],
   "source": [
    "scipy.stats.pearsonr(alldata['pagerank'], alldata['rank'])"
   ]
  },
  {
   "cell_type": "code",
   "execution_count": 35,
   "id": "bf5ef6a3-527a-4bf6-b575-51edda10d071",
   "metadata": {},
   "outputs": [
    {
     "data": {
      "text/plain": [
       "(-0.004377401213684017, 0.15575421675986548)"
      ]
     },
     "execution_count": 35,
     "metadata": {},
     "output_type": "execute_result"
    }
   ],
   "source": [
    "scipy.stats.pearsonr(alldata['a'], alldata['rank'])"
   ]
  },
  {
   "cell_type": "markdown",
   "id": "f81c8cc4-bd77-4ded-9bd3-dcddeda0d3fa",
   "metadata": {},
   "source": [
    "因为PageRank与HITS效果相近，所以仅采用PageRank的结果与BurstBiRank的结果相比较"
   ]
  },
  {
   "cell_type": "code",
   "execution_count": 36,
   "id": "b1d32415-5ed9-405d-8389-cc77b531de74",
   "metadata": {},
   "outputs": [
    {
     "data": {
      "text/html": [
       "<div>\n",
       "<style scoped>\n",
       "    .dataframe tbody tr th:only-of-type {\n",
       "        vertical-align: middle;\n",
       "    }\n",
       "\n",
       "    .dataframe tbody tr th {\n",
       "        vertical-align: top;\n",
       "    }\n",
       "\n",
       "    .dataframe thead th {\n",
       "        text-align: right;\n",
       "    }\n",
       "</style>\n",
       "<table border=\"1\" class=\"dataframe\">\n",
       "  <thead>\n",
       "    <tr style=\"text-align: right;\">\n",
       "      <th></th>\n",
       "      <th>id</th>\n",
       "      <th>pagerank</th>\n",
       "      <th>ranking</th>\n",
       "    </tr>\n",
       "  </thead>\n",
       "  <tbody>\n",
       "    <tr>\n",
       "      <th>6200</th>\n",
       "      <td>1024025</td>\n",
       "      <td>1.251692e-02</td>\n",
       "      <td>1.0</td>\n",
       "    </tr>\n",
       "    <tr>\n",
       "      <th>8096</th>\n",
       "      <td>66577</td>\n",
       "      <td>5.819836e-03</td>\n",
       "      <td>2.0</td>\n",
       "    </tr>\n",
       "    <tr>\n",
       "      <th>2613</th>\n",
       "      <td>905434</td>\n",
       "      <td>5.172741e-03</td>\n",
       "      <td>3.0</td>\n",
       "    </tr>\n",
       "    <tr>\n",
       "      <th>1807</th>\n",
       "      <td>499550</td>\n",
       "      <td>5.088732e-03</td>\n",
       "      <td>4.0</td>\n",
       "    </tr>\n",
       "    <tr>\n",
       "      <th>19052</th>\n",
       "      <td>810438</td>\n",
       "      <td>4.136521e-03</td>\n",
       "      <td>5.0</td>\n",
       "    </tr>\n",
       "    <tr>\n",
       "      <th>...</th>\n",
       "      <td>...</td>\n",
       "      <td>...</td>\n",
       "      <td>...</td>\n",
       "    </tr>\n",
       "    <tr>\n",
       "      <th>1875066</th>\n",
       "      <td>39608063</td>\n",
       "      <td>7.992035e-08</td>\n",
       "      <td>3801771.0</td>\n",
       "    </tr>\n",
       "    <tr>\n",
       "      <th>1875067</th>\n",
       "      <td>15761235</td>\n",
       "      <td>7.992035e-08</td>\n",
       "      <td>3801772.0</td>\n",
       "    </tr>\n",
       "    <tr>\n",
       "      <th>1875068</th>\n",
       "      <td>18345327</td>\n",
       "      <td>7.992035e-08</td>\n",
       "      <td>3801773.0</td>\n",
       "    </tr>\n",
       "    <tr>\n",
       "      <th>1875069</th>\n",
       "      <td>15229541</td>\n",
       "      <td>7.992035e-08</td>\n",
       "      <td>3801774.0</td>\n",
       "    </tr>\n",
       "    <tr>\n",
       "      <th>1900887</th>\n",
       "      <td>754594</td>\n",
       "      <td>7.992035e-08</td>\n",
       "      <td>3801775.0</td>\n",
       "    </tr>\n",
       "  </tbody>\n",
       "</table>\n",
       "<p>3801775 rows × 3 columns</p>\n",
       "</div>"
      ],
      "text/plain": [
       "               id      pagerank    ranking\n",
       "6200      1024025  1.251692e-02        1.0\n",
       "8096        66577  5.819836e-03        2.0\n",
       "2613       905434  5.172741e-03        3.0\n",
       "1807       499550  5.088732e-03        4.0\n",
       "19052      810438  4.136521e-03        5.0\n",
       "...           ...           ...        ...\n",
       "1875066  39608063  7.992035e-08  3801771.0\n",
       "1875067  15761235  7.992035e-08  3801772.0\n",
       "1875068  18345327  7.992035e-08  3801773.0\n",
       "1875069  15229541  7.992035e-08  3801774.0\n",
       "1900887    754594  7.992035e-08  3801775.0\n",
       "\n",
       "[3801775 rows x 3 columns]"
      ]
     },
     "execution_count": 36,
     "metadata": {},
     "output_type": "execute_result"
    }
   ],
   "source": [
    "pagerank = data.iloc[:,0:2]\n",
    "pagerank = pagerank.sort_values(by = 'pagerank', ascending=False)\n",
    "pagerank['ranking'] = pagerank['pagerank'].rank(method='first',ascending=False)\n",
    "pagerank"
   ]
  },
  {
   "cell_type": "code",
   "execution_count": 37,
   "id": "023f1041-ed03-423b-88b8-87160cd80c30",
   "metadata": {},
   "outputs": [
    {
     "data": {
      "text/html": [
       "<div>\n",
       "<style scoped>\n",
       "    .dataframe tbody tr th:only-of-type {\n",
       "        vertical-align: middle;\n",
       "    }\n",
       "\n",
       "    .dataframe tbody tr th {\n",
       "        vertical-align: top;\n",
       "    }\n",
       "\n",
       "    .dataframe thead th {\n",
       "        text-align: right;\n",
       "    }\n",
       "</style>\n",
       "<table border=\"1\" class=\"dataframe\">\n",
       "  <thead>\n",
       "    <tr style=\"text-align: right;\">\n",
       "      <th></th>\n",
       "      <th>actor_id</th>\n",
       "      <th>rank</th>\n",
       "      <th>ranking</th>\n",
       "    </tr>\n",
       "  </thead>\n",
       "  <tbody>\n",
       "    <tr>\n",
       "      <th>99065</th>\n",
       "      <td>49307266</td>\n",
       "      <td>1.698802e-02</td>\n",
       "      <td>1.0</td>\n",
       "    </tr>\n",
       "    <tr>\n",
       "      <th>79340</th>\n",
       "      <td>28701943</td>\n",
       "      <td>1.697430e-02</td>\n",
       "      <td>2.0</td>\n",
       "    </tr>\n",
       "    <tr>\n",
       "      <th>99821</th>\n",
       "      <td>50273712</td>\n",
       "      <td>1.671893e-02</td>\n",
       "      <td>3.0</td>\n",
       "    </tr>\n",
       "    <tr>\n",
       "      <th>109843</th>\n",
       "      <td>61370901</td>\n",
       "      <td>1.663876e-02</td>\n",
       "      <td>4.0</td>\n",
       "    </tr>\n",
       "    <tr>\n",
       "      <th>114618</th>\n",
       "      <td>66905013</td>\n",
       "      <td>1.656699e-02</td>\n",
       "      <td>5.0</td>\n",
       "    </tr>\n",
       "    <tr>\n",
       "      <th>...</th>\n",
       "      <td>...</td>\n",
       "      <td>...</td>\n",
       "      <td>...</td>\n",
       "    </tr>\n",
       "    <tr>\n",
       "      <th>112227</th>\n",
       "      <td>63962870</td>\n",
       "      <td>1.347985e-08</td>\n",
       "      <td>133427.0</td>\n",
       "    </tr>\n",
       "    <tr>\n",
       "      <th>112226</th>\n",
       "      <td>63961273</td>\n",
       "      <td>1.347985e-08</td>\n",
       "      <td>133428.0</td>\n",
       "    </tr>\n",
       "    <tr>\n",
       "      <th>112225</th>\n",
       "      <td>63954316</td>\n",
       "      <td>1.347985e-08</td>\n",
       "      <td>133429.0</td>\n",
       "    </tr>\n",
       "    <tr>\n",
       "      <th>55370</th>\n",
       "      <td>11039634</td>\n",
       "      <td>1.347985e-08</td>\n",
       "      <td>133430.0</td>\n",
       "    </tr>\n",
       "    <tr>\n",
       "      <th>66715</th>\n",
       "      <td>17687435</td>\n",
       "      <td>1.347985e-08</td>\n",
       "      <td>133431.0</td>\n",
       "    </tr>\n",
       "  </tbody>\n",
       "</table>\n",
       "<p>133431 rows × 3 columns</p>\n",
       "</div>"
      ],
      "text/plain": [
       "        actor_id          rank   ranking\n",
       "99065   49307266  1.698802e-02       1.0\n",
       "79340   28701943  1.697430e-02       2.0\n",
       "99821   50273712  1.671893e-02       3.0\n",
       "109843  61370901  1.663876e-02       4.0\n",
       "114618  66905013  1.656699e-02       5.0\n",
       "...          ...           ...       ...\n",
       "112227  63962870  1.347985e-08  133427.0\n",
       "112226  63961273  1.347985e-08  133428.0\n",
       "112225  63954316  1.347985e-08  133429.0\n",
       "55370   11039634  1.347985e-08  133430.0\n",
       "66715   17687435  1.347985e-08  133431.0\n",
       "\n",
       "[133431 rows x 3 columns]"
      ]
     },
     "execution_count": 37,
     "metadata": {},
     "output_type": "execute_result"
    }
   ],
   "source": [
    "actor_nobot['ranking'] = actor_nobot['rank'].rank(method='first',ascending=False)\n",
    "actor_nobot"
   ]
  },
  {
   "cell_type": "code",
   "execution_count": 38,
   "id": "2baa6a6f-0218-49d1-a95f-b41801fe8076",
   "metadata": {},
   "outputs": [
    {
     "name": "stdout",
     "output_type": "stream",
     "text": [
      "49307266 147173 3.871165%\n",
      "28701943 56295 1.480756%\n",
      "50273712 50531 1.329142%\n",
      "61370901 144613 3.803828%\n",
      "66905013 107438 2.825996%\n"
     ]
    }
   ],
   "source": [
    "for actor_id in actor_nobot.head(5)['actor_id']:\n",
    "    r = int(pagerank[pagerank['id']==actor_id]['ranking'])\n",
    "    print(actor_id, int(r), \"%.6f%%\" %(int(r)/len(pagerank)*100))"
   ]
  },
  {
   "cell_type": "code",
   "execution_count": 39,
   "id": "b4982c3c-a1fc-4e53-85b5-70a8bf7d1fc5",
   "metadata": {},
   "outputs": [
    {
     "name": "stdout",
     "output_type": "stream",
     "text": [
      "1024025 -1 -1\n",
      "66577 21960 16.457945%\n",
      "905434 -1 -1\n",
      "499550 9810 7.352115%\n",
      "810438 23141 17.343046%\n"
     ]
    }
   ],
   "source": [
    "for actor_id in pagerank.head(5)['id']:\n",
    "    r = actor_nobot[actor_nobot['actor_id']==actor_id]['ranking']\n",
    "    try:\n",
    "        print(actor_id, int(r), \"%.6f%%\" %(int(r)/len(actor_nobot)*100))\n",
    "    except TypeError:\n",
    "        print(actor_id, -1, -1)"
   ]
  },
  {
   "cell_type": "markdown",
   "id": "613cb5fa-c4fb-4507-8afe-707df3a8fdb3",
   "metadata": {},
   "source": [
    "# cheat"
   ]
  },
  {
   "cell_type": "code",
   "execution_count": 40,
   "id": "b0773a16-d322-4505-81c3-355be2e60003",
   "metadata": {},
   "outputs": [
    {
     "data": {
      "text/html": [
       "<div>\n",
       "<style scoped>\n",
       "    .dataframe tbody tr th:only-of-type {\n",
       "        vertical-align: middle;\n",
       "    }\n",
       "\n",
       "    .dataframe tbody tr th {\n",
       "        vertical-align: top;\n",
       "    }\n",
       "\n",
       "    .dataframe thead th {\n",
       "        text-align: right;\n",
       "    }\n",
       "</style>\n",
       "<table border=\"1\" class=\"dataframe\">\n",
       "  <thead>\n",
       "    <tr style=\"text-align: right;\">\n",
       "      <th></th>\n",
       "      <th>id</th>\n",
       "      <th>pagerank</th>\n",
       "      <th>ranking</th>\n",
       "    </tr>\n",
       "  </thead>\n",
       "  <tbody>\n",
       "    <tr>\n",
       "      <th>1735580</th>\n",
       "      <td>87947603</td>\n",
       "      <td>8.580403e-08</td>\n",
       "      <td>760355.0</td>\n",
       "    </tr>\n",
       "    <tr>\n",
       "      <th>1854157</th>\n",
       "      <td>65024265</td>\n",
       "      <td>7.997761e-08</td>\n",
       "      <td>1520710.0</td>\n",
       "    </tr>\n",
       "    <tr>\n",
       "      <th>3037907</th>\n",
       "      <td>93661980</td>\n",
       "      <td>7.992035e-08</td>\n",
       "      <td>2281065.0</td>\n",
       "    </tr>\n",
       "    <tr>\n",
       "      <th>864241</th>\n",
       "      <td>21011899</td>\n",
       "      <td>7.992035e-08</td>\n",
       "      <td>3041420.0</td>\n",
       "    </tr>\n",
       "  </tbody>\n",
       "</table>\n",
       "</div>"
      ],
      "text/plain": [
       "               id      pagerank    ranking\n",
       "1735580  87947603  8.580403e-08   760355.0\n",
       "1854157  65024265  7.997761e-08  1520710.0\n",
       "3037907  93661980  7.992035e-08  2281065.0\n",
       "864241   21011899  7.992035e-08  3041420.0"
      ]
     },
     "execution_count": 40,
     "metadata": {},
     "output_type": "execute_result"
    }
   ],
   "source": [
    "rank_percent_p = [int(i / 100 * len(pagerank)) for i in [20, 40, 60, 80]]\n",
    "p = pagerank[pagerank['ranking'].isin(rank_percent_p)]\n",
    "p"
   ]
  },
  {
   "cell_type": "code",
   "execution_count": 41,
   "id": "5af7e7b0-b76d-4a82-87e5-7601ca2132ff",
   "metadata": {},
   "outputs": [],
   "source": [
    "cheat_pagerank = pd.read_table(\"./result_cheat/pagerank.txt\")"
   ]
  },
  {
   "cell_type": "code",
   "execution_count": 42,
   "id": "6f3a484d-1951-4e34-8d3a-75951f8adb4a",
   "metadata": {},
   "outputs": [],
   "source": [
    "cheat_pagerank['ranking'] = cheat_pagerank['pagerank'].rank(method='first',ascending=False)"
   ]
  },
  {
   "cell_type": "code",
   "execution_count": 43,
   "id": "f5480cc4-a75d-4899-bbb0-aae81a8c525f",
   "metadata": {},
   "outputs": [
    {
     "name": "stdout",
     "output_type": "stream",
     "text": [
      "87947603 19.926824%\n",
      "65024265 34.210994%\n",
      "93661980 39.993871%\n",
      "21011899 56.809727%\n"
     ]
    }
   ],
   "source": [
    "for i in p['id']:\n",
    "    print(i, \"%.6f%%\" %(cheat_pagerank[cheat_pagerank['id']==i]['ranking']/len(cheat_pagerank) * 100))"
   ]
  },
  {
   "cell_type": "code",
   "execution_count": 44,
   "id": "d3e1cd81-8d30-4cbe-a4c6-c8c3636e29db",
   "metadata": {},
   "outputs": [
    {
     "data": {
      "text/html": [
       "<div>\n",
       "<style scoped>\n",
       "    .dataframe tbody tr th:only-of-type {\n",
       "        vertical-align: middle;\n",
       "    }\n",
       "\n",
       "    .dataframe tbody tr th {\n",
       "        vertical-align: top;\n",
       "    }\n",
       "\n",
       "    .dataframe thead th {\n",
       "        text-align: right;\n",
       "    }\n",
       "</style>\n",
       "<table border=\"1\" class=\"dataframe\">\n",
       "  <thead>\n",
       "    <tr style=\"text-align: right;\">\n",
       "      <th></th>\n",
       "      <th>actor_id</th>\n",
       "      <th>rank</th>\n",
       "      <th>ranking</th>\n",
       "    </tr>\n",
       "  </thead>\n",
       "  <tbody>\n",
       "    <tr>\n",
       "      <th>37710</th>\n",
       "      <td>4995967</td>\n",
       "      <td>2.690126e-08</td>\n",
       "      <td>26686.0</td>\n",
       "    </tr>\n",
       "    <tr>\n",
       "      <th>82441</th>\n",
       "      <td>31698676</td>\n",
       "      <td>1.967461e-08</td>\n",
       "      <td>53372.0</td>\n",
       "    </tr>\n",
       "    <tr>\n",
       "      <th>111621</th>\n",
       "      <td>63229723</td>\n",
       "      <td>1.697664e-08</td>\n",
       "      <td>80058.0</td>\n",
       "    </tr>\n",
       "    <tr>\n",
       "      <th>105464</th>\n",
       "      <td>56715417</td>\n",
       "      <td>1.551611e-08</td>\n",
       "      <td>106744.0</td>\n",
       "    </tr>\n",
       "  </tbody>\n",
       "</table>\n",
       "</div>"
      ],
      "text/plain": [
       "        actor_id          rank   ranking\n",
       "37710    4995967  2.690126e-08   26686.0\n",
       "82441   31698676  1.967461e-08   53372.0\n",
       "111621  63229723  1.697664e-08   80058.0\n",
       "105464  56715417  1.551611e-08  106744.0"
      ]
     },
     "execution_count": 44,
     "metadata": {},
     "output_type": "execute_result"
    }
   ],
   "source": [
    "rank_percent_b = [int(i / 100 * len(actor_nobot)) for i in [20, 40, 60, 80]]\n",
    "b = actor_nobot[actor_nobot['ranking'].isin(rank_percent_b)]\n",
    "b"
   ]
  },
  {
   "cell_type": "code",
   "execution_count": 45,
   "id": "1aaf2512-3960-4c2f-b5da-0311751d3fc0",
   "metadata": {},
   "outputs": [],
   "source": [
    "cheat_burstbirank = pd.read_table(\"./result_cheat/burstbirank_nobot_actor.txt\")"
   ]
  },
  {
   "cell_type": "code",
   "execution_count": 46,
   "id": "a180ec07-7fa8-45bb-8dff-8516aab620fc",
   "metadata": {},
   "outputs": [],
   "source": [
    "cheat_burstbirank['ranking'] = cheat_burstbirank['rank'].rank(method='first',ascending=False)"
   ]
  },
  {
   "cell_type": "code",
   "execution_count": 47,
   "id": "e727771a-e598-4e9f-94ab-d90220a61eef",
   "metadata": {},
   "outputs": [
    {
     "name": "stdout",
     "output_type": "stream",
     "text": [
      "4995967 19.999850%\n",
      "31698676 39.999700%\n",
      "63229723 59.999550%\n",
      "56715417 79.999400%\n"
     ]
    }
   ],
   "source": [
    "for i in b['actor_id']:\n",
    "    print(i, \"%.6f%%\" %(cheat_burstbirank[cheat_burstbirank['actor_id']==i]['ranking']/len(cheat_burstbirank) * 100))"
   ]
  },
  {
   "cell_type": "code",
   "execution_count": null,
   "id": "e731195c-30a5-4573-86ed-b08b1b68388e",
   "metadata": {},
   "outputs": [],
   "source": []
  }
 ],
 "metadata": {
  "kernelspec": {
   "display_name": "Python 3 (ipykernel)",
   "language": "python",
   "name": "python3"
  },
  "language_info": {
   "codemirror_mode": {
    "name": "ipython",
    "version": 3
   },
   "file_extension": ".py",
   "mimetype": "text/x-python",
   "name": "python",
   "nbconvert_exporter": "python",
   "pygments_lexer": "ipython3",
   "version": "3.9.7"
  }
 },
 "nbformat": 4,
 "nbformat_minor": 5
}
