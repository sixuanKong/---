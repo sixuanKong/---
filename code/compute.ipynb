{
 "cells": [
  {
   "cell_type": "code",
   "execution_count": 1,
   "id": "fbdb5314-fc9f-43a7-9486-063d11fff799",
   "metadata": {},
   "outputs": [],
   "source": [
    "from select import select\n",
    "from odps import ODPS\n",
    "from odps import options\n",
    "from odps.df import DataFrame\n",
    "\n",
    "import pandas as pd\n",
    "import numpy as np\n",
    "import matplotlib.pyplot as plt\n",
    "import networkx as nx"
   ]
  },
  {
   "cell_type": "code",
   "execution_count": 2,
   "id": "f1836ecd-b88f-4286-b664-2d68dcc86077",
   "metadata": {},
   "outputs": [],
   "source": [
    "ACCESS_ID = 'LTAI5tHDArybZRnXaPS3pdkJ'\n",
    "SECRET_ACCESS_KEY = 'lXXLM2U1dB3ExgKquGUwdGb88WHqkN'\n",
    "ODPS_PROJECT = 'OpenDigger_prod_dev'\n",
    "ODPS_ENDPOINT = 'http://service.cn-shanghai.maxcompute.aliyun.com/api'\n",
    "# ACCESS_ID = 'LTAI5tSjrYp6JDW2bbiTdegU'\n",
    "# SECRET_ACCESS_KEY = 'OE6JbSqOZUey5fzr9Wg6fuYYKvslZx'\n",
    "# 创建odps实例\n",
    "o = ODPS(ACCESS_ID, SECRET_ACCESS_KEY,\n",
    "         project=ODPS_PROJECT, endpoint=ODPS_ENDPOINT)\n",
    "options.tunnel.limit_instance_tunnel = False\n",
    "# options.read_timeout = 3600000"
   ]
  },
  {
   "cell_type": "code",
   "execution_count": 3,
   "id": "7dc53925-1a3f-4b10-8ba3-5e63fbe185c0",
   "metadata": {},
   "outputs": [],
   "source": [
    "users = DataFrame(o.get_table('ods_github_users')).to_pandas()"
   ]
  },
  {
   "cell_type": "code",
   "execution_count": 4,
   "id": "6ccd21c8-8f98-43c6-aeeb-9b5ba85e722e",
   "metadata": {},
   "outputs": [],
   "source": [
    "user_follow = users.loc[:,[\"database_id\",\"followers\",\"following\"]]\n",
    "user_follow_d = user_follow.drop_duplicates()"
   ]
  },
  {
   "cell_type": "code",
   "execution_count": 5,
   "id": "2e2ee28f-decd-4327-acb2-cd3e8be4836a",
   "metadata": {},
   "outputs": [],
   "source": [
    "list_followers = list(map(lambda x: x.split(\",\") if x else None, [i for i in user_follow_d[\"followers\"]]))\n",
    "list_following = list(map(lambda x: x.split(\",\") if x else None, [i for i in user_follow_d[\"following\"]]))\n",
    "list_id = user_follow_d[\"database_id\"].tolist()"
   ]
  },
  {
   "cell_type": "code",
   "execution_count": 6,
   "id": "c3346a36-d103-4862-9da4-706b38b8affa",
   "metadata": {},
   "outputs": [],
   "source": [
    "G = nx.DiGraph()"
   ]
  },
  {
   "cell_type": "code",
   "execution_count": 7,
   "id": "4088696c-34b2-4de7-8c6e-e37524de1516",
   "metadata": {},
   "outputs": [],
   "source": [
    "for database_id, followers, following in user_follow_d.values:\n",
    "    if followers:\n",
    "        followers = followers.split(\",\")\n",
    "        for follower in followers:\n",
    "            G.add_edge(database_id, follower)\n",
    "    if following:\n",
    "        following = following.split(\",\")\n",
    "        for one_following in following:\n",
    "            G.add_edge(one_following, database_id)"
   ]
  },
  {
   "cell_type": "code",
   "execution_count": 8,
   "id": "c8ce19e9-67b7-4713-aa1f-a7a37c36c1f9",
   "metadata": {},
   "outputs": [],
   "source": [
    "# nx.draw(G, with_labels=False)"
   ]
  },
  {
   "cell_type": "code",
   "execution_count": 9,
   "id": "3284ee87-1fbb-4afb-b44c-d1427c66dcbe",
   "metadata": {},
   "outputs": [
    {
     "data": {
      "text/plain": [
       "19069455"
      ]
     },
     "execution_count": 9,
     "metadata": {},
     "output_type": "execute_result"
    }
   ],
   "source": [
    "G.number_of_edges()"
   ]
  },
  {
   "cell_type": "code",
   "execution_count": 10,
   "id": "45db2e06-5a54-4aa2-848b-644fb3be9311",
   "metadata": {},
   "outputs": [
    {
     "data": {
      "text/plain": [
       "3957111"
      ]
     },
     "execution_count": 10,
     "metadata": {},
     "output_type": "execute_result"
    }
   ],
   "source": [
    "G.number_of_nodes()"
   ]
  },
  {
   "cell_type": "code",
   "execution_count": 11,
   "id": "e9262b08-552f-47be-875c-b214802ca652",
   "metadata": {},
   "outputs": [],
   "source": [
    "pr = nx.pagerank(G)"
   ]
  },
  {
   "cell_type": "code",
   "execution_count": 19,
   "id": "579132ef-6f49-4965-a1b6-bd2819f7dab6",
   "metadata": {},
   "outputs": [],
   "source": [
    "sorted_pr = sorted(pr.items(), key= lambda item: item[1], reverse=True)"
   ]
  },
  {
   "cell_type": "code",
   "execution_count": 21,
   "id": "13da5b00-4145-4fff-acdc-bf8af0beb6ab",
   "metadata": {},
   "outputs": [],
   "source": [
    "with open(\"./result/sorted_pagerank.txt\", \"w\") as f:\n",
    "    f.write(\"id\\tpagerank\\n\")\n",
    "    for item in sorted_pr:\n",
    "        f.write(str(item[0])+\"\\t\"+str(item[1])+\"\\n\")"
   ]
  },
  {
   "cell_type": "code",
   "execution_count": 22,
   "id": "88de1869-daef-4f10-97fd-206ba57706b1",
   "metadata": {},
   "outputs": [],
   "source": [
    "with open(\"./result/pagerank.txt\", \"w\") as f:\n",
    "    f.write(\"id\\tpagerank\\n\")\n",
    "    for key in pr:\n",
    "        f.write(str(key)+\"\\t\"+str(pr[key])+\"\\n\")"
   ]
  },
  {
   "cell_type": "code",
   "execution_count": 14,
   "id": "37784270-8a04-4c2f-86e8-ab30b62fed39",
   "metadata": {},
   "outputs": [],
   "source": [
    "from warnings import simplefilter\n",
    "simplefilter(action='ignore', category=FutureWarning)\n",
    "\n",
    "h, a = nx.hits(G)"
   ]
  },
  {
   "cell_type": "code",
   "execution_count": 23,
   "id": "c50b685c-3156-463f-8ecd-327fc4932cf5",
   "metadata": {},
   "outputs": [],
   "source": [
    "with open(\"./result/hits_h.txt\", \"w\") as f:\n",
    "    f.write(\"id\\th\\n\")\n",
    "    for key in h:\n",
    "        f.write(str(key)+\"\\t\"+str(h[key])+\"\\n\")"
   ]
  },
  {
   "cell_type": "code",
   "execution_count": 24,
   "id": "e784864c-f83c-4e87-8d8a-1b0779ffe955",
   "metadata": {},
   "outputs": [],
   "source": [
    "with open(\"./result/hits_a.txt\", \"w\") as f:\n",
    "    f.write(\"id\\ta\\n\")\n",
    "    for key in a:\n",
    "        f.write(str(key)+\"\\t\"+str(a[key])+\"\\n\")"
   ]
  },
  {
   "cell_type": "code",
   "execution_count": null,
   "id": "dc3165ea-5a91-4846-afcb-67ad5086c9a6",
   "metadata": {},
   "outputs": [],
   "source": []
  }
 ],
 "metadata": {
  "kernelspec": {
   "display_name": "Python 3 (ipykernel)",
   "language": "python",
   "name": "python3"
  },
  "language_info": {
   "codemirror_mode": {
    "name": "ipython",
    "version": 3
   },
   "file_extension": ".py",
   "mimetype": "text/x-python",
   "name": "python",
   "nbconvert_exporter": "python",
   "pygments_lexer": "ipython3",
   "version": "3.9.7"
  }
 },
 "nbformat": 4,
 "nbformat_minor": 5
}
