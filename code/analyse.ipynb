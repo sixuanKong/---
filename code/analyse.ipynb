{
 "cells": [
  {
   "cell_type": "code",
   "execution_count": 1,
   "id": "d44e227a-42ee-4f0a-8a7a-34cb470002e7",
   "metadata": {},
   "outputs": [],
   "source": [
    "import pandas as pd\n",
    "import numpy as np\n",
    "import matplotlib.pyplot as plt"
   ]
  },
  {
   "cell_type": "code",
   "execution_count": 2,
   "id": "62287d07-2d2c-49ea-8350-e5e44903f1dc",
   "metadata": {},
   "outputs": [],
   "source": []
  },
  {
   "cell_type": "code",
   "execution_count": 3,
   "id": "643269af-5d89-4455-9b4c-0dcd1d962b66",
   "metadata": {},
   "outputs": [
    {
     "data": {
      "text/html": [
       "<div>\n",
       "<style scoped>\n",
       "    .dataframe tbody tr th:only-of-type {\n",
       "        vertical-align: middle;\n",
       "    }\n",
       "\n",
       "    .dataframe tbody tr th {\n",
       "        vertical-align: top;\n",
       "    }\n",
       "\n",
       "    .dataframe thead th {\n",
       "        text-align: right;\n",
       "    }\n",
       "</style>\n",
       "<table border=\"1\" class=\"dataframe\">\n",
       "  <thead>\n",
       "    <tr style=\"text-align: right;\">\n",
       "      <th></th>\n",
       "      <th>id</th>\n",
       "      <th>pagerank</th>\n",
       "      <th>h</th>\n",
       "      <th>a</th>\n",
       "    </tr>\n",
       "  </thead>\n",
       "  <tbody>\n",
       "    <tr>\n",
       "      <th>0</th>\n",
       "      <td>8517910</td>\n",
       "      <td>1.467260e-07</td>\n",
       "      <td>2.156316e-07</td>\n",
       "      <td>-0.000000e+00</td>\n",
       "    </tr>\n",
       "    <tr>\n",
       "      <th>1</th>\n",
       "      <td>50567111</td>\n",
       "      <td>8.382982e-07</td>\n",
       "      <td>-7.902866e-20</td>\n",
       "      <td>3.431501e-06</td>\n",
       "    </tr>\n",
       "    <tr>\n",
       "      <th>2</th>\n",
       "      <td>61306948</td>\n",
       "      <td>1.704624e-07</td>\n",
       "      <td>-0.000000e+00</td>\n",
       "      <td>2.669589e-09</td>\n",
       "    </tr>\n",
       "    <tr>\n",
       "      <th>3</th>\n",
       "      <td>60854565</td>\n",
       "      <td>2.072571e-07</td>\n",
       "      <td>-0.000000e+00</td>\n",
       "      <td>4.497911e-10</td>\n",
       "    </tr>\n",
       "    <tr>\n",
       "      <th>4</th>\n",
       "      <td>57724193</td>\n",
       "      <td>1.601512e-07</td>\n",
       "      <td>-0.000000e+00</td>\n",
       "      <td>4.534575e-11</td>\n",
       "    </tr>\n",
       "    <tr>\n",
       "      <th>...</th>\n",
       "      <td>...</td>\n",
       "      <td>...</td>\n",
       "      <td>...</td>\n",
       "      <td>...</td>\n",
       "    </tr>\n",
       "    <tr>\n",
       "      <th>3957106</th>\n",
       "      <td>90369758</td>\n",
       "      <td>1.580314e-07</td>\n",
       "      <td>-0.000000e+00</td>\n",
       "      <td>1.965556e-11</td>\n",
       "    </tr>\n",
       "    <tr>\n",
       "      <th>3957107</th>\n",
       "      <td>72910664</td>\n",
       "      <td>1.580314e-07</td>\n",
       "      <td>-0.000000e+00</td>\n",
       "      <td>1.965556e-11</td>\n",
       "    </tr>\n",
       "    <tr>\n",
       "      <th>3957108</th>\n",
       "      <td>72599709</td>\n",
       "      <td>1.580314e-07</td>\n",
       "      <td>-0.000000e+00</td>\n",
       "      <td>1.965556e-11</td>\n",
       "    </tr>\n",
       "    <tr>\n",
       "      <th>3957109</th>\n",
       "      <td>34569793</td>\n",
       "      <td>1.580314e-07</td>\n",
       "      <td>-0.000000e+00</td>\n",
       "      <td>1.965556e-11</td>\n",
       "    </tr>\n",
       "    <tr>\n",
       "      <th>3957110</th>\n",
       "      <td>67463870</td>\n",
       "      <td>1.467260e-07</td>\n",
       "      <td>-1.890156e-22</td>\n",
       "      <td>-0.000000e+00</td>\n",
       "    </tr>\n",
       "  </tbody>\n",
       "</table>\n",
       "<p>3957111 rows × 4 columns</p>\n",
       "</div>"
      ],
      "text/plain": [
       "               id      pagerank             h             a\n",
       "0         8517910  1.467260e-07  2.156316e-07 -0.000000e+00\n",
       "1        50567111  8.382982e-07 -7.902866e-20  3.431501e-06\n",
       "2        61306948  1.704624e-07 -0.000000e+00  2.669589e-09\n",
       "3        60854565  2.072571e-07 -0.000000e+00  4.497911e-10\n",
       "4        57724193  1.601512e-07 -0.000000e+00  4.534575e-11\n",
       "...           ...           ...           ...           ...\n",
       "3957106  90369758  1.580314e-07 -0.000000e+00  1.965556e-11\n",
       "3957107  72910664  1.580314e-07 -0.000000e+00  1.965556e-11\n",
       "3957108  72599709  1.580314e-07 -0.000000e+00  1.965556e-11\n",
       "3957109  34569793  1.580314e-07 -0.000000e+00  1.965556e-11\n",
       "3957110  67463870  1.467260e-07 -1.890156e-22 -0.000000e+00\n",
       "\n",
       "[3957111 rows x 4 columns]"
      ]
     },
     "execution_count": 3,
     "metadata": {},
     "output_type": "execute_result"
    }
   ],
   "source": [
    "data = pd.read_table(\"./result/pagerank.txt\")\n",
    "hist_a = pd.read_table(\"./result/hits_a.txt\")\n",
    "hist_h = pd.read_table(\"./result/hits_h.txt\")\n",
    "data['h'] = hist_h['h']\n",
    "data['a'] = hist_a['a']\n",
    "data"
   ]
  },
  {
   "cell_type": "code",
   "execution_count": 4,
   "id": "0e88b422-4130-440f-861d-1bb738584e82",
   "metadata": {},
   "outputs": [
    {
     "data": {
      "text/html": [
       "<div>\n",
       "<style scoped>\n",
       "    .dataframe tbody tr th:only-of-type {\n",
       "        vertical-align: middle;\n",
       "    }\n",
       "\n",
       "    .dataframe tbody tr th {\n",
       "        vertical-align: top;\n",
       "    }\n",
       "\n",
       "    .dataframe thead th {\n",
       "        text-align: right;\n",
       "    }\n",
       "</style>\n",
       "<table border=\"1\" class=\"dataframe\">\n",
       "  <thead>\n",
       "    <tr style=\"text-align: right;\">\n",
       "      <th></th>\n",
       "      <th>pagerank</th>\n",
       "      <th>h</th>\n",
       "      <th>a</th>\n",
       "    </tr>\n",
       "  </thead>\n",
       "  <tbody>\n",
       "    <tr>\n",
       "      <th>count</th>\n",
       "      <td>3.957111e+06</td>\n",
       "      <td>3.957111e+06</td>\n",
       "      <td>3.957111e+06</td>\n",
       "    </tr>\n",
       "    <tr>\n",
       "      <th>mean</th>\n",
       "      <td>2.527096e-07</td>\n",
       "      <td>2.527096e-07</td>\n",
       "      <td>2.527096e-07</td>\n",
       "    </tr>\n",
       "    <tr>\n",
       "      <th>std</th>\n",
       "      <td>7.159360e-06</td>\n",
       "      <td>9.017240e-06</td>\n",
       "      <td>8.493623e-07</td>\n",
       "    </tr>\n",
       "    <tr>\n",
       "      <th>min</th>\n",
       "      <td>1.467260e-07</td>\n",
       "      <td>-9.433406e-18</td>\n",
       "      <td>-8.096122e-18</td>\n",
       "    </tr>\n",
       "    <tr>\n",
       "      <th>25%</th>\n",
       "      <td>1.467482e-07</td>\n",
       "      <td>-5.410321e-23</td>\n",
       "      <td>1.415745e-11</td>\n",
       "    </tr>\n",
       "    <tr>\n",
       "      <th>50%</th>\n",
       "      <td>1.474529e-07</td>\n",
       "      <td>0.000000e+00</td>\n",
       "      <td>5.821920e-09</td>\n",
       "    </tr>\n",
       "    <tr>\n",
       "      <th>75%</th>\n",
       "      <td>1.531677e-07</td>\n",
       "      <td>-0.000000e+00</td>\n",
       "      <td>8.674424e-08</td>\n",
       "    </tr>\n",
       "    <tr>\n",
       "      <th>max</th>\n",
       "      <td>5.862306e-03</td>\n",
       "      <td>9.376403e-03</td>\n",
       "      <td>1.212056e-04</td>\n",
       "    </tr>\n",
       "  </tbody>\n",
       "</table>\n",
       "</div>"
      ],
      "text/plain": [
       "           pagerank             h             a\n",
       "count  3.957111e+06  3.957111e+06  3.957111e+06\n",
       "mean   2.527096e-07  2.527096e-07  2.527096e-07\n",
       "std    7.159360e-06  9.017240e-06  8.493623e-07\n",
       "min    1.467260e-07 -9.433406e-18 -8.096122e-18\n",
       "25%    1.467482e-07 -5.410321e-23  1.415745e-11\n",
       "50%    1.474529e-07  0.000000e+00  5.821920e-09\n",
       "75%    1.531677e-07 -0.000000e+00  8.674424e-08\n",
       "max    5.862306e-03  9.376403e-03  1.212056e-04"
      ]
     },
     "execution_count": 4,
     "metadata": {},
     "output_type": "execute_result"
    }
   ],
   "source": [
    "data.iloc[:,1:].describe()"
   ]
  },
  {
   "cell_type": "code",
   "execution_count": 5,
   "id": "b0e947fd-1dd7-473b-8662-0990583a07b1",
   "metadata": {},
   "outputs": [],
   "source": [
    "delta = 1"
   ]
  },
  {
   "cell_type": "code",
   "execution_count": 6,
   "id": "c991a265-1c8f-439a-89db-91a7012dd673",
   "metadata": {},
   "outputs": [
    {
     "data": {
      "image/png": "[encoded data removed]",
      "text/plain": [
       "<Figure size 432x288 with 1 Axes>"
      ]
     },
     "metadata": {
      "needs_background": "light"
     },
     "output_type": "display_data"
    }
   ],
   "source": [
    "plt.hist(np.log10(data['pagerank']*10e7+delta))\n",
    "plt.show()"
   ]
  },
  {
   "cell_type": "code",
   "execution_count": 7,
   "id": "a6e70e83-90b6-404e-a694-073de4af7d26",
   "metadata": {},
   "outputs": [
    {
     "data": {
      "image/png": "[encoded data removed]",
      "text/plain": [
       "<Figure size 432x288 with 1 Axes>"
      ]
     },
     "metadata": {
      "needs_background": "light"
     },
     "output_type": "display_data"
    }
   ],
   "source": [
    "plt.hist(np.log10(data['h']*10e7+delta))\n",
    "plt.show()"
   ]
  },
  {
   "cell_type": "code",
   "execution_count": 8,
   "id": "94ceb831-5408-4ede-970e-f07e54c8a266",
   "metadata": {},
   "outputs": [
    {
     "data": {
      "image/png": "[encoded data removed]",
      "text/plain": [
       "<Figure size 432x288 with 1 Axes>"
      ]
     },
     "metadata": {
      "needs_background": "light"
     },
     "output_type": "display_data"
    }
   ],
   "source": [
    "plt.hist(np.log10(data['a']*10e7+delta))\n",
    "plt.show()"
   ]
  },
  {
   "cell_type": "code",
   "execution_count": 9,
   "id": "364998d4-81df-4bd6-93f0-442fac708694",
   "metadata": {},
   "outputs": [],
   "source": [
    "def mainpage(id):\n",
    "    sql = \"select login from ods_github_users where database_id = %s\" % id\n",
    "    with o.execute_sql(sql).open_reader() as reader:\n",
    "        for record in reader:\n",
    "            return \"https://github.com/\" + record.login"
   ]
  },
  {
   "cell_type": "code",
   "execution_count": 10,
   "id": "301f762a-b14f-4bba-9d94-a3d783b25770",
   "metadata": {},
   "outputs": [
    {
     "data": {
      "text/html": [
       "<div>\n",
       "<style scoped>\n",
       "    .dataframe tbody tr th:only-of-type {\n",
       "        vertical-align: middle;\n",
       "    }\n",
       "\n",
       "    .dataframe tbody tr th {\n",
       "        vertical-align: top;\n",
       "    }\n",
       "\n",
       "    .dataframe thead th {\n",
       "        text-align: right;\n",
       "    }\n",
       "</style>\n",
       "<table border=\"1\" class=\"dataframe\">\n",
       "  <thead>\n",
       "    <tr style=\"text-align: right;\">\n",
       "      <th></th>\n",
       "      <th>id</th>\n",
       "      <th>pagerank</th>\n",
       "      <th>h</th>\n",
       "      <th>a</th>\n",
       "    </tr>\n",
       "  </thead>\n",
       "  <tbody>\n",
       "    <tr>\n",
       "      <th>2513522</th>\n",
       "      <td>14808551</td>\n",
       "      <td>0.003446</td>\n",
       "      <td>0.000123</td>\n",
       "      <td>-3.477674e-18</td>\n",
       "    </tr>\n",
       "    <tr>\n",
       "      <th>3228517</th>\n",
       "      <td>74522790</td>\n",
       "      <td>0.003875</td>\n",
       "      <td>0.000143</td>\n",
       "      <td>-3.562348e-18</td>\n",
       "    </tr>\n",
       "    <tr>\n",
       "      <th>2310471</th>\n",
       "      <td>9830365</td>\n",
       "      <td>0.004075</td>\n",
       "      <td>0.000130</td>\n",
       "      <td>-2.211579e-18</td>\n",
       "    </tr>\n",
       "    <tr>\n",
       "      <th>2070535</th>\n",
       "      <td>552936</td>\n",
       "      <td>0.004829</td>\n",
       "      <td>0.000111</td>\n",
       "      <td>-8.096122e-18</td>\n",
       "    </tr>\n",
       "    <tr>\n",
       "      <th>1510876</th>\n",
       "      <td>250445</td>\n",
       "      <td>0.005862</td>\n",
       "      <td>0.000109</td>\n",
       "      <td>2.289044e-18</td>\n",
       "    </tr>\n",
       "  </tbody>\n",
       "</table>\n",
       "</div>"
      ],
      "text/plain": [
       "               id  pagerank         h             a\n",
       "2513522  14808551  0.003446  0.000123 -3.477674e-18\n",
       "3228517  74522790  0.003875  0.000143 -3.562348e-18\n",
       "2310471   9830365  0.004075  0.000130 -2.211579e-18\n",
       "2070535    552936  0.004829  0.000111 -8.096122e-18\n",
       "1510876    250445  0.005862  0.000109  2.289044e-18"
      ]
     },
     "execution_count": 10,
     "metadata": {},
     "output_type": "execute_result"
    }
   ],
   "source": [
    "data.sort_values(by = 'pagerank').tail(5)"
   ]
  },
  {
   "cell_type": "code",
   "execution_count": 11,
   "id": "f5a0f6c7-43aa-4d6c-8262-c2f219b71c50",
   "metadata": {},
   "outputs": [
    {
     "name": "stdout",
     "output_type": "stream",
     "text": [
      "14808551 https://github.com/Lisprez\n",
      "74522790 https://github.com/snowwhite-boss\n",
      "9830365 https://github.com/dplewis\n",
      "552936 https://github.com/mbautin\n",
      "250445 https://github.com/batermj\n"
     ]
    }
   ],
   "source": [
    "for user_id in data.sort_values(by = 'pagerank').tail(5)['id']:\n",
    "    print(user_id, end=\" \")\n",
    "    print(mainpage(user_id))"
   ]
  },
  {
   "cell_type": "code",
   "execution_count": 12,
   "id": "1916f54b-265b-4ae6-9285-9d1c5f6c03d1",
   "metadata": {},
   "outputs": [
    {
     "name": "stdout",
     "output_type": "stream",
     "text": [
      "170270 https://github.com/sindresorhus\n",
      "905434 https://github.com/ruanyf\n",
      "810438 https://github.com/gaearon\n",
      "499550 https://github.com/yyx990803\n",
      "1024025 https://github.com/torvalds\n"
     ]
    }
   ],
   "source": [
    "for user_id in data.sort_values(by = 'h').tail(5)['id']:\n",
    "    print(user_id, end=\" \")\n",
    "    print(mainpage(user_id))"
   ]
  },
  {
   "cell_type": "code",
   "execution_count": 13,
   "id": "2a1c212c-2aa2-4744-9c63-9372337437ba",
   "metadata": {},
   "outputs": [
    {
     "name": "stdout",
     "output_type": "stream",
     "text": [
      "250445 https://github.com/batermj\n",
      "3076393 None\n",
      "5877145 None\n",
      "43415053 None\n",
      "14808551 https://github.com/Lisprez\n"
     ]
    }
   ],
   "source": [
    "for user_id in data.sort_values(by = 'a').tail(5)['id']:\n",
    "    print(user_id, end=\" \")\n",
    "    print(mainpage(user_id))"
   ]
  },
  {
   "cell_type": "code",
   "execution_count": null,
   "id": "8366f5c1-d938-4b5b-bf50-d63895721f8b",
   "metadata": {},
   "outputs": [],
   "source": []
  }
 ],
 "metadata": {
  "kernelspec": {
   "display_name": "Python 3 (ipykernel)",
   "language": "python",
   "name": "python3"
  },
  "language_info": {
   "codemirror_mode": {
    "name": "ipython",
    "version": 3
   },
   "file_extension": ".py",
   "mimetype": "text/x-python",
   "name": "python",
   "nbconvert_exporter": "python",
   "pygments_lexer": "ipython3",
   "version": "3.9.7"
  }
 },
 "nbformat": 4,
 "nbformat_minor": 5
}
