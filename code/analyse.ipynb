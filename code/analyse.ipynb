{
 "cells": [
  {
   "cell_type": "code",
   "execution_count": 1,
   "id": "d44e227a-42ee-4f0a-8a7a-34cb470002e7",
   "metadata": {},
   "outputs": [],
   "source": [
    "import pandas as pd\n",
    "import numpy as np\n",
    "import matplotlib.pyplot as plt"
   ]
  },
  {
   "cell_type": "code",
   "execution_count": 2,
   "id": "62287d07-2d2c-49ea-8350-e5e44903f1dc",
   "metadata": {},
   "outputs": [],
   "source": [
    "from utils.connect  import connect\n",
    "o = connect()"
   ]
  },
  {
   "cell_type": "code",
   "execution_count": 3,
   "id": "643269af-5d89-4455-9b4c-0dcd1d962b66",
   "metadata": {},
   "outputs": [
    {
     "data": {
      "text/html": [
       "<div>\n",
       "<style scoped>\n",
       "    .dataframe tbody tr th:only-of-type {\n",
       "        vertical-align: middle;\n",
       "    }\n",
       "\n",
       "    .dataframe tbody tr th {\n",
       "        vertical-align: top;\n",
       "    }\n",
       "\n",
       "    .dataframe thead th {\n",
       "        text-align: right;\n",
       "    }\n",
       "</style>\n",
       "<table border=\"1\" class=\"dataframe\">\n",
       "  <thead>\n",
       "    <tr style=\"text-align: right;\">\n",
       "      <th></th>\n",
       "      <th>id</th>\n",
       "      <th>pagerank</th>\n",
       "      <th>h</th>\n",
       "      <th>a</th>\n",
       "    </tr>\n",
       "  </thead>\n",
       "  <tbody>\n",
       "    <tr>\n",
       "      <th>0</th>\n",
       "      <td>50567111</td>\n",
       "      <td>1.714631e-06</td>\n",
       "      <td>4.376455e-06</td>\n",
       "      <td>1.175334e-06</td>\n",
       "    </tr>\n",
       "    <tr>\n",
       "      <th>1</th>\n",
       "      <td>8517910</td>\n",
       "      <td>1.999484e-06</td>\n",
       "      <td>0.000000e+00</td>\n",
       "      <td>7.507156e-08</td>\n",
       "    </tr>\n",
       "    <tr>\n",
       "      <th>2</th>\n",
       "      <td>61306948</td>\n",
       "      <td>7.992035e-08</td>\n",
       "      <td>4.133725e-09</td>\n",
       "      <td>0.000000e+00</td>\n",
       "    </tr>\n",
       "    <tr>\n",
       "      <th>3</th>\n",
       "      <td>60854565</td>\n",
       "      <td>7.992035e-08</td>\n",
       "      <td>4.688124e-10</td>\n",
       "      <td>0.000000e+00</td>\n",
       "    </tr>\n",
       "    <tr>\n",
       "      <th>4</th>\n",
       "      <td>57724193</td>\n",
       "      <td>7.992035e-08</td>\n",
       "      <td>4.808973e-11</td>\n",
       "      <td>0.000000e+00</td>\n",
       "    </tr>\n",
       "    <tr>\n",
       "      <th>...</th>\n",
       "      <td>...</td>\n",
       "      <td>...</td>\n",
       "      <td>...</td>\n",
       "      <td>...</td>\n",
       "    </tr>\n",
       "    <tr>\n",
       "      <th>3801770</th>\n",
       "      <td>90369758</td>\n",
       "      <td>7.992035e-08</td>\n",
       "      <td>1.935796e-11</td>\n",
       "      <td>0.000000e+00</td>\n",
       "    </tr>\n",
       "    <tr>\n",
       "      <th>3801771</th>\n",
       "      <td>72910664</td>\n",
       "      <td>7.992035e-08</td>\n",
       "      <td>1.935796e-11</td>\n",
       "      <td>0.000000e+00</td>\n",
       "    </tr>\n",
       "    <tr>\n",
       "      <th>3801772</th>\n",
       "      <td>72599709</td>\n",
       "      <td>7.992035e-08</td>\n",
       "      <td>1.935796e-11</td>\n",
       "      <td>0.000000e+00</td>\n",
       "    </tr>\n",
       "    <tr>\n",
       "      <th>3801773</th>\n",
       "      <td>34569793</td>\n",
       "      <td>7.992035e-08</td>\n",
       "      <td>1.935796e-11</td>\n",
       "      <td>0.000000e+00</td>\n",
       "    </tr>\n",
       "    <tr>\n",
       "      <th>3801774</th>\n",
       "      <td>67463870</td>\n",
       "      <td>1.078678e-07</td>\n",
       "      <td>0.000000e+00</td>\n",
       "      <td>3.577681e-09</td>\n",
       "    </tr>\n",
       "  </tbody>\n",
       "</table>\n",
       "<p>3801775 rows × 4 columns</p>\n",
       "</div>"
      ],
      "text/plain": [
       "               id      pagerank             h             a\n",
       "0        50567111  1.714631e-06  4.376455e-06  1.175334e-06\n",
       "1         8517910  1.999484e-06  0.000000e+00  7.507156e-08\n",
       "2        61306948  7.992035e-08  4.133725e-09  0.000000e+00\n",
       "3        60854565  7.992035e-08  4.688124e-10  0.000000e+00\n",
       "4        57724193  7.992035e-08  4.808973e-11  0.000000e+00\n",
       "...           ...           ...           ...           ...\n",
       "3801770  90369758  7.992035e-08  1.935796e-11  0.000000e+00\n",
       "3801771  72910664  7.992035e-08  1.935796e-11  0.000000e+00\n",
       "3801772  72599709  7.992035e-08  1.935796e-11  0.000000e+00\n",
       "3801773  34569793  7.992035e-08  1.935796e-11  0.000000e+00\n",
       "3801774  67463870  1.078678e-07  0.000000e+00  3.577681e-09\n",
       "\n",
       "[3801775 rows x 4 columns]"
      ]
     },
     "execution_count": 3,
     "metadata": {},
     "output_type": "execute_result"
    }
   ],
   "source": [
    "data = pd.read_table(\"./result/pagerank.txt\")\n",
    "hist_a = pd.read_table(\"./result/hits_a.txt\")\n",
    "hist_h = pd.read_table(\"./result/hits_h.txt\")\n",
    "data['h'] = hist_h['h']\n",
    "data['a'] = hist_a['a']\n",
    "data"
   ]
  },
  {
   "cell_type": "code",
   "execution_count": 4,
   "id": "0e88b422-4130-440f-861d-1bb738584e82",
   "metadata": {},
   "outputs": [
    {
     "data": {
      "text/html": [
       "<div>\n",
       "<style scoped>\n",
       "    .dataframe tbody tr th:only-of-type {\n",
       "        vertical-align: middle;\n",
       "    }\n",
       "\n",
       "    .dataframe tbody tr th {\n",
       "        vertical-align: top;\n",
       "    }\n",
       "\n",
       "    .dataframe thead th {\n",
       "        text-align: right;\n",
       "    }\n",
       "</style>\n",
       "<table border=\"1\" class=\"dataframe\">\n",
       "  <thead>\n",
       "    <tr style=\"text-align: right;\">\n",
       "      <th></th>\n",
       "      <th>pagerank</th>\n",
       "      <th>h</th>\n",
       "      <th>a</th>\n",
       "    </tr>\n",
       "  </thead>\n",
       "  <tbody>\n",
       "    <tr>\n",
       "      <th>count</th>\n",
       "      <td>3.801775e+06</td>\n",
       "      <td>3.801775e+06</td>\n",
       "      <td>3.801775e+06</td>\n",
       "    </tr>\n",
       "    <tr>\n",
       "      <th>mean</th>\n",
       "      <td>2.630350e-07</td>\n",
       "      <td>2.630350e-07</td>\n",
       "      <td>2.630350e-07</td>\n",
       "    </tr>\n",
       "    <tr>\n",
       "      <th>std</th>\n",
       "      <td>1.035325e-05</td>\n",
       "      <td>9.151808e-07</td>\n",
       "      <td>3.098953e-06</td>\n",
       "    </tr>\n",
       "    <tr>\n",
       "      <th>min</th>\n",
       "      <td>7.992035e-08</td>\n",
       "      <td>-7.552653e-25</td>\n",
       "      <td>-1.900506e-22</td>\n",
       "    </tr>\n",
       "    <tr>\n",
       "      <th>25%</th>\n",
       "      <td>7.992035e-08</td>\n",
       "      <td>1.368570e-10</td>\n",
       "      <td>0.000000e+00</td>\n",
       "    </tr>\n",
       "    <tr>\n",
       "      <th>50%</th>\n",
       "      <td>7.992035e-08</td>\n",
       "      <td>8.886910e-09</td>\n",
       "      <td>0.000000e+00</td>\n",
       "    </tr>\n",
       "    <tr>\n",
       "      <th>75%</th>\n",
       "      <td>8.279140e-08</td>\n",
       "      <td>1.038977e-07</td>\n",
       "      <td>4.657859e-08</td>\n",
       "    </tr>\n",
       "    <tr>\n",
       "      <th>max</th>\n",
       "      <td>1.251692e-02</td>\n",
       "      <td>2.618888e-04</td>\n",
       "      <td>2.847239e-03</td>\n",
       "    </tr>\n",
       "  </tbody>\n",
       "</table>\n",
       "</div>"
      ],
      "text/plain": [
       "           pagerank             h             a\n",
       "count  3.801775e+06  3.801775e+06  3.801775e+06\n",
       "mean   2.630350e-07  2.630350e-07  2.630350e-07\n",
       "std    1.035325e-05  9.151808e-07  3.098953e-06\n",
       "min    7.992035e-08 -7.552653e-25 -1.900506e-22\n",
       "25%    7.992035e-08  1.368570e-10  0.000000e+00\n",
       "50%    7.992035e-08  8.886910e-09  0.000000e+00\n",
       "75%    8.279140e-08  1.038977e-07  4.657859e-08\n",
       "max    1.251692e-02  2.618888e-04  2.847239e-03"
      ]
     },
     "execution_count": 4,
     "metadata": {},
     "output_type": "execute_result"
    }
   ],
   "source": [
    "data.iloc[:,1:].describe()"
   ]
  },
  {
   "cell_type": "code",
   "execution_count": 5,
   "id": "b0e947fd-1dd7-473b-8662-0990583a07b1",
   "metadata": {},
   "outputs": [],
   "source": [
    "delta = 1"
   ]
  },
  {
   "cell_type": "code",
   "execution_count": 6,
   "id": "c991a265-1c8f-439a-89db-91a7012dd673",
   "metadata": {},
   "outputs": [
    {
     "data": {
      "image/png": "[encoded data removed]",
      "text/plain": [
       "<Figure size 432x288 with 1 Axes>"
      ]
     },
     "metadata": {
      "needs_background": "light"
     },
     "output_type": "display_data"
    }
   ],
   "source": [
    "plt.hist(np.log10(data['pagerank']*10e7+delta))\n",
    "plt.show()"
   ]
  },
  {
   "cell_type": "code",
   "execution_count": 7,
   "id": "a6e70e83-90b6-404e-a694-073de4af7d26",
   "metadata": {},
   "outputs": [
    {
     "data": {
      "image/png": "[encoded data removed]",
      "text/plain": [
       "<Figure size 432x288 with 1 Axes>"
      ]
     },
     "metadata": {
      "needs_background": "light"
     },
     "output_type": "display_data"
    }
   ],
   "source": [
    "plt.hist(np.log10(data['h']*10e7+delta))\n",
    "plt.show()"
   ]
  },
  {
   "cell_type": "code",
   "execution_count": 8,
   "id": "94ceb831-5408-4ede-970e-f07e54c8a266",
   "metadata": {},
   "outputs": [
    {
     "data": {
      "image/png": "[encoded data removed]",
      "text/plain": [
       "<Figure size 432x288 with 1 Axes>"
      ]
     },
     "metadata": {
      "needs_background": "light"
     },
     "output_type": "display_data"
    }
   ],
   "source": [
    "plt.hist(np.log10(data['a']*10e7+delta))\n",
    "plt.show()"
   ]
  },
  {
   "cell_type": "code",
   "execution_count": 9,
   "id": "364998d4-81df-4bd6-93f0-442fac708694",
   "metadata": {},
   "outputs": [],
   "source": [
    "def mainpage(id):\n",
    "    sql = \"select login from ods_github_users where database_id = %s\" % id\n",
    "    with o.execute_sql(sql).open_reader() as reader:\n",
    "        for record in reader:\n",
    "            return \"https://github.com/\" + record.login"
   ]
  },
  {
   "cell_type": "code",
   "execution_count": 10,
   "id": "301f762a-b14f-4bba-9d94-a3d783b25770",
   "metadata": {},
   "outputs": [
    {
     "data": {
      "text/html": [
       "<div>\n",
       "<style scoped>\n",
       "    .dataframe tbody tr th:only-of-type {\n",
       "        vertical-align: middle;\n",
       "    }\n",
       "\n",
       "    .dataframe tbody tr th {\n",
       "        vertical-align: top;\n",
       "    }\n",
       "\n",
       "    .dataframe thead th {\n",
       "        text-align: right;\n",
       "    }\n",
       "</style>\n",
       "<table border=\"1\" class=\"dataframe\">\n",
       "  <thead>\n",
       "    <tr style=\"text-align: right;\">\n",
       "      <th></th>\n",
       "      <th>id</th>\n",
       "      <th>pagerank</th>\n",
       "      <th>h</th>\n",
       "      <th>a</th>\n",
       "    </tr>\n",
       "  </thead>\n",
       "  <tbody>\n",
       "    <tr>\n",
       "      <th>19052</th>\n",
       "      <td>810438</td>\n",
       "      <td>0.004137</td>\n",
       "      <td>4.104238e-06</td>\n",
       "      <td>0.001466</td>\n",
       "    </tr>\n",
       "    <tr>\n",
       "      <th>1807</th>\n",
       "      <td>499550</td>\n",
       "      <td>0.005089</td>\n",
       "      <td>8.645806e-06</td>\n",
       "      <td>0.001641</td>\n",
       "    </tr>\n",
       "    <tr>\n",
       "      <th>2613</th>\n",
       "      <td>905434</td>\n",
       "      <td>0.005173</td>\n",
       "      <td>0.000000e+00</td>\n",
       "      <td>0.001180</td>\n",
       "    </tr>\n",
       "    <tr>\n",
       "      <th>8096</th>\n",
       "      <td>66577</td>\n",
       "      <td>0.005820</td>\n",
       "      <td>3.916010e-07</td>\n",
       "      <td>0.000728</td>\n",
       "    </tr>\n",
       "    <tr>\n",
       "      <th>6200</th>\n",
       "      <td>1024025</td>\n",
       "      <td>0.012517</td>\n",
       "      <td>0.000000e+00</td>\n",
       "      <td>0.002847</td>\n",
       "    </tr>\n",
       "  </tbody>\n",
       "</table>\n",
       "</div>"
      ],
      "text/plain": [
       "            id  pagerank             h         a\n",
       "19052   810438  0.004137  4.104238e-06  0.001466\n",
       "1807    499550  0.005089  8.645806e-06  0.001641\n",
       "2613    905434  0.005173  0.000000e+00  0.001180\n",
       "8096     66577  0.005820  3.916010e-07  0.000728\n",
       "6200   1024025  0.012517  0.000000e+00  0.002847"
      ]
     },
     "execution_count": 10,
     "metadata": {},
     "output_type": "execute_result"
    }
   ],
   "source": [
    "data.sort_values(by = 'pagerank').tail(5)"
   ]
  },
  {
   "cell_type": "code",
   "execution_count": 11,
   "id": "f5a0f6c7-43aa-4d6c-8262-c2f219b71c50",
   "metadata": {},
   "outputs": [
    {
     "name": "stdout",
     "output_type": "stream",
     "text": [
      "810438 https://github.com/gaearon\n",
      "499550 https://github.com/yyx990803\n",
      "905434 https://github.com/ruanyf\n",
      "66577 https://github.com/JakeWharton\n",
      "1024025 https://github.com/torvalds\n"
     ]
    }
   ],
   "source": [
    "for user_id in data.sort_values(by = 'pagerank').tail(5)['id']:\n",
    "    print(user_id, end=\" \")\n",
    "    print(mainpage(user_id))"
   ]
  },
  {
   "cell_type": "code",
   "execution_count": 12,
   "id": "1916f54b-265b-4ae6-9285-9d1c5f6c03d1",
   "metadata": {},
   "outputs": [
    {
     "name": "stdout",
     "output_type": "stream",
     "text": [
      "18233711 https://github.com/justStarNew\n",
      "14338588 https://github.com/AlexxNica\n",
      "4624113 https://github.com/Magicianred\n",
      "250445 https://github.com/batermj\n",
      "14808551 https://github.com/Lisprez\n"
     ]
    }
   ],
   "source": [
    "for user_id in data.sort_values(by = 'h').tail(5)['id']:\n",
    "    print(user_id, end=\" \")\n",
    "    print(mainpage(user_id))"
   ]
  },
  {
   "cell_type": "code",
   "execution_count": 13,
   "id": "2a1c212c-2aa2-4744-9c63-9372337437ba",
   "metadata": {},
   "outputs": [
    {
     "name": "stdout",
     "output_type": "stream",
     "text": [
      "170270 https://github.com/sindresorhus\n",
      "905434 https://github.com/ruanyf\n",
      "810438 https://github.com/gaearon\n",
      "499550 https://github.com/yyx990803\n",
      "1024025 https://github.com/torvalds\n"
     ]
    }
   ],
   "source": [
    "for user_id in data.sort_values(by = 'a').tail(5)['id']:\n",
    "    print(user_id, end=\" \")\n",
    "    print(mainpage(user_id))"
   ]
  },
  {
   "cell_type": "code",
   "execution_count": null,
   "id": "8366f5c1-d938-4b5b-bf50-d63895721f8b",
   "metadata": {},
   "outputs": [],
   "source": []
  },
  {
   "cell_type": "code",
   "execution_count": null,
   "id": "dec3abff-5d78-4063-86e8-56d915848d34",
   "metadata": {},
   "outputs": [],
   "source": []
  }
 ],
 "metadata": {
  "kernelspec": {
   "display_name": "Python 3 (ipykernel)",
   "language": "python",
   "name": "python3"
  },
  "language_info": {
   "codemirror_mode": {
    "name": "ipython",
    "version": 3
   },
   "file_extension": ".py",
   "mimetype": "text/x-python",
   "name": "python",
   "nbconvert_exporter": "python",
   "pygments_lexer": "ipython3",
   "version": "3.9.7"
  }
 },
 "nbformat": 4,
 "nbformat_minor": 5
}
