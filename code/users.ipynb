{
 "cells": [
  {
   "cell_type": "code",
   "execution_count": 1,
   "id": "5226388b-5d3f-4a37-aeda-459049361fd6",
   "metadata": {},
   "outputs": [],
   "source": [
    "from utils.connect import connect\n",
    "\n",
    "from odps.df import DataFrame\n",
    "import pandas as pd\n",
    "import numpy as np\n",
    "import matplotlib.pyplot as plt"
   ]
  },
  {
   "cell_type": "code",
   "execution_count": 2,
   "id": "44bb19ce-5543-4cfd-979b-bfea19303bd3",
   "metadata": {},
   "outputs": [],
   "source": [
    "o = connect()"
   ]
  },
  {
   "cell_type": "code",
   "execution_count": 3,
   "id": "6838abd7-8dc0-447c-b0e4-549382826bd6",
   "metadata": {},
   "outputs": [
    {
     "name": "stdout",
     "output_type": "stream",
     "text": [
      "odps.Schema {\n",
      "  login                     string        \n",
      "  created_at                date          \n",
      "  database_id               int64         \n",
      "  location                  string        \n",
      "  company                   string        \n",
      "  bio                       string        \n",
      "  is_employee               boolean       \n",
      "  email                     string        \n",
      "  infoname                  string        \n",
      "  followers                 string        \n",
      "  following                 string        \n",
      "  time                      date          \n",
      "  name                      string        \n",
      "  lastupdatedat             date          \n",
      "  nextupdateat              date          \n",
      "}\n",
      "\n"
     ]
    }
   ],
   "source": [
    "users = DataFrame(o.get_table('ods_github_users'))\n",
    "print(users.dtypes)"
   ]
  },
  {
   "cell_type": "code",
   "execution_count": 4,
   "id": "652cb978-a891-435b-a56c-588d70d9c4dd",
   "metadata": {},
   "outputs": [],
   "source": [
    "users = users.to_pandas()"
   ]
  },
  {
   "cell_type": "code",
   "execution_count": 5,
   "id": "47910a1c",
   "metadata": {},
   "outputs": [
    {
     "data": {
      "text/plain": [
       "login            618242\n",
       "created_at       618242\n",
       "database_id      618242\n",
       "location         359798\n",
       "company          233990\n",
       "bio              514543\n",
       "is_employee      618242\n",
       "email            618242\n",
       "infoname         485383\n",
       "followers        510298\n",
       "following        428056\n",
       "time             618242\n",
       "name             618242\n",
       "lastupdatedat    618242\n",
       "nextupdateat     618242\n",
       "dtype: int64"
      ]
     },
     "execution_count": 5,
     "metadata": {},
     "output_type": "execute_result"
    }
   ],
   "source": [
    "users.count()"
   ]
  },
  {
   "cell_type": "code",
   "execution_count": 6,
   "id": "0334a30f-4cce-47e3-9c8e-e7eee78e0ef5",
   "metadata": {},
   "outputs": [
    {
     "data": {
      "text/html": [
       "<div>\n",
       "<style scoped>\n",
       "    .dataframe tbody tr th:only-of-type {\n",
       "        vertical-align: middle;\n",
       "    }\n",
       "\n",
       "    .dataframe tbody tr th {\n",
       "        vertical-align: top;\n",
       "    }\n",
       "\n",
       "    .dataframe thead th {\n",
       "        text-align: right;\n",
       "    }\n",
       "</style>\n",
       "<table border=\"1\" class=\"dataframe\">\n",
       "  <thead>\n",
       "    <tr style=\"text-align: right;\">\n",
       "      <th></th>\n",
       "      <th>login</th>\n",
       "      <th>created_at</th>\n",
       "      <th>database_id</th>\n",
       "      <th>location</th>\n",
       "      <th>company</th>\n",
       "      <th>bio</th>\n",
       "      <th>is_employee</th>\n",
       "      <th>email</th>\n",
       "      <th>infoname</th>\n",
       "      <th>followers</th>\n",
       "      <th>following</th>\n",
       "      <th>time</th>\n",
       "      <th>name</th>\n",
       "      <th>lastupdatedat</th>\n",
       "      <th>nextupdateat</th>\n",
       "    </tr>\n",
       "  </thead>\n",
       "  <tbody>\n",
       "    <tr>\n",
       "      <th>0</th>\n",
       "      <td>LombiqBot</td>\n",
       "      <td>2014-08-21</td>\n",
       "      <td>8517910</td>\n",
       "      <td>Budapest, Hungary</td>\n",
       "      <td>Lombiq Technologies Ltd.</td>\n",
       "      <td>I'm a friendly robot that can also pass the Tu...</td>\n",
       "      <td>False</td>\n",
       "      <td>bot@lombiq.com</td>\n",
       "      <td>Lombiq Bot</td>\n",
       "      <td>50567111,61306948,60854565,57724193,55095689,5...</td>\n",
       "      <td>None</td>\n",
       "      <td>2021-11-22</td>\n",
       "      <td>LombiqBot</td>\n",
       "      <td>2022-01-25</td>\n",
       "      <td>2022-02-24</td>\n",
       "    </tr>\n",
       "    <tr>\n",
       "      <th>1</th>\n",
       "      <td>LombiqBot</td>\n",
       "      <td>2014-08-21</td>\n",
       "      <td>8517910</td>\n",
       "      <td>Budapest, Hungary</td>\n",
       "      <td>Lombiq Technologies Ltd.</td>\n",
       "      <td>I'm a friendly robot that can also pass the Tu...</td>\n",
       "      <td>False</td>\n",
       "      <td>bot@lombiq.com</td>\n",
       "      <td>Lombiq Bot</td>\n",
       "      <td>50567111,61306948,60854565,57724193,55095689,5...</td>\n",
       "      <td>None</td>\n",
       "      <td>2021-12-23</td>\n",
       "      <td>LombiqBot</td>\n",
       "      <td>2022-01-25</td>\n",
       "      <td>2022-02-24</td>\n",
       "    </tr>\n",
       "    <tr>\n",
       "      <th>2</th>\n",
       "      <td>LombiqBot</td>\n",
       "      <td>2014-08-21</td>\n",
       "      <td>8517910</td>\n",
       "      <td>Budapest, Hungary</td>\n",
       "      <td>Lombiq Technologies Ltd.</td>\n",
       "      <td>I'm a friendly robot that can also pass the Tu...</td>\n",
       "      <td>False</td>\n",
       "      <td>bot@lombiq.com</td>\n",
       "      <td>Lombiq Bot</td>\n",
       "      <td>50567111,61306948,60854565,57724193,55095689,5...</td>\n",
       "      <td>None</td>\n",
       "      <td>2022-01-25</td>\n",
       "      <td>LombiqBot</td>\n",
       "      <td>2022-01-25</td>\n",
       "      <td>2022-02-24</td>\n",
       "    </tr>\n",
       "    <tr>\n",
       "      <th>3</th>\n",
       "      <td>direwolf-github</td>\n",
       "      <td>2015-02-02</td>\n",
       "      <td>10810283</td>\n",
       "      <td>None</td>\n",
       "      <td>None</td>\n",
       "      <td>None</td>\n",
       "      <td>False</td>\n",
       "      <td></td>\n",
       "      <td>None</td>\n",
       "      <td>57059290,35817050,56658371,45868471</td>\n",
       "      <td>None</td>\n",
       "      <td>2021-11-18</td>\n",
       "      <td>direwolf-github</td>\n",
       "      <td>2022-01-20</td>\n",
       "      <td>2022-02-19</td>\n",
       "    </tr>\n",
       "    <tr>\n",
       "      <th>4</th>\n",
       "      <td>direwolf-github</td>\n",
       "      <td>2015-02-02</td>\n",
       "      <td>10810283</td>\n",
       "      <td>None</td>\n",
       "      <td>None</td>\n",
       "      <td>None</td>\n",
       "      <td>False</td>\n",
       "      <td></td>\n",
       "      <td>None</td>\n",
       "      <td>57059290,35817050,56658371,45868471</td>\n",
       "      <td>None</td>\n",
       "      <td>2021-12-20</td>\n",
       "      <td>direwolf-github</td>\n",
       "      <td>2022-01-20</td>\n",
       "      <td>2022-02-19</td>\n",
       "    </tr>\n",
       "    <tr>\n",
       "      <th>5</th>\n",
       "      <td>direwolf-github</td>\n",
       "      <td>2015-02-02</td>\n",
       "      <td>10810283</td>\n",
       "      <td>None</td>\n",
       "      <td>None</td>\n",
       "      <td>None</td>\n",
       "      <td>False</td>\n",
       "      <td></td>\n",
       "      <td>None</td>\n",
       "      <td>57059290,35817050,56658371,45868471</td>\n",
       "      <td>None</td>\n",
       "      <td>2022-01-20</td>\n",
       "      <td>direwolf-github</td>\n",
       "      <td>2022-01-20</td>\n",
       "      <td>2022-02-19</td>\n",
       "    </tr>\n",
       "    <tr>\n",
       "      <th>6</th>\n",
       "      <td>commit-b0t</td>\n",
       "      <td>2020-11-07</td>\n",
       "      <td>74113347</td>\n",
       "      <td>GitHub</td>\n",
       "      <td>None</td>\n",
       "      <td></td>\n",
       "      <td>False</td>\n",
       "      <td></td>\n",
       "      <td>Commit</td>\n",
       "      <td>None</td>\n",
       "      <td>None</td>\n",
       "      <td>2021-11-18</td>\n",
       "      <td>commit-b0t</td>\n",
       "      <td>2022-01-18</td>\n",
       "      <td>2022-02-17</td>\n",
       "    </tr>\n",
       "    <tr>\n",
       "      <th>7</th>\n",
       "      <td>commit-b0t</td>\n",
       "      <td>2020-11-07</td>\n",
       "      <td>74113347</td>\n",
       "      <td>GitHub</td>\n",
       "      <td>None</td>\n",
       "      <td></td>\n",
       "      <td>False</td>\n",
       "      <td></td>\n",
       "      <td>Commit</td>\n",
       "      <td>None</td>\n",
       "      <td>None</td>\n",
       "      <td>2021-12-18</td>\n",
       "      <td>commit-b0t</td>\n",
       "      <td>2022-01-18</td>\n",
       "      <td>2022-02-17</td>\n",
       "    </tr>\n",
       "    <tr>\n",
       "      <th>8</th>\n",
       "      <td>commit-b0t</td>\n",
       "      <td>2020-11-07</td>\n",
       "      <td>74113347</td>\n",
       "      <td>GitHub</td>\n",
       "      <td>None</td>\n",
       "      <td></td>\n",
       "      <td>False</td>\n",
       "      <td></td>\n",
       "      <td>Commit</td>\n",
       "      <td>None</td>\n",
       "      <td>None</td>\n",
       "      <td>2022-01-18</td>\n",
       "      <td>commit-b0t</td>\n",
       "      <td>2022-01-18</td>\n",
       "      <td>2022-02-17</td>\n",
       "    </tr>\n",
       "    <tr>\n",
       "      <th>9</th>\n",
       "      <td>renovate-bot</td>\n",
       "      <td>2017-01-17</td>\n",
       "      <td>25180681</td>\n",
       "      <td>None</td>\n",
       "      <td>@whitesource</td>\n",
       "      <td>WhiteSource Renovate is a bot to keep dependen...</td>\n",
       "      <td>False</td>\n",
       "      <td>renovate@whitesourcesoftware.com</td>\n",
       "      <td>WhiteSource Renovate</td>\n",
       "      <td>23411452,93843436,1330362,82955280,69742740,40...</td>\n",
       "      <td>None</td>\n",
       "      <td>2021-11-09</td>\n",
       "      <td>renovate-bot</td>\n",
       "      <td>2022-01-11</td>\n",
       "      <td>2022-02-10</td>\n",
       "    </tr>\n",
       "    <tr>\n",
       "      <th>10</th>\n",
       "      <td>renovate-bot</td>\n",
       "      <td>2017-01-17</td>\n",
       "      <td>25180681</td>\n",
       "      <td>None</td>\n",
       "      <td>@whitesource</td>\n",
       "      <td>WhiteSource Renovate is a bot to keep dependen...</td>\n",
       "      <td>False</td>\n",
       "      <td>renovate@whitesourcesoftware.com</td>\n",
       "      <td>WhiteSource Renovate</td>\n",
       "      <td>91645345,5516885,19423063,89886941,94544567,75...</td>\n",
       "      <td>None</td>\n",
       "      <td>2021-12-09</td>\n",
       "      <td>renovate-bot</td>\n",
       "      <td>2022-01-11</td>\n",
       "      <td>2022-02-10</td>\n",
       "    </tr>\n",
       "    <tr>\n",
       "      <th>11</th>\n",
       "      <td>renovate-bot</td>\n",
       "      <td>2017-01-17</td>\n",
       "      <td>25180681</td>\n",
       "      <td>None</td>\n",
       "      <td>@whitesource</td>\n",
       "      <td>WhiteSource Renovate is a bot to keep dependen...</td>\n",
       "      <td>False</td>\n",
       "      <td>renovate@whitesourcesoftware.com</td>\n",
       "      <td>WhiteSource Renovate</td>\n",
       "      <td>97354799,95278610,97414078,2110579,547876,6756...</td>\n",
       "      <td>None</td>\n",
       "      <td>2022-01-11</td>\n",
       "      <td>renovate-bot</td>\n",
       "      <td>2022-01-11</td>\n",
       "      <td>2022-02-10</td>\n",
       "    </tr>\n",
       "    <tr>\n",
       "      <th>12</th>\n",
       "      <td>breakingheatmap</td>\n",
       "      <td>2020-07-17</td>\n",
       "      <td>68417258</td>\n",
       "      <td>None</td>\n",
       "      <td>None</td>\n",
       "      <td>None</td>\n",
       "      <td>False</td>\n",
       "      <td></td>\n",
       "      <td>None</td>\n",
       "      <td>9112378,17136125,1753262,53253777</td>\n",
       "      <td>None</td>\n",
       "      <td>2021-11-28</td>\n",
       "      <td>breakingheatmap</td>\n",
       "      <td>2022-01-29</td>\n",
       "      <td>2022-02-28</td>\n",
       "    </tr>\n",
       "    <tr>\n",
       "      <th>13</th>\n",
       "      <td>breakingheatmap</td>\n",
       "      <td>2020-07-17</td>\n",
       "      <td>68417258</td>\n",
       "      <td>None</td>\n",
       "      <td>None</td>\n",
       "      <td>None</td>\n",
       "      <td>False</td>\n",
       "      <td></td>\n",
       "      <td>None</td>\n",
       "      <td>9112378,17136125,1753262,53253777</td>\n",
       "      <td>None</td>\n",
       "      <td>2021-12-28</td>\n",
       "      <td>breakingheatmap</td>\n",
       "      <td>2022-01-29</td>\n",
       "      <td>2022-02-28</td>\n",
       "    </tr>\n",
       "    <tr>\n",
       "      <th>14</th>\n",
       "      <td>breakingheatmap</td>\n",
       "      <td>2020-07-17</td>\n",
       "      <td>68417258</td>\n",
       "      <td>None</td>\n",
       "      <td>None</td>\n",
       "      <td>None</td>\n",
       "      <td>False</td>\n",
       "      <td></td>\n",
       "      <td>None</td>\n",
       "      <td>9112378,17136125,1753262,53253777</td>\n",
       "      <td>None</td>\n",
       "      <td>2022-01-29</td>\n",
       "      <td>breakingheatmap</td>\n",
       "      <td>2022-01-29</td>\n",
       "      <td>2022-02-28</td>\n",
       "    </tr>\n",
       "    <tr>\n",
       "      <th>15</th>\n",
       "      <td>codestar-github-bot-1</td>\n",
       "      <td>2019-07-20</td>\n",
       "      <td>53108186</td>\n",
       "      <td>None</td>\n",
       "      <td>None</td>\n",
       "      <td>None</td>\n",
       "      <td>False</td>\n",
       "      <td></td>\n",
       "      <td>None</td>\n",
       "      <td>51524117</td>\n",
       "      <td>None</td>\n",
       "      <td>2021-11-24</td>\n",
       "      <td>codestar-github-bot-1</td>\n",
       "      <td>2021-12-28</td>\n",
       "      <td>2022-01-27</td>\n",
       "    </tr>\n",
       "    <tr>\n",
       "      <th>16</th>\n",
       "      <td>codestar-github-bot-1</td>\n",
       "      <td>2019-07-20</td>\n",
       "      <td>53108186</td>\n",
       "      <td>None</td>\n",
       "      <td>None</td>\n",
       "      <td>None</td>\n",
       "      <td>False</td>\n",
       "      <td></td>\n",
       "      <td>None</td>\n",
       "      <td>51524117</td>\n",
       "      <td>None</td>\n",
       "      <td>2021-12-28</td>\n",
       "      <td>codestar-github-bot-1</td>\n",
       "      <td>2021-12-28</td>\n",
       "      <td>2022-01-27</td>\n",
       "    </tr>\n",
       "    <tr>\n",
       "      <th>17</th>\n",
       "      <td>boost-e2e-tester-user</td>\n",
       "      <td>2020-11-12</td>\n",
       "      <td>74347264</td>\n",
       "      <td>None</td>\n",
       "      <td>None</td>\n",
       "      <td>None</td>\n",
       "      <td>False</td>\n",
       "      <td></td>\n",
       "      <td>None</td>\n",
       "      <td>None</td>\n",
       "      <td>None</td>\n",
       "      <td>2021-11-13</td>\n",
       "      <td>boost-e2e-tester-user</td>\n",
       "      <td>2022-01-28</td>\n",
       "      <td>2022-02-27</td>\n",
       "    </tr>\n",
       "    <tr>\n",
       "      <th>18</th>\n",
       "      <td>boost-e2e-tester-user</td>\n",
       "      <td>2020-11-12</td>\n",
       "      <td>74347264</td>\n",
       "      <td>None</td>\n",
       "      <td>None</td>\n",
       "      <td>None</td>\n",
       "      <td>False</td>\n",
       "      <td></td>\n",
       "      <td>None</td>\n",
       "      <td>None</td>\n",
       "      <td>None</td>\n",
       "      <td>2021-12-25</td>\n",
       "      <td>boost-e2e-tester-user</td>\n",
       "      <td>2022-01-28</td>\n",
       "      <td>2022-02-27</td>\n",
       "    </tr>\n",
       "    <tr>\n",
       "      <th>19</th>\n",
       "      <td>boost-e2e-tester-user</td>\n",
       "      <td>2020-11-12</td>\n",
       "      <td>74347264</td>\n",
       "      <td>None</td>\n",
       "      <td>None</td>\n",
       "      <td>None</td>\n",
       "      <td>False</td>\n",
       "      <td></td>\n",
       "      <td>None</td>\n",
       "      <td>None</td>\n",
       "      <td>None</td>\n",
       "      <td>2022-01-28</td>\n",
       "      <td>boost-e2e-tester-user</td>\n",
       "      <td>2022-01-28</td>\n",
       "      <td>2022-02-27</td>\n",
       "    </tr>\n",
       "  </tbody>\n",
       "</table>\n",
       "</div>"
      ],
      "text/plain": [
       "                    login  created_at  database_id           location  \\\n",
       "0               LombiqBot  2014-08-21      8517910  Budapest, Hungary   \n",
       "1               LombiqBot  2014-08-21      8517910  Budapest, Hungary   \n",
       "2               LombiqBot  2014-08-21      8517910  Budapest, Hungary   \n",
       "3         direwolf-github  2015-02-02     10810283               None   \n",
       "4         direwolf-github  2015-02-02     10810283               None   \n",
       "5         direwolf-github  2015-02-02     10810283               None   \n",
       "6              commit-b0t  2020-11-07     74113347             GitHub   \n",
       "7              commit-b0t  2020-11-07     74113347             GitHub   \n",
       "8              commit-b0t  2020-11-07     74113347             GitHub   \n",
       "9            renovate-bot  2017-01-17     25180681               None   \n",
       "10           renovate-bot  2017-01-17     25180681               None   \n",
       "11           renovate-bot  2017-01-17     25180681               None   \n",
       "12        breakingheatmap  2020-07-17     68417258               None   \n",
       "13        breakingheatmap  2020-07-17     68417258               None   \n",
       "14        breakingheatmap  2020-07-17     68417258               None   \n",
       "15  codestar-github-bot-1  2019-07-20     53108186               None   \n",
       "16  codestar-github-bot-1  2019-07-20     53108186               None   \n",
       "17  boost-e2e-tester-user  2020-11-12     74347264               None   \n",
       "18  boost-e2e-tester-user  2020-11-12     74347264               None   \n",
       "19  boost-e2e-tester-user  2020-11-12     74347264               None   \n",
       "\n",
       "                     company  \\\n",
       "0   Lombiq Technologies Ltd.   \n",
       "1   Lombiq Technologies Ltd.   \n",
       "2   Lombiq Technologies Ltd.   \n",
       "3                       None   \n",
       "4                       None   \n",
       "5                       None   \n",
       "6                       None   \n",
       "7                       None   \n",
       "8                       None   \n",
       "9               @whitesource   \n",
       "10              @whitesource   \n",
       "11              @whitesource   \n",
       "12                      None   \n",
       "13                      None   \n",
       "14                      None   \n",
       "15                      None   \n",
       "16                      None   \n",
       "17                      None   \n",
       "18                      None   \n",
       "19                      None   \n",
       "\n",
       "                                                  bio  is_employee  \\\n",
       "0   I'm a friendly robot that can also pass the Tu...        False   \n",
       "1   I'm a friendly robot that can also pass the Tu...        False   \n",
       "2   I'm a friendly robot that can also pass the Tu...        False   \n",
       "3                                                None        False   \n",
       "4                                                None        False   \n",
       "5                                                None        False   \n",
       "6                                                            False   \n",
       "7                                                            False   \n",
       "8                                                            False   \n",
       "9   WhiteSource Renovate is a bot to keep dependen...        False   \n",
       "10  WhiteSource Renovate is a bot to keep dependen...        False   \n",
       "11  WhiteSource Renovate is a bot to keep dependen...        False   \n",
       "12                                               None        False   \n",
       "13                                               None        False   \n",
       "14                                               None        False   \n",
       "15                                               None        False   \n",
       "16                                               None        False   \n",
       "17                                               None        False   \n",
       "18                                               None        False   \n",
       "19                                               None        False   \n",
       "\n",
       "                               email              infoname  \\\n",
       "0                     bot@lombiq.com            Lombiq Bot   \n",
       "1                     bot@lombiq.com            Lombiq Bot   \n",
       "2                     bot@lombiq.com            Lombiq Bot   \n",
       "3                                                     None   \n",
       "4                                                     None   \n",
       "5                                                     None   \n",
       "6                                                   Commit   \n",
       "7                                                   Commit   \n",
       "8                                                   Commit   \n",
       "9   renovate@whitesourcesoftware.com  WhiteSource Renovate   \n",
       "10  renovate@whitesourcesoftware.com  WhiteSource Renovate   \n",
       "11  renovate@whitesourcesoftware.com  WhiteSource Renovate   \n",
       "12                                                    None   \n",
       "13                                                    None   \n",
       "14                                                    None   \n",
       "15                                                    None   \n",
       "16                                                    None   \n",
       "17                                                    None   \n",
       "18                                                    None   \n",
       "19                                                    None   \n",
       "\n",
       "                                            followers following        time  \\\n",
       "0   50567111,61306948,60854565,57724193,55095689,5...      None  2021-11-22   \n",
       "1   50567111,61306948,60854565,57724193,55095689,5...      None  2021-12-23   \n",
       "2   50567111,61306948,60854565,57724193,55095689,5...      None  2022-01-25   \n",
       "3                 57059290,35817050,56658371,45868471      None  2021-11-18   \n",
       "4                 57059290,35817050,56658371,45868471      None  2021-12-20   \n",
       "5                 57059290,35817050,56658371,45868471      None  2022-01-20   \n",
       "6                                                None      None  2021-11-18   \n",
       "7                                                None      None  2021-12-18   \n",
       "8                                                None      None  2022-01-18   \n",
       "9   23411452,93843436,1330362,82955280,69742740,40...      None  2021-11-09   \n",
       "10  91645345,5516885,19423063,89886941,94544567,75...      None  2021-12-09   \n",
       "11  97354799,95278610,97414078,2110579,547876,6756...      None  2022-01-11   \n",
       "12                  9112378,17136125,1753262,53253777      None  2021-11-28   \n",
       "13                  9112378,17136125,1753262,53253777      None  2021-12-28   \n",
       "14                  9112378,17136125,1753262,53253777      None  2022-01-29   \n",
       "15                                           51524117      None  2021-11-24   \n",
       "16                                           51524117      None  2021-12-28   \n",
       "17                                               None      None  2021-11-13   \n",
       "18                                               None      None  2021-12-25   \n",
       "19                                               None      None  2022-01-28   \n",
       "\n",
       "                     name lastupdatedat nextupdateat  \n",
       "0               LombiqBot    2022-01-25   2022-02-24  \n",
       "1               LombiqBot    2022-01-25   2022-02-24  \n",
       "2               LombiqBot    2022-01-25   2022-02-24  \n",
       "3         direwolf-github    2022-01-20   2022-02-19  \n",
       "4         direwolf-github    2022-01-20   2022-02-19  \n",
       "5         direwolf-github    2022-01-20   2022-02-19  \n",
       "6              commit-b0t    2022-01-18   2022-02-17  \n",
       "7              commit-b0t    2022-01-18   2022-02-17  \n",
       "8              commit-b0t    2022-01-18   2022-02-17  \n",
       "9            renovate-bot    2022-01-11   2022-02-10  \n",
       "10           renovate-bot    2022-01-11   2022-02-10  \n",
       "11           renovate-bot    2022-01-11   2022-02-10  \n",
       "12        breakingheatmap    2022-01-29   2022-02-28  \n",
       "13        breakingheatmap    2022-01-29   2022-02-28  \n",
       "14        breakingheatmap    2022-01-29   2022-02-28  \n",
       "15  codestar-github-bot-1    2021-12-28   2022-01-27  \n",
       "16  codestar-github-bot-1    2021-12-28   2022-01-27  \n",
       "17  boost-e2e-tester-user    2022-01-28   2022-02-27  \n",
       "18  boost-e2e-tester-user    2022-01-28   2022-02-27  \n",
       "19  boost-e2e-tester-user    2022-01-28   2022-02-27  "
      ]
     },
     "execution_count": 6,
     "metadata": {},
     "output_type": "execute_result"
    }
   ],
   "source": [
    "users.head(20)"
   ]
  },
  {
   "cell_type": "code",
   "execution_count": 7,
   "id": "3701a320",
   "metadata": {
    "collapsed": false,
    "jupyter": {
     "outputs_hidden": false
    },
    "pycharm": {
     "name": "#%%\n"
    }
   },
   "outputs": [],
   "source": [
    "user_follow = users.loc[:,[\"database_id\",\"followers\",\"following\"]]"
   ]
  },
  {
   "cell_type": "code",
   "execution_count": 8,
   "id": "88834368-8abe-4d49-ab71-a39dcae8d8c7",
   "metadata": {},
   "outputs": [
    {
     "data": {
      "text/plain": [
       "618242"
      ]
     },
     "execution_count": 8,
     "metadata": {},
     "output_type": "execute_result"
    }
   ],
   "source": [
    "len(user_follow)"
   ]
  },
  {
   "cell_type": "code",
   "execution_count": 9,
   "id": "e3604b61-f275-412b-8dc5-8fd4b97b8381",
   "metadata": {},
   "outputs": [],
   "source": [
    "user_follow_d = user_follow.drop_duplicates()"
   ]
  },
  {
   "cell_type": "code",
   "execution_count": 10,
   "id": "b1621efb-4a56-42e5-8690-595eee6b6f5c",
   "metadata": {},
   "outputs": [
    {
     "data": {
      "text/plain": [
       "373093"
      ]
     },
     "execution_count": 10,
     "metadata": {},
     "output_type": "execute_result"
    }
   ],
   "source": [
    "len(user_follow_d)"
   ]
  },
  {
   "cell_type": "code",
   "execution_count": 11,
   "id": "a35b80f4-295a-41a5-bacb-72b81a00b88f",
   "metadata": {},
   "outputs": [],
   "source": [
    "def count(s):\n",
    "    if s:\n",
    "        s = s.split(\",\")\n",
    "        return len(s)\n",
    "    else:\n",
    "        return 0\n",
    "    \n",
    "list_followers_count = [count(i) for i in user_follow_d[\"followers\"]]"
   ]
  },
  {
   "cell_type": "code",
   "execution_count": 12,
   "id": "85a8d87e-e05e-4f0c-a57d-072667852a46",
   "metadata": {},
   "outputs": [],
   "source": [
    "list_followers_count = list(map(lambda x: len(x.split(\",\")) if x else 0, \n",
    "                                [i for i in user_follow_d[\"followers\"]]))"
   ]
  },
  {
   "cell_type": "code",
   "execution_count": 13,
   "id": "4734b0d1-fa36-4ff4-b95c-d20327fd5bdd",
   "metadata": {},
   "outputs": [
    {
     "data": {
      "text/plain": [
       "count    373093.000000\n",
       "mean         85.925059\n",
       "std         732.244230\n",
       "min           0.000000\n",
       "25%           3.000000\n",
       "50%          14.000000\n",
       "75%          45.000000\n",
       "max      148982.000000\n",
       "dtype: float64"
      ]
     },
     "execution_count": 13,
     "metadata": {},
     "output_type": "execute_result"
    }
   ],
   "source": [
    "pd.Series(list_followers_count).describe()"
   ]
  },
  {
   "cell_type": "code",
   "execution_count": 14,
   "id": "ea4b36d2-24e4-45d1-acd9-de4dc0163fd5",
   "metadata": {},
   "outputs": [],
   "source": [
    "dict_followers_count = {}\n",
    "for i in list_followers_count:\n",
    "    if i in dict_followers_count:\n",
    "        dict_followers_count[i] += 1\n",
    "    else:\n",
    "        dict_followers_count[i] = 1"
   ]
  },
  {
   "cell_type": "code",
   "execution_count": 15,
   "id": "f36695da-7a1c-4fa2-807c-a64a8428fffe",
   "metadata": {},
   "outputs": [],
   "source": [
    "followers_num = np.array(list(dict_followers_count.keys())).reshape(-1,1)\n",
    "followers_num_cnt = np.array(list(dict_followers_count.values())).reshape(-1,1)\n",
    "followers = np.hstack([followers_num,followers_num_cnt])\n",
    "followers = pd.DataFrame(followers)"
   ]
  },
  {
   "cell_type": "code",
   "execution_count": 16,
   "id": "de895fd0-3985-4b44-8827-5a6be7163e75",
   "metadata": {},
   "outputs": [
    {
     "data": {
      "text/html": [
       "<div>\n",
       "<style scoped>\n",
       "    .dataframe tbody tr th:only-of-type {\n",
       "        vertical-align: middle;\n",
       "    }\n",
       "\n",
       "    .dataframe tbody tr th {\n",
       "        vertical-align: top;\n",
       "    }\n",
       "\n",
       "    .dataframe thead th {\n",
       "        text-align: right;\n",
       "    }\n",
       "</style>\n",
       "<table border=\"1\" class=\"dataframe\">\n",
       "  <thead>\n",
       "    <tr style=\"text-align: right;\">\n",
       "      <th></th>\n",
       "      <th>0</th>\n",
       "      <th>1</th>\n",
       "    </tr>\n",
       "  </thead>\n",
       "  <tbody>\n",
       "    <tr>\n",
       "      <th>2</th>\n",
       "      <td>0</td>\n",
       "      <td>41740</td>\n",
       "    </tr>\n",
       "    <tr>\n",
       "      <th>6</th>\n",
       "      <td>1</td>\n",
       "      <td>22485</td>\n",
       "    </tr>\n",
       "    <tr>\n",
       "      <th>7</th>\n",
       "      <td>2</td>\n",
       "      <td>17552</td>\n",
       "    </tr>\n",
       "    <tr>\n",
       "      <th>22</th>\n",
       "      <td>3</td>\n",
       "      <td>14709</td>\n",
       "    </tr>\n",
       "    <tr>\n",
       "      <th>1</th>\n",
       "      <td>4</td>\n",
       "      <td>12868</td>\n",
       "    </tr>\n",
       "    <tr>\n",
       "      <th>...</th>\n",
       "      <td>...</td>\n",
       "      <td>...</td>\n",
       "    </tr>\n",
       "    <tr>\n",
       "      <th>1059</th>\n",
       "      <td>75801</td>\n",
       "      <td>1</td>\n",
       "    </tr>\n",
       "    <tr>\n",
       "      <th>1060</th>\n",
       "      <td>76771</td>\n",
       "      <td>1</td>\n",
       "    </tr>\n",
       "    <tr>\n",
       "      <th>1061</th>\n",
       "      <td>77598</td>\n",
       "      <td>1</td>\n",
       "    </tr>\n",
       "    <tr>\n",
       "      <th>1944</th>\n",
       "      <td>146716</td>\n",
       "      <td>1</td>\n",
       "    </tr>\n",
       "    <tr>\n",
       "      <th>1945</th>\n",
       "      <td>148982</td>\n",
       "      <td>1</td>\n",
       "    </tr>\n",
       "  </tbody>\n",
       "</table>\n",
       "<p>3427 rows × 2 columns</p>\n",
       "</div>"
      ],
      "text/plain": [
       "           0      1\n",
       "2          0  41740\n",
       "6          1  22485\n",
       "7          2  17552\n",
       "22         3  14709\n",
       "1          4  12868\n",
       "...      ...    ...\n",
       "1059   75801      1\n",
       "1060   76771      1\n",
       "1061   77598      1\n",
       "1944  146716      1\n",
       "1945  148982      1\n",
       "\n",
       "[3427 rows x 2 columns]"
      ]
     },
     "execution_count": 16,
     "metadata": {},
     "output_type": "execute_result"
    }
   ],
   "source": [
    "followers = followers.sort_values(by=0)\n",
    "followers"
   ]
  },
  {
   "cell_type": "code",
   "execution_count": 32,
   "id": "32546f57-2d5b-46ec-954a-9a11cc204fa0",
   "metadata": {},
   "outputs": [
    {
     "data": {
      "image/png": "[encoded data removed]",
      "text/plain": [
       "<Figure size 432x288 with 1 Axes>"
      ]
     },
     "metadata": {
      "needs_background": "light"
     },
     "output_type": "display_data"
    }
   ],
   "source": [
    "plt.scatter(followers[0], followers[1])\n",
    "plt.xlabel(\"followers number\")\n",
    "plt.ylabel(\"followers number count\")\n",
    "plt.show()"
   ]
  },
  {
   "cell_type": "code",
   "execution_count": 18,
   "id": "226a4c24-e20f-488d-b2b6-f3341920c553",
   "metadata": {},
   "outputs": [
    {
     "data": {
      "image/png": "[encoded data removed]",
      "text/plain": [
       "<Figure size 432x288 with 1 Axes>"
      ]
     },
     "metadata": {
      "needs_background": "light"
     },
     "output_type": "display_data"
    }
   ],
   "source": [
    "delta = 1\n",
    "plt.bar(np.log(followers[0]+delta),np.log(followers[1]))\n",
    "plt.xlabel(\"followers number(log10)\")\n",
    "plt.ylabel(\"followers number count(log10)\")\n",
    "plt.show()"
   ]
  },
  {
   "cell_type": "code",
   "execution_count": 19,
   "id": "bc520189-a3eb-482f-9d29-c6e7408ebc5e",
   "metadata": {},
   "outputs": [],
   "source": [
    "list_following_count = list(map(lambda x: len(x.split(\",\")) if x else 0, \n",
    "                                [i for i in user_follow_d[\"following\"]]))"
   ]
  },
  {
   "cell_type": "code",
   "execution_count": 20,
   "id": "fd53df94-948c-45fb-9d3a-60c3b7317d15",
   "metadata": {},
   "outputs": [
    {
     "data": {
      "text/plain": [
       "count    373093.000000\n",
       "mean         44.894822\n",
       "std         460.497530\n",
       "min           0.000000\n",
       "25%           1.000000\n",
       "50%           7.000000\n",
       "75%          26.000000\n",
       "max       67221.000000\n",
       "dtype: float64"
      ]
     },
     "execution_count": 20,
     "metadata": {},
     "output_type": "execute_result"
    }
   ],
   "source": [
    "pd.Series(list_following_count).describe()"
   ]
  },
  {
   "cell_type": "code",
   "execution_count": 21,
   "id": "fb59db2d-1984-45f9-8323-139c1289005b",
   "metadata": {},
   "outputs": [],
   "source": [
    "dict_following_count = {}\n",
    "for i in list_following_count:\n",
    "    if i in dict_following_count:\n",
    "        dict_following_count[i] += 1\n",
    "    else:\n",
    "        dict_following_count[i] = 1\n",
    "        \n",
    "following_num = np.array(list(dict_following_count.keys())).reshape(-1,1)\n",
    "following_num_cnt = np.array(list(dict_following_count.values())).reshape(-1,1)\n",
    "following = np.hstack([following_num,following_num_cnt])\n",
    "following = pd.DataFrame(following)"
   ]
  },
  {
   "cell_type": "code",
   "execution_count": 22,
   "id": "87305996-628d-4340-ace9-0def6df74530",
   "metadata": {},
   "outputs": [],
   "source": [
    "following = following.sort_values(by=0)"
   ]
  },
  {
   "cell_type": "code",
   "execution_count": 23,
   "id": "f2a05de4-e868-4176-be21-f8bbeb06f06a",
   "metadata": {},
   "outputs": [
    {
     "data": {
      "text/html": [
       "<div>\n",
       "<style scoped>\n",
       "    .dataframe tbody tr th:only-of-type {\n",
       "        vertical-align: middle;\n",
       "    }\n",
       "\n",
       "    .dataframe tbody tr th {\n",
       "        vertical-align: top;\n",
       "    }\n",
       "\n",
       "    .dataframe thead th {\n",
       "        text-align: right;\n",
       "    }\n",
       "</style>\n",
       "<table border=\"1\" class=\"dataframe\">\n",
       "  <thead>\n",
       "    <tr style=\"text-align: right;\">\n",
       "      <th></th>\n",
       "      <th>0</th>\n",
       "      <th>1</th>\n",
       "    </tr>\n",
       "  </thead>\n",
       "  <tbody>\n",
       "    <tr>\n",
       "      <th>0</th>\n",
       "      <td>0</td>\n",
       "      <td>87336</td>\n",
       "    </tr>\n",
       "    <tr>\n",
       "      <th>3</th>\n",
       "      <td>1</td>\n",
       "      <td>28354</td>\n",
       "    </tr>\n",
       "    <tr>\n",
       "      <th>1</th>\n",
       "      <td>2</td>\n",
       "      <td>19450</td>\n",
       "    </tr>\n",
       "    <tr>\n",
       "      <th>7</th>\n",
       "      <td>3</td>\n",
       "      <td>15529</td>\n",
       "    </tr>\n",
       "    <tr>\n",
       "      <th>2</th>\n",
       "      <td>4</td>\n",
       "      <td>13231</td>\n",
       "    </tr>\n",
       "    <tr>\n",
       "      <th>...</th>\n",
       "      <td>...</td>\n",
       "      <td>...</td>\n",
       "    </tr>\n",
       "    <tr>\n",
       "      <th>1043</th>\n",
       "      <td>57146</td>\n",
       "      <td>1</td>\n",
       "    </tr>\n",
       "    <tr>\n",
       "      <th>1044</th>\n",
       "      <td>57150</td>\n",
       "      <td>1</td>\n",
       "    </tr>\n",
       "    <tr>\n",
       "      <th>1518</th>\n",
       "      <td>67010</td>\n",
       "      <td>1</td>\n",
       "    </tr>\n",
       "    <tr>\n",
       "      <th>1519</th>\n",
       "      <td>67012</td>\n",
       "      <td>1</td>\n",
       "    </tr>\n",
       "    <tr>\n",
       "      <th>1520</th>\n",
       "      <td>67221</td>\n",
       "      <td>1</td>\n",
       "    </tr>\n",
       "  </tbody>\n",
       "</table>\n",
       "<p>2092 rows × 2 columns</p>\n",
       "</div>"
      ],
      "text/plain": [
       "          0      1\n",
       "0         0  87336\n",
       "3         1  28354\n",
       "1         2  19450\n",
       "7         3  15529\n",
       "2         4  13231\n",
       "...     ...    ...\n",
       "1043  57146      1\n",
       "1044  57150      1\n",
       "1518  67010      1\n",
       "1519  67012      1\n",
       "1520  67221      1\n",
       "\n",
       "[2092 rows x 2 columns]"
      ]
     },
     "execution_count": 23,
     "metadata": {},
     "output_type": "execute_result"
    }
   ],
   "source": [
    "following"
   ]
  },
  {
   "cell_type": "code",
   "execution_count": 33,
   "id": "4a275202-d20f-4c7f-b13c-e3fc334e95e8",
   "metadata": {},
   "outputs": [
    {
     "data": {
      "image/png": "[encoded data removed]",
      "text/plain": [
       "<Figure size 432x288 with 1 Axes>"
      ]
     },
     "metadata": {
      "needs_background": "light"
     },
     "output_type": "display_data"
    }
   ],
   "source": [
    "plt.scatter(following[0], following[1])\n",
    "plt.xlabel(\"following number\")\n",
    "plt.ylabel(\"following number count\")\n",
    "plt.show()"
   ]
  },
  {
   "cell_type": "code",
   "execution_count": 25,
   "id": "a7387d81-dd15-4f95-b4a2-0f7afb10acf5",
   "metadata": {},
   "outputs": [
    {
     "data": {
      "image/png": "[encoded data removed]",
      "text/plain": [
       "<Figure size 432x288 with 1 Axes>"
      ]
     },
     "metadata": {
      "needs_background": "light"
     },
     "output_type": "display_data"
    }
   ],
   "source": [
    "delta = 1\n",
    "plt.bar(np.log(following[0]+delta),np.log(following[1]))\n",
    "plt.xlabel(\"following number(log10)\")\n",
    "plt.ylabel(\"following number count(log10)\")\n",
    "plt.show()"
   ]
  },
  {
   "cell_type": "code",
   "execution_count": 26,
   "id": "063d68c5-64db-4a49-b07e-cc3d13f57c8f",
   "metadata": {},
   "outputs": [],
   "source": [
    "import networkx as nx"
   ]
  },
  {
   "cell_type": "code",
   "execution_count": 27,
   "id": "ab546ba2-cbef-4f87-98ca-7e9c087e6233",
   "metadata": {},
   "outputs": [],
   "source": [
    "class UserGraph:\n",
    "    def __init__(self, data):\n",
    "        self.data = data\n",
    "        self.vertex, self.edge = self.__to_graph__()\n",
    "        \n",
    "    def __to_graph__(self):\n",
    "        vertex = []\n",
    "        edge = []\n",
    "        for database_id, followers, following in self.data.values:\n",
    "            vertex.append(database_id)\n",
    "            if followers:\n",
    "                followers = followers.split(\",\")\n",
    "                for follower in followers:\n",
    "                    if follower not in vertex:\n",
    "                        vertex.append(follower)\n",
    "                    e = [follower, database_id]\n",
    "                    if e not in edge:\n",
    "                        edge.append(e)\n",
    "            if following:\n",
    "                following = following.split(\",\")\n",
    "                for i in following:\n",
    "                    if i not in vertex:\n",
    "                        vertex.append(i)\n",
    "                    e = [database_id, i]\n",
    "                    if e not in edge:\n",
    "                        edge.append(e)\n",
    "        return vertex, edge\n",
    "        "
   ]
  },
  {
   "cell_type": "code",
   "execution_count": 28,
   "id": "74dabcf9-a918-4d20-ada9-a836477b2197",
   "metadata": {},
   "outputs": [],
   "source": [
    "user_graph = UserGraph(user_follow_d[0:100])"
   ]
  },
  {
   "cell_type": "code",
   "execution_count": 29,
   "id": "9aebc7cf-3981-4c32-b8cf-30943d2f6927",
   "metadata": {},
   "outputs": [],
   "source": [
    "e_from = np.array(user_graph.edge)[:,0]\n",
    "e_to = np.array(user_graph.edge)[:,1]\n",
    "df = pd.DataFrame({ 'from':e_from, 'to':e_to }) "
   ]
  },
  {
   "cell_type": "code",
   "execution_count": 30,
   "id": "c9bc24f5-14da-4130-b628-b676789f92bb",
   "metadata": {},
   "outputs": [
    {
     "data": {
      "image/png": "[encoded data removed]",
      "text/plain": [
       "<Figure size 432x288 with 1 Axes>"
      ]
     },
     "metadata": {},
     "output_type": "display_data"
    }
   ],
   "source": [
    "G=nx.from_pandas_edgelist(df, 'from', 'to') \n",
    " \n",
    "# nx.draw(G, with_labels=True)\n",
    "nx.draw(G, with_labels=False)\n",
    "plt.show()"
   ]
  },
  {
   "cell_type": "code",
   "execution_count": 34,
   "id": "cd729aa9-1bdb-476b-a307-bd76aba2614d",
   "metadata": {
    "tags": []
   },
   "outputs": [
    {
     "data": {
      "image/png": "[encoded data removed]",
      "text/plain": [
       "<Figure size 432x288 with 1 Axes>"
      ]
     },
     "metadata": {},
     "output_type": "display_data"
    }
   ],
   "source": [
    "user_graph = UserGraph(user_follow_d[0:1000])\n",
    "e_from = np.array(user_graph.edge)[:,0]\n",
    "e_to = np.array(user_graph.edge)[:,1]\n",
    "df = pd.DataFrame({ 'from':e_from, 'to':e_to }) \n",
    "G=nx.from_pandas_edgelist(df, 'from', 'to') \n",
    " \n",
    "# nx.draw(G, with_labels=True)\n",
    "nx.draw(G, with_labels=False)\n",
    "plt.show()"
   ]
  },
  {
   "cell_type": "code",
   "execution_count": null,
   "id": "8601e664-a108-4f67-b1ee-492927aa9674",
   "metadata": {},
   "outputs": [],
   "source": []
  },
  {
   "cell_type": "code",
   "execution_count": null,
   "id": "73f96db6-ce37-4754-a475-0440264af7dd",
   "metadata": {},
   "outputs": [],
   "source": []
  }
 ],
 "metadata": {
  "kernelspec": {
   "display_name": "Python 3 (ipykernel)",
   "language": "python",
   "name": "python3"
  },
  "language_info": {
   "codemirror_mode": {
    "name": "ipython",
    "version": 3
   },
   "file_extension": ".py",
   "mimetype": "text/x-python",
   "name": "python",
   "nbconvert_exporter": "python",
   "pygments_lexer": "ipython3",
   "version": "3.9.7"
  }
 },
 "nbformat": 4,
 "nbformat_minor": 5
}
