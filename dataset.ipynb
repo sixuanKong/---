{
 "cells": [
  {
   "cell_type": "markdown",
   "id": "062dcb83-f841-42d1-9d8a-dab15b5fdc6f",
   "metadata": {
    "pycharm": {
     "name": "#%% md\n"
    }
   },
   "source": [
    "连接到odps"
   ]
  },
  {
   "cell_type": "code",
   "execution_count": 1,
   "id": "2069ae73-ebc9-4156-af14-aec9cef90ab4",
   "metadata": {
    "pycharm": {
     "name": "#%%\n"
    }
   },
   "outputs": [],
   "source": [
    "from utils.connect import connect\n",
    "\n",
    "import os\n",
    "\n",
    "from odps.df import DataFrame\n",
    "import pandas as pd\n",
    "import numpy as np\n",
    "import matplotlib.pyplot as plt\n",
    "import seaborn as sns\n",
    "\n",
    "o = connect()"
   ]
  },
  {
   "cell_type": "markdown",
   "id": "2a8e1434-d4e7-4335-88ae-dfe9837441d7",
   "metadata": {
    "pycharm": {
     "name": "#%% md\n"
    }
   },
   "source": [
    "查看ods层中的用户users数据详情"
   ]
  },
  {
   "cell_type": "code",
   "execution_count": 2,
   "id": "b7174324-ae53-4ffe-ab8c-a440da2f67c7",
   "metadata": {
    "pycharm": {
     "name": "#%%\n"
    }
   },
   "outputs": [
    {
     "data": {
      "text/plain": [
       "odps.Schema {\n",
       "  login                     string        \n",
       "  created_at                date          \n",
       "  database_id               int64         \n",
       "  location                  string        \n",
       "  company                   string        \n",
       "  bio                       string        \n",
       "  is_employee               boolean       \n",
       "  email                     string        \n",
       "  infoname                  string        \n",
       "  followers                 string        \n",
       "  following                 string        \n",
       "  time                      date          \n",
       "  name                      string        \n",
       "  lastupdatedat             date          \n",
       "  nextupdateat              date          \n",
       "}"
      ]
     },
     "execution_count": 2,
     "metadata": {},
     "output_type": "execute_result"
    }
   ],
   "source": [
    "users = DataFrame(o.get_table('ods_github_users'))\n",
    "users.dtypes"
   ]
  },
  {
   "cell_type": "code",
   "execution_count": 3,
   "id": "b8ddf844-bdf6-41ca-9d80-c1c211db2417",
   "metadata": {
    "pycharm": {
     "name": "#%%\n"
    }
   },
   "outputs": [
    {
     "data": {
      "text/html": [
       "618242"
      ],
      "text/plain": [
       "618242"
      ]
     },
     "execution_count": 3,
     "metadata": {},
     "output_type": "execute_result"
    }
   ],
   "source": [
    "users.count()"
   ]
  },
  {
   "cell_type": "code",
   "execution_count": 4,
   "id": "fbadf714-b250-4123-a210-62187c31f609",
   "metadata": {
    "pycharm": {
     "name": "#%%\n"
    }
   },
   "outputs": [
    {
     "data": {
      "text/html": [
       "<div>\n",
       "<style scoped>\n",
       "    .dataframe tbody tr th:only-of-type {\n",
       "        vertical-align: middle;\n",
       "    }\n",
       "\n",
       "    .dataframe tbody tr th {\n",
       "        vertical-align: top;\n",
       "    }\n",
       "\n",
       "    .dataframe thead th {\n",
       "        text-align: right;\n",
       "    }\n",
       "</style>\n",
       "<table border=\"1\" class=\"dataframe\">\n",
       "  <thead>\n",
       "    <tr style=\"text-align: right;\">\n",
       "      <th></th>\n",
       "      <th>login</th>\n",
       "      <th>created_at</th>\n",
       "      <th>database_id</th>\n",
       "      <th>location</th>\n",
       "      <th>company</th>\n",
       "      <th>bio</th>\n",
       "      <th>is_employee</th>\n",
       "      <th>email</th>\n",
       "      <th>infoname</th>\n",
       "      <th>followers</th>\n",
       "      <th>following</th>\n",
       "      <th>time</th>\n",
       "      <th>name</th>\n",
       "      <th>lastupdatedat</th>\n",
       "      <th>nextupdateat</th>\n",
       "    </tr>\n",
       "  </thead>\n",
       "  <tbody>\n",
       "    <tr>\n",
       "      <th>0</th>\n",
       "      <td>LombiqBot</td>\n",
       "      <td>2014-08-21</td>\n",
       "      <td>8517910</td>\n",
       "      <td>Budapest, Hungary</td>\n",
       "      <td>Lombiq Technologies Ltd.</td>\n",
       "      <td>I'm a friendly robot that can also pass the Tu...</td>\n",
       "      <td>False</td>\n",
       "      <td>bot@lombiq.com</td>\n",
       "      <td>Lombiq Bot</td>\n",
       "      <td>50567111,61306948,60854565,57724193,55095689,5...</td>\n",
       "      <td>None</td>\n",
       "      <td>2021-11-22</td>\n",
       "      <td>LombiqBot</td>\n",
       "      <td>2022-01-25</td>\n",
       "      <td>2022-02-24</td>\n",
       "    </tr>\n",
       "    <tr>\n",
       "      <th>1</th>\n",
       "      <td>LombiqBot</td>\n",
       "      <td>2014-08-21</td>\n",
       "      <td>8517910</td>\n",
       "      <td>Budapest, Hungary</td>\n",
       "      <td>Lombiq Technologies Ltd.</td>\n",
       "      <td>I'm a friendly robot that can also pass the Tu...</td>\n",
       "      <td>False</td>\n",
       "      <td>bot@lombiq.com</td>\n",
       "      <td>Lombiq Bot</td>\n",
       "      <td>50567111,61306948,60854565,57724193,55095689,5...</td>\n",
       "      <td>None</td>\n",
       "      <td>2021-12-23</td>\n",
       "      <td>LombiqBot</td>\n",
       "      <td>2022-01-25</td>\n",
       "      <td>2022-02-24</td>\n",
       "    </tr>\n",
       "    <tr>\n",
       "      <th>2</th>\n",
       "      <td>LombiqBot</td>\n",
       "      <td>2014-08-21</td>\n",
       "      <td>8517910</td>\n",
       "      <td>Budapest, Hungary</td>\n",
       "      <td>Lombiq Technologies Ltd.</td>\n",
       "      <td>I'm a friendly robot that can also pass the Tu...</td>\n",
       "      <td>False</td>\n",
       "      <td>bot@lombiq.com</td>\n",
       "      <td>Lombiq Bot</td>\n",
       "      <td>50567111,61306948,60854565,57724193,55095689,5...</td>\n",
       "      <td>None</td>\n",
       "      <td>2022-01-25</td>\n",
       "      <td>LombiqBot</td>\n",
       "      <td>2022-01-25</td>\n",
       "      <td>2022-02-24</td>\n",
       "    </tr>\n",
       "    <tr>\n",
       "      <th>3</th>\n",
       "      <td>direwolf-github</td>\n",
       "      <td>2015-02-02</td>\n",
       "      <td>10810283</td>\n",
       "      <td>None</td>\n",
       "      <td>None</td>\n",
       "      <td>None</td>\n",
       "      <td>False</td>\n",
       "      <td></td>\n",
       "      <td>None</td>\n",
       "      <td>57059290,35817050,56658371,45868471</td>\n",
       "      <td>None</td>\n",
       "      <td>2021-11-18</td>\n",
       "      <td>direwolf-github</td>\n",
       "      <td>2022-01-20</td>\n",
       "      <td>2022-02-19</td>\n",
       "    </tr>\n",
       "    <tr>\n",
       "      <th>4</th>\n",
       "      <td>direwolf-github</td>\n",
       "      <td>2015-02-02</td>\n",
       "      <td>10810283</td>\n",
       "      <td>None</td>\n",
       "      <td>None</td>\n",
       "      <td>None</td>\n",
       "      <td>False</td>\n",
       "      <td></td>\n",
       "      <td>None</td>\n",
       "      <td>57059290,35817050,56658371,45868471</td>\n",
       "      <td>None</td>\n",
       "      <td>2021-12-20</td>\n",
       "      <td>direwolf-github</td>\n",
       "      <td>2022-01-20</td>\n",
       "      <td>2022-02-19</td>\n",
       "    </tr>\n",
       "  </tbody>\n",
       "</table>\n",
       "</div>"
      ],
      "text/plain": [
       "             login  created_at  database_id           location  \\\n",
       "0        LombiqBot  2014-08-21      8517910  Budapest, Hungary   \n",
       "1        LombiqBot  2014-08-21      8517910  Budapest, Hungary   \n",
       "2        LombiqBot  2014-08-21      8517910  Budapest, Hungary   \n",
       "3  direwolf-github  2015-02-02     10810283               None   \n",
       "4  direwolf-github  2015-02-02     10810283               None   \n",
       "\n",
       "                    company  \\\n",
       "0  Lombiq Technologies Ltd.   \n",
       "1  Lombiq Technologies Ltd.   \n",
       "2  Lombiq Technologies Ltd.   \n",
       "3                      None   \n",
       "4                      None   \n",
       "\n",
       "                                                 bio  is_employee  \\\n",
       "0  I'm a friendly robot that can also pass the Tu...        False   \n",
       "1  I'm a friendly robot that can also pass the Tu...        False   \n",
       "2  I'm a friendly robot that can also pass the Tu...        False   \n",
       "3                                               None        False   \n",
       "4                                               None        False   \n",
       "\n",
       "            email    infoname  \\\n",
       "0  bot@lombiq.com  Lombiq Bot   \n",
       "1  bot@lombiq.com  Lombiq Bot   \n",
       "2  bot@lombiq.com  Lombiq Bot   \n",
       "3                        None   \n",
       "4                        None   \n",
       "\n",
       "                                           followers following        time  \\\n",
       "0  50567111,61306948,60854565,57724193,55095689,5...      None  2021-11-22   \n",
       "1  50567111,61306948,60854565,57724193,55095689,5...      None  2021-12-23   \n",
       "2  50567111,61306948,60854565,57724193,55095689,5...      None  2022-01-25   \n",
       "3                57059290,35817050,56658371,45868471      None  2021-11-18   \n",
       "4                57059290,35817050,56658371,45868471      None  2021-12-20   \n",
       "\n",
       "              name lastupdatedat nextupdateat  \n",
       "0        LombiqBot    2022-01-25   2022-02-24  \n",
       "1        LombiqBot    2022-01-25   2022-02-24  \n",
       "2        LombiqBot    2022-01-25   2022-02-24  \n",
       "3  direwolf-github    2022-01-20   2022-02-19  \n",
       "4  direwolf-github    2022-01-20   2022-02-19  "
      ]
     },
     "execution_count": 4,
     "metadata": {},
     "output_type": "execute_result"
    }
   ],
   "source": [
    "users.head(5)"
   ]
  },
  {
   "cell_type": "markdown",
   "id": "967c8bef-96f5-47fa-ac2c-5e70b967a6e0",
   "metadata": {
    "pycharm": {
     "name": "#%% md\n"
    }
   },
   "source": [
    "取出users表中的database_id，followers，following三列数据，分析用户follow的网络"
   ]
  },
  {
   "cell_type": "code",
   "execution_count": 5,
   "id": "d5dfba5e-c9fc-4a53-804d-b7f856c7c88a",
   "metadata": {
    "pycharm": {
     "name": "#%%\n"
    }
   },
   "outputs": [],
   "source": [
    "users = users.to_pandas()\n",
    "user_follow = users.loc[:,[\"database_id\",\"followers\",\"following\"]]"
   ]
  },
  {
   "cell_type": "code",
   "execution_count": 6,
   "id": "bfe60325-3bbd-498e-998a-8a5122ed4ad6",
   "metadata": {
    "pycharm": {
     "name": "#%%\n"
    }
   },
   "outputs": [
    {
     "data": {
      "text/plain": [
       "618242"
      ]
     },
     "execution_count": 6,
     "metadata": {},
     "output_type": "execute_result"
    }
   ],
   "source": [
    "len(user_follow)"
   ]
  },
  {
   "cell_type": "code",
   "execution_count": 7,
   "id": "a05de62e-5583-41fe-bd25-c8b5aea373bb",
   "metadata": {
    "pycharm": {
     "name": "#%%\n"
    }
   },
   "outputs": [],
   "source": [
    "user_follow_d = user_follow.drop_duplicates()"
   ]
  },
  {
   "cell_type": "markdown",
   "id": "2859fcbf-a9b7-4b76-9a69-c5ca9a3987d4",
   "metadata": {
    "pycharm": {
     "name": "#%% md\n"
    }
   },
   "source": [
    "去重后剩下37万行数据"
   ]
  },
  {
   "cell_type": "code",
   "execution_count": 8,
   "id": "781ee9f3-3762-413e-a8cf-b4b2e2533cb1",
   "metadata": {
    "pycharm": {
     "name": "#%%\n"
    }
   },
   "outputs": [
    {
     "data": {
      "text/plain": [
       "373093"
      ]
     },
     "execution_count": 8,
     "metadata": {},
     "output_type": "execute_result"
    }
   ],
   "source": [
    "len(user_follow_d)"
   ]
  },
  {
   "cell_type": "markdown",
   "id": "e9e93bdc-4a79-425f-be22-b5f8529e68fb",
   "metadata": {
    "pycharm": {
     "name": "#%% md\n"
    }
   },
   "source": [
    "followers，following的数据是字符串类型，将其按逗号分割存在列表中，返回列表长度，即一个用户的followers或following的数量"
   ]
  },
  {
   "cell_type": "code",
   "execution_count": 9,
   "id": "c8ffeb7d-2827-4827-95d1-2b6c51bbec0c",
   "metadata": {
    "pycharm": {
     "name": "#%%\n"
    }
   },
   "outputs": [],
   "source": [
    "list_followers_count = list(map(lambda x: len(x.split(\",\")) if x else 0, \n",
    "                                [i for i in user_follow_d[\"followers\"]]))"
   ]
  },
  {
   "cell_type": "markdown",
   "id": "f3a737d0-252e-41d3-8cdc-162696c3fcbe",
   "metadata": {
    "pycharm": {
     "name": "#%% md\n"
    }
   },
   "source": [
    "对用户followers的数量做统计性描述"
   ]
  },
  {
   "cell_type": "code",
   "execution_count": 10,
   "id": "23e35549-3cad-4fbe-b17c-74b7d8045fe1",
   "metadata": {
    "pycharm": {
     "name": "#%%\n"
    }
   },
   "outputs": [
    {
     "data": {
      "text/plain": [
       "count    373093.000000\n",
       "mean         85.925059\n",
       "std         732.244230\n",
       "min           0.000000\n",
       "25%           3.000000\n",
       "50%          14.000000\n",
       "75%          45.000000\n",
       "max      148982.000000\n",
       "dtype: float64"
      ]
     },
     "execution_count": 10,
     "metadata": {},
     "output_type": "execute_result"
    }
   ],
   "source": [
    "pd.Series(list_followers_count).describe()"
   ]
  },
  {
   "cell_type": "markdown",
   "id": "0bf20ca0-c644-4344-b465-1985da89e301",
   "metadata": {
    "pycharm": {
     "name": "#%% md\n"
    }
   },
   "source": [
    "为了更直观的查看用户followers的数量分布，画图表示"
   ]
  },
  {
   "cell_type": "code",
   "execution_count": 11,
   "id": "eb5d2e6f-f3c3-454e-82d5-ad8a0e550109",
   "metadata": {
    "pycharm": {
     "name": "#%%\n"
    }
   },
   "outputs": [
    {
     "data": {
      "text/html": [
       "<div>\n",
       "<style scoped>\n",
       "    .dataframe tbody tr th:only-of-type {\n",
       "        vertical-align: middle;\n",
       "    }\n",
       "\n",
       "    .dataframe tbody tr th {\n",
       "        vertical-align: top;\n",
       "    }\n",
       "\n",
       "    .dataframe thead th {\n",
       "        text-align: right;\n",
       "    }\n",
       "</style>\n",
       "<table border=\"1\" class=\"dataframe\">\n",
       "  <thead>\n",
       "    <tr style=\"text-align: right;\">\n",
       "      <th></th>\n",
       "      <th>0</th>\n",
       "      <th>1</th>\n",
       "    </tr>\n",
       "  </thead>\n",
       "  <tbody>\n",
       "    <tr>\n",
       "      <th>2</th>\n",
       "      <td>0</td>\n",
       "      <td>41740</td>\n",
       "    </tr>\n",
       "    <tr>\n",
       "      <th>6</th>\n",
       "      <td>1</td>\n",
       "      <td>22485</td>\n",
       "    </tr>\n",
       "    <tr>\n",
       "      <th>7</th>\n",
       "      <td>2</td>\n",
       "      <td>17552</td>\n",
       "    </tr>\n",
       "    <tr>\n",
       "      <th>22</th>\n",
       "      <td>3</td>\n",
       "      <td>14709</td>\n",
       "    </tr>\n",
       "    <tr>\n",
       "      <th>1</th>\n",
       "      <td>4</td>\n",
       "      <td>12868</td>\n",
       "    </tr>\n",
       "    <tr>\n",
       "      <th>...</th>\n",
       "      <td>...</td>\n",
       "      <td>...</td>\n",
       "    </tr>\n",
       "    <tr>\n",
       "      <th>1059</th>\n",
       "      <td>75801</td>\n",
       "      <td>1</td>\n",
       "    </tr>\n",
       "    <tr>\n",
       "      <th>1060</th>\n",
       "      <td>76771</td>\n",
       "      <td>1</td>\n",
       "    </tr>\n",
       "    <tr>\n",
       "      <th>1061</th>\n",
       "      <td>77598</td>\n",
       "      <td>1</td>\n",
       "    </tr>\n",
       "    <tr>\n",
       "      <th>1944</th>\n",
       "      <td>146716</td>\n",
       "      <td>1</td>\n",
       "    </tr>\n",
       "    <tr>\n",
       "      <th>1945</th>\n",
       "      <td>148982</td>\n",
       "      <td>1</td>\n",
       "    </tr>\n",
       "  </tbody>\n",
       "</table>\n",
       "<p>3427 rows × 2 columns</p>\n",
       "</div>"
      ],
      "text/plain": [
       "           0      1\n",
       "2          0  41740\n",
       "6          1  22485\n",
       "7          2  17552\n",
       "22         3  14709\n",
       "1          4  12868\n",
       "...      ...    ...\n",
       "1059   75801      1\n",
       "1060   76771      1\n",
       "1061   77598      1\n",
       "1944  146716      1\n",
       "1945  148982      1\n",
       "\n",
       "[3427 rows x 2 columns]"
      ]
     },
     "execution_count": 11,
     "metadata": {},
     "output_type": "execute_result"
    }
   ],
   "source": [
    "dict_followers_count = {}\n",
    "for i in list_followers_count:\n",
    "    if i in dict_followers_count:\n",
    "        dict_followers_count[i] += 1\n",
    "    else:\n",
    "        dict_followers_count[i] = 1\n",
    "followers_num = np.array(list(dict_followers_count.keys())).reshape(-1,1)\n",
    "followers_num_cnt = np.array(list(dict_followers_count.values())).reshape(-1,1)\n",
    "followers = np.hstack([followers_num,followers_num_cnt])\n",
    "followers = pd.DataFrame(followers)\n",
    "followers = followers.sort_values(by=0)\n",
    "followers"
   ]
  },
  {
   "cell_type": "code",
   "execution_count": 12,
   "id": "b29adbf9-65b4-406c-9444-b8563a2775e5",
   "metadata": {
    "pycharm": {
     "name": "#%%\n"
    }
   },
   "outputs": [
    {
     "data": {
      "image/png": "[encoded data removed]",
      "text/plain": [
       "<Figure size 432x288 with 1 Axes>"
      ]
     },
     "metadata": {
      "needs_background": "light"
     },
     "output_type": "display_data"
    }
   ],
   "source": [
    "plt.scatter(followers[0], followers[1])\n",
    "plt.xlabel(\"followers number\")\n",
    "plt.ylabel(\"followers number count\")\n",
    "plt.show()"
   ]
  },
  {
   "cell_type": "markdown",
   "id": "5daffd9b-cd1c-4dd0-9621-5f1391a6db0d",
   "metadata": {
    "pycharm": {
     "name": "#%% md\n"
    }
   },
   "source": [
    "由于数据太大，所以对数据取log10，看得清楚一些"
   ]
  },
  {
   "cell_type": "code",
   "execution_count": 16,
   "id": "37b9379c-f3f4-477d-83a0-fbd94f66fbad",
   "metadata": {
    "pycharm": {
     "name": "#%%\n"
    }
   },
   "outputs": [
    {
     "data": {
      "image/png": "[encoded data removed]",
      "text/plain": [
       "<Figure size 432x288 with 1 Axes>"
      ]
     },
     "metadata": {
      "needs_background": "light"
     },
     "output_type": "display_data"
    }
   ],
   "source": [
    "delta = 1\n",
    "plt.scatter(np.log10(followers[0]+delta),np.log10(followers[1]))\n",
    "plt.xlabel(\"followers number(log10)\")\n",
    "plt.ylabel(\"followers number count(log10)\")\n",
    "plt.savefig(\"./pictures/follow_numbers_cnt.png\")\n",
    "plt.show()"
   ]
  },
  {
   "cell_type": "markdown",
   "id": "a11e1aae-afb1-456c-bd2a-3449f171824c",
   "metadata": {
    "pycharm": {
     "name": "#%% md\n"
    }
   },
   "source": [
    "对following数据做和followers数据相同的操作"
   ]
  },
  {
   "cell_type": "code",
   "execution_count": 17,
   "id": "e7fd7492-2487-488b-a7bd-efeb9b22ca52",
   "metadata": {
    "pycharm": {
     "name": "#%%\n"
    }
   },
   "outputs": [],
   "source": [
    "list_following_count = list(map(lambda x: len(x.split(\",\")) if x else 0, \n",
    "                                [i for i in user_follow_d[\"following\"]]))"
   ]
  },
  {
   "cell_type": "code",
   "execution_count": 18,
   "id": "4dc4f445-fb62-4928-a552-14e63050bdbd",
   "metadata": {
    "pycharm": {
     "name": "#%%\n"
    }
   },
   "outputs": [
    {
     "data": {
      "text/plain": [
       "count    373093.000000\n",
       "mean         44.894822\n",
       "std         460.497530\n",
       "min           0.000000\n",
       "25%           1.000000\n",
       "50%           7.000000\n",
       "75%          26.000000\n",
       "max       67221.000000\n",
       "dtype: float64"
      ]
     },
     "execution_count": 18,
     "metadata": {},
     "output_type": "execute_result"
    }
   ],
   "source": [
    "pd.Series(list_following_count).describe()"
   ]
  },
  {
   "cell_type": "code",
   "execution_count": 19,
   "id": "2d5a66d4-f375-4749-afa4-0dccdf9e0145",
   "metadata": {
    "pycharm": {
     "name": "#%%\n"
    }
   },
   "outputs": [
    {
     "data": {
      "text/html": [
       "<div>\n",
       "<style scoped>\n",
       "    .dataframe tbody tr th:only-of-type {\n",
       "        vertical-align: middle;\n",
       "    }\n",
       "\n",
       "    .dataframe tbody tr th {\n",
       "        vertical-align: top;\n",
       "    }\n",
       "\n",
       "    .dataframe thead th {\n",
       "        text-align: right;\n",
       "    }\n",
       "</style>\n",
       "<table border=\"1\" class=\"dataframe\">\n",
       "  <thead>\n",
       "    <tr style=\"text-align: right;\">\n",
       "      <th></th>\n",
       "      <th>0</th>\n",
       "      <th>1</th>\n",
       "    </tr>\n",
       "  </thead>\n",
       "  <tbody>\n",
       "    <tr>\n",
       "      <th>0</th>\n",
       "      <td>0</td>\n",
       "      <td>87336</td>\n",
       "    </tr>\n",
       "    <tr>\n",
       "      <th>3</th>\n",
       "      <td>1</td>\n",
       "      <td>28354</td>\n",
       "    </tr>\n",
       "    <tr>\n",
       "      <th>1</th>\n",
       "      <td>2</td>\n",
       "      <td>19450</td>\n",
       "    </tr>\n",
       "    <tr>\n",
       "      <th>7</th>\n",
       "      <td>3</td>\n",
       "      <td>15529</td>\n",
       "    </tr>\n",
       "    <tr>\n",
       "      <th>2</th>\n",
       "      <td>4</td>\n",
       "      <td>13231</td>\n",
       "    </tr>\n",
       "    <tr>\n",
       "      <th>...</th>\n",
       "      <td>...</td>\n",
       "      <td>...</td>\n",
       "    </tr>\n",
       "    <tr>\n",
       "      <th>1043</th>\n",
       "      <td>57146</td>\n",
       "      <td>1</td>\n",
       "    </tr>\n",
       "    <tr>\n",
       "      <th>1044</th>\n",
       "      <td>57150</td>\n",
       "      <td>1</td>\n",
       "    </tr>\n",
       "    <tr>\n",
       "      <th>1518</th>\n",
       "      <td>67010</td>\n",
       "      <td>1</td>\n",
       "    </tr>\n",
       "    <tr>\n",
       "      <th>1519</th>\n",
       "      <td>67012</td>\n",
       "      <td>1</td>\n",
       "    </tr>\n",
       "    <tr>\n",
       "      <th>1520</th>\n",
       "      <td>67221</td>\n",
       "      <td>1</td>\n",
       "    </tr>\n",
       "  </tbody>\n",
       "</table>\n",
       "<p>2092 rows × 2 columns</p>\n",
       "</div>"
      ],
      "text/plain": [
       "          0      1\n",
       "0         0  87336\n",
       "3         1  28354\n",
       "1         2  19450\n",
       "7         3  15529\n",
       "2         4  13231\n",
       "...     ...    ...\n",
       "1043  57146      1\n",
       "1044  57150      1\n",
       "1518  67010      1\n",
       "1519  67012      1\n",
       "1520  67221      1\n",
       "\n",
       "[2092 rows x 2 columns]"
      ]
     },
     "execution_count": 19,
     "metadata": {},
     "output_type": "execute_result"
    }
   ],
   "source": [
    "dict_following_count = {}\n",
    "for i in list_following_count:\n",
    "    if i in dict_following_count:\n",
    "        dict_following_count[i] += 1\n",
    "    else:\n",
    "        dict_following_count[i] = 1\n",
    "        \n",
    "following_num = np.array(list(dict_following_count.keys())).reshape(-1,1)\n",
    "following_num_cnt = np.array(list(dict_following_count.values())).reshape(-1,1)\n",
    "following = np.hstack([following_num,following_num_cnt])\n",
    "following = pd.DataFrame(following)\n",
    "following = following.sort_values(by=0)\n",
    "following"
   ]
  },
  {
   "cell_type": "code",
   "execution_count": 20,
   "id": "8fa886bd-5fd4-44dc-8d95-c7631d002264",
   "metadata": {
    "pycharm": {
     "name": "#%%\n"
    }
   },
   "outputs": [
    {
     "data": {
      "image/png": "[encoded data removed]",
      "text/plain": [
       "<Figure size 432x288 with 1 Axes>"
      ]
     },
     "metadata": {
      "needs_background": "light"
     },
     "output_type": "display_data"
    }
   ],
   "source": [
    "plt.scatter(following[0], following[1])\n",
    "plt.xlabel(\"following number\")\n",
    "plt.ylabel(\"following number count\")\n",
    "plt.show()"
   ]
  },
  {
   "cell_type": "code",
   "execution_count": 22,
   "id": "234263ef-ca56-4ca5-9f90-2a356e67ffcb",
   "metadata": {
    "pycharm": {
     "name": "#%%\n"
    }
   },
   "outputs": [
    {
     "data": {
      "image/png": "[encoded data removed]",
      "text/plain": [
       "<Figure size 432x288 with 1 Axes>"
      ]
     },
     "metadata": {
      "needs_background": "light"
     },
     "output_type": "display_data"
    }
   ],
   "source": [
    "delta = 1\n",
    "plt.scatter(np.log10(following[0]+delta),np.log10(following[1]))\n",
    "plt.xlabel(\"following number(log10)\")\n",
    "plt.ylabel(\"following number count(log10)\")\n",
    "plt.savefig(\"./pictures/following_numbers_cnt.png\")\n",
    "plt.show()"
   ]
  },
  {
   "cell_type": "markdown",
   "id": "81c67591-df2d-4fe8-bd5e-1f3a6cbc6d24",
   "metadata": {
    "pycharm": {
     "name": "#%% md\n"
    }
   },
   "source": [
    "分析网络的稀疏性"
   ]
  },
  {
   "cell_type": "code",
   "execution_count": 25,
   "id": "3da84f2b-db34-4537-8384-92252c00f677",
   "metadata": {
    "pycharm": {
     "name": "#%%\n"
    }
   },
   "outputs": [],
   "source": [
    "import networkx as nx"
   ]
  },
  {
   "cell_type": "code",
   "execution_count": 26,
   "id": "aa132dbc-180f-4e24-9f51-66945da53498",
   "metadata": {
    "pycharm": {
     "name": "#%%\n"
    }
   },
   "outputs": [],
   "source": [
    "class UserGraph:\n",
    "    def __init__(self, data):\n",
    "        self.data = data\n",
    "        self.vertex, self.edge = self.__to_graph__()\n",
    "        \n",
    "    def __to_graph__(self):\n",
    "        vertex = []\n",
    "        edge = []\n",
    "        for database_id, followers, following in self.data.values:\n",
    "            vertex.append(database_id)\n",
    "            if followers:\n",
    "                followers = followers.split(\",\")\n",
    "                for follower in followers:\n",
    "                    if follower not in vertex:\n",
    "                        vertex.append(follower)\n",
    "                    e = [follower, database_id]\n",
    "                    if e not in edge:\n",
    "                        edge.append(e)\n",
    "            if following:\n",
    "                following = following.split(\",\")\n",
    "                for i in following:\n",
    "                    if i not in vertex:\n",
    "                        vertex.append(i)\n",
    "                    e = [database_id, i]\n",
    "                    if e not in edge:\n",
    "                        edge.append(e)\n",
    "        return vertex, edge"
   ]
  },
  {
   "cell_type": "code",
   "execution_count": 32,
   "id": "e256d74d-ca2d-410b-825a-f5382b1f5f92",
   "metadata": {
    "pycharm": {
     "name": "#%%\n"
    }
   },
   "outputs": [],
   "source": [
    "start = np.random.randint(0,len(user_follow_d) - 200)\n",
    "user_graph = UserGraph(user_follow_d[start : start + 200])"
   ]
  },
  {
   "cell_type": "code",
   "execution_count": 33,
   "id": "6509350e-27bc-4c2e-bae7-a034398773e2",
   "metadata": {
    "pycharm": {
     "name": "#%%\n"
    }
   },
   "outputs": [
    {
     "data": {
      "text/plain": [
       "3852"
      ]
     },
     "execution_count": 33,
     "metadata": {},
     "output_type": "execute_result"
    }
   ],
   "source": [
    "len(user_graph.vertex)"
   ]
  },
  {
   "cell_type": "code",
   "execution_count": 34,
   "id": "681207cb-078a-459a-ad07-dad5f3903f43",
   "metadata": {
    "pycharm": {
     "name": "#%%\n"
    }
   },
   "outputs": [
    {
     "data": {
      "text/plain": [
       "4248"
      ]
     },
     "execution_count": 34,
     "metadata": {},
     "output_type": "execute_result"
    }
   ],
   "source": [
    "len(user_graph.edge)"
   ]
  },
  {
   "cell_type": "code",
   "execution_count": 35,
   "id": "1f40d3f6-717c-43c4-a44c-a7439fe13c19",
   "metadata": {
    "pycharm": {
     "name": "#%%\n"
    }
   },
   "outputs": [],
   "source": [
    "e_from = np.array(user_graph.edge)[:,0]\n",
    "e_to = np.array(user_graph.edge)[:,1]\n",
    "df = pd.DataFrame({ 'from':e_from, 'to':e_to }) "
   ]
  },
  {
   "cell_type": "code",
   "execution_count": 36,
   "id": "404fe50b-c854-4c43-a8b9-707bc6b9d08e",
   "metadata": {
    "pycharm": {
     "name": "#%%\n"
    }
   },
   "outputs": [
    {
     "data": {
      "image/png": "[encoded data removed]",
      "text/plain": [
       "<Figure size 432x288 with 1 Axes>"
      ]
     },
     "metadata": {},
     "output_type": "display_data"
    }
   ],
   "source": [
    "G=nx.from_pandas_edgelist(df, 'from', 'to') \n",
    " \n",
    "# nx.draw(G, with_labels=True)\n",
    "nx.draw(G, with_labels=False)\n",
    "plt.savefig(\"./pictures/follow_net.png\")\n",
    "plt.show()"
   ]
  },
  {
   "cell_type": "markdown",
   "id": "8a5278f4-99d6-4724-bfd7-5b9568980403",
   "metadata": {
    "pycharm": {
     "name": "#%% md\n"
    }
   },
   "source": [
    "查看ods层中的日志log数据详情"
   ]
  },
  {
   "cell_type": "code",
   "execution_count": 26,
   "id": "b10fbeab-4435-480b-829e-2ab1728ff006",
   "metadata": {
    "pycharm": {
     "name": "#%%\n"
    }
   },
   "outputs": [
    {
     "data": {
      "text/plain": [
       "odps.Schema {\n",
       "  id                                                                          string                  \n",
       "  type                                                                        string                  \n",
       "  action                                                                      string                  \n",
       "  actor_id                                                                    int64                   \n",
       "  actor_login                                                                 string                  \n",
       "  repo_id                                                                     int64                   \n",
       "  repo_name                                                                   string                  \n",
       "  org_id                                                                      int64                   \n",
       "  org_login                                                                   string                  \n",
       "  created_at                                                                  datetime                \n",
       "  issue_id                                                                    int64                   \n",
       "  issue_number                                                                int32                   \n",
       "  issue_title                                                                 string                  \n",
       "  issue_body                                                                  string                  \n",
       "  issue_labels_name                                                           list<string>            \n",
       "  issue_labels_color                                                          list<string>            \n",
       "  issue_labels_default                                                        list<string>            \n",
       "  issue_labels_description                                                    list<string>            \n",
       "  issue_author_id                                                             int64                   \n",
       "  issue_author_login                                                          string                  \n",
       "  issue_author_type                                                           string                  \n",
       "  issue_author_association                                                    string                  \n",
       "  issue_assignee_id                                                           int64                   \n",
       "  issue_assignee_login                                                        string                  \n",
       "  issue_assignees_id                                                          list<string>            \n",
       "  issue_assignees_login                                                       list<string>            \n",
       "  issue_created_at                                                            datetime                \n",
       "  issue_updated_at                                                            datetime                \n",
       "  issue_comments                                                              int16                   \n",
       "  issue_closed_at                                                             datetime                \n",
       "  issue_comment_id                                                            int64                   \n",
       "  issue_comment_body                                                          string                  \n",
       "  issue_comment_created_at                                                    datetime                \n",
       "  issue_comment_updated_at                                                    datetime                \n",
       "  issue_comment_author_association                                            string                  \n",
       "  issue_comment_author_id                                                     int64                   \n",
       "  issue_comment_author_login                                                  string                  \n",
       "  issue_comment_author_type                                                   string                  \n",
       "  pull_commits                                                                int16                   \n",
       "  pull_additions                                                              int16                   \n",
       "  pull_deletions                                                              int16                   \n",
       "  pull_changed_files                                                          int32                   \n",
       "  pull_merged                                                                 int8                    \n",
       "  pull_merge_commit_sha                                                       string                  \n",
       "  pull_merged_at                                                              datetime                \n",
       "  pull_merged_by_id                                                           int64                   \n",
       "  pull_merged_by_login                                                        string                  \n",
       "  pull_merged_by_type                                                         string                  \n",
       "  pull_requested_reviewer_id                                                  int64                   \n",
       "  pull_requested_reviewer_login                                               string                  \n",
       "  pull_requested_reviewer_type                                                string                  \n",
       "  pull_review_comments                                                        int16                   \n",
       "  repo_description                                                            string                  \n",
       "  repo_size                                                                   int32                   \n",
       "  repo_stargazers_count                                                       int32                   \n",
       "  repo_forks_count                                                            int32                   \n",
       "  repo_language                                                               string                  \n",
       "  repo_has_issues                                                             int8                    \n",
       "  repo_has_projects                                                           int8                    \n",
       "  repo_has_downloads                                                          int8                    \n",
       "  repo_has_wiki                                                               int8                    \n",
       "  repo_has_pages                                                              int8                    \n",
       "  repo_license                                                                string                  \n",
       "  repo_default_branch                                                         string                  \n",
       "  repo_created_at                                                             datetime                \n",
       "  repo_updated_at                                                             datetime                \n",
       "  repo_pushed_at                                                              datetime                \n",
       "  pull_review_id                                                              int64                   \n",
       "  pull_review_comment_id                                                      int64                   \n",
       "  pull_review_comment_path                                                    string                  \n",
       "  pull_review_comment_position                                                string                  \n",
       "  pull_review_comment_author_id                                               int64                   \n",
       "  pull_review_comment_author_login                                            string                  \n",
       "  pull_review_comment_author_type                                             string                  \n",
       "  pull_review_comment_author_association                                      string                  \n",
       "  pull_review_comment_body                                                    string                  \n",
       "  pull_review_comment_created_at                                              datetime                \n",
       "  pull_review_comment_updated_at                                              datetime                \n",
       "  push_id                                                                     int64                   \n",
       "  push_size                                                                   int32                   \n",
       "  push_distinct_size                                                          int32                   \n",
       "  push_ref                                                                    string                  \n",
       "  push_head                                                                   string                  \n",
       "  push_before                                                                 string                  \n",
       "  push_commits_name                                                           list<string>            \n",
       "  push_commits_email                                                          list<string>            \n",
       "  push_commits_message                                                        list<string>            \n",
       "  fork_forkee_id                                                              int64                   \n",
       "  fork_forkee_full_name                                                       string                  \n",
       "  fork_forkee_owner_id                                                        int64                   \n",
       "  fork_forkee_owner_login                                                     string                  \n",
       "  fork_forkee_owner_type                                                      string                  \n",
       "  delete_ref                                                                  string                  \n",
       "  delete_ref_type                                                             string                  \n",
       "  delete_pusher_type                                                          string                  \n",
       "  create_ref                                                                  string                  \n",
       "  create_ref_type                                                             string                  \n",
       "  create_master_branch                                                        string                  \n",
       "  create_description                                                          string                  \n",
       "  create_pusher_type                                                          string                  \n",
       "  gollum_pages_page_name                                                      list<string>            \n",
       "  gollum_pages_title                                                          list<string>            \n",
       "  gollum_pages_action                                                         list<string>            \n",
       "  member_login                                                                string                  \n",
       "  member_type                                                                 string                  \n",
       "  member_id                                                                   int64                   \n",
       "  release_id                                                                  int64                   \n",
       "  release_tag_name                                                            string                  \n",
       "  release_target_commitish                                                    string                  \n",
       "  release_name                                                                string                  \n",
       "  release_draft                                                               int8                    \n",
       "  release_author_id                                                           int64                   \n",
       "  release_author_login                                                        string                  \n",
       "  release_author_type                                                         string                  \n",
       "  release_prerelease                                                          int8                    \n",
       "  release_created_at                                                          datetime                \n",
       "  release_published_at                                                        datetime                \n",
       "  release_body                                                                string                  \n",
       "  release_assets_name                                                         list<string>            \n",
       "  release_assets_uploader_login                                               list<string>            \n",
       "  release_assets_uploader_id                                                  list<string>            \n",
       "  release_assets_content_type                                                 list<string>            \n",
       "  release_assets_state                                                        list<string>            \n",
       "  release_assets_size                                                         list<string>            \n",
       "  release_assets_download_count                                               list<string>            \n",
       "  commit_comment_id                                                           int64                   \n",
       "  commit_comment_author_id                                                    int64                   \n",
       "  commit_comment_author_login                                                 string                  \n",
       "  commit_comment_author_type                                                  string                  \n",
       "  commit_comment_author_association                                           string                  \n",
       "  commit_comment_body                                                         string                  \n",
       "  commit_comment_path                                                         string                  \n",
       "  commit_comment_position                                                     string                  \n",
       "  commit_comment_line                                                         string                  \n",
       "  commit_comment_created_at                                                   datetime                \n",
       "  commit_comment_updated_at                                                   datetime                \n",
       "  pt                                                                          string                  \n",
       "}"
      ]
     },
     "execution_count": 26,
     "metadata": {},
     "output_type": "execute_result"
    }
   ],
   "source": [
    "github_log = DataFrame(o.get_table('ods_github_log'))\n",
    "github_log.dtypes"
   ]
  },
  {
   "cell_type": "code",
   "execution_count": 27,
   "id": "5b60d0ab-6d29-4a24-904a-6d07ec5f8f71",
   "metadata": {
    "pycharm": {
     "name": "#%%\n"
    }
   },
   "outputs": [],
   "source": [
    "# github_log.count()"
   ]
  },
  {
   "cell_type": "markdown",
   "id": "53821fa0-01af-4370-8c7c-d716ddb52bd5",
   "metadata": {
    "pycharm": {
     "name": "#%% md\n"
    }
   },
   "source": [
    "ODPS-0130071: InstanceId: 20220517053059263gg4rxh8a2       \n",
    "ODPS-0130071:[0,0] Semantic analysis exception - physical plan generation failed: java.lang.RuntimeException: Table(OpenDigger_prod_dev,ods_github_log) is full scan with all partitions, please specify partition predicates.       \n",
    "由于log表过大，不能扫描所有的分区，即不能用github_log.count()来获取所有log数据的数量，所以自己写了一个sql来获取每一年的log数据量  "
   ]
  },
  {
   "cell_type": "code",
   "execution_count": 38,
   "id": "509562e9-cf8e-4e81-921e-7b1fc667398c",
   "metadata": {
    "pycharm": {
     "name": "#%%\n"
    }
   },
   "outputs": [],
   "source": [
    "def log_count(year):\n",
    "    sql = \"SELECT count(*) as cnt FROM ods_github_log WHERE pt>='%s0101' AND pt <='%s1201';\" %(year, year)\n",
    "    with o.execute_sql(sql).open_reader() as reader:\n",
    "            for record in reader:\n",
    "                return record.cnt"
   ]
  },
  {
   "cell_type": "code",
   "execution_count": 39,
   "id": "870ef006-d122-4d1f-97fb-5b3dbc3a6702",
   "metadata": {
    "pycharm": {
     "name": "#%%\n"
    }
   },
   "outputs": [
    {
     "name": "stdout",
     "output_type": "stream",
     "text": [
      "2015 212221627\n",
      "2016 320726236\n",
      "2017 412942763\n",
      "2018 479185525\n",
      "2019 605544846\n",
      "2020 863415598\n",
      "2021 998564683\n"
     ]
    }
   ],
   "source": [
    "for i in range(2015, 2022):\n",
    "    print(i, log_count(i))"
   ]
  },
  {
   "cell_type": "markdown",
   "id": "78dccf03-61cf-47d9-92c4-d627d857b11f",
   "metadata": {
    "pycharm": {
     "name": "#%% md\n"
    }
   },
   "source": [
    "因为log数据太大，所以下载了2021年的数据，后续的分析计算都用这一年的数据    \n",
    "因为一年的数据还是很大，所以分析的时候只用了第一季度，后面计算的时候因为会做过滤，所以还是会用一年的数据"
   ]
  },
  {
   "cell_type": "markdown",
   "id": "5f66e325-c681-4913-838a-435c6ba7f289",
   "metadata": {
    "pycharm": {
     "name": "#%% md\n"
    }
   },
   "source": [
    "先查看第一季度所有type的数据量，并排序输出    \n",
    "因为直接输出会报错\n",
    "Semantic analysis exception - ORDER BY must be used with a LIMIT clause, please set odps.sql.validate.orderby.limit=false to use it.\n",
    "所以先确定了type的数量"
   ]
  },
  {
   "cell_type": "code",
   "execution_count": 40,
   "id": "04aeec7b-ff7a-40ce-8dad-8956b06a9ad6",
   "metadata": {
    "pycharm": {
     "name": "#%%\n"
    }
   },
   "outputs": [
    {
     "name": "stdout",
     "output_type": "stream",
     "text": [
      "247778219\n"
     ]
    }
   ],
   "source": [
    "sql = \"SELECT count(*) as cnt FROM ods_github_log WHERE pt>='20210101' AND pt<='20210301';\"\n",
    "with o.execute_sql(sql).open_reader() as reader:\n",
    "        for record in reader:\n",
    "            print(record.cnt)"
   ]
  },
  {
   "cell_type": "code",
   "execution_count": 41,
   "id": "f75d33ac-c959-4da4-b06a-7af347644c5b",
   "metadata": {
    "pycharm": {
     "name": "#%%\n"
    }
   },
   "outputs": [
    {
     "name": "stdout",
     "output_type": "stream",
     "text": [
      "CommitCommentEvent\n",
      "CreateEvent\n",
      "DeleteEvent\n",
      "ForkEvent\n",
      "GollumEvent\n",
      "IssueCommentEvent\n",
      "IssuesEvent\n",
      "MemberEvent\n",
      "PublicEvent\n",
      "PullRequestEvent\n",
      "PullRequestReviewCommentEvent\n",
      "PushEvent\n",
      "ReleaseEvent\n",
      "WatchEvent\n"
     ]
    }
   ],
   "source": [
    "type_cnt = 0\n",
    "sql = \"SELECT DISTINCT type FROM ods_github_log WHERE pt='20210101';\"\n",
    "with o.execute_sql(sql).open_reader() as reader:\n",
    "        for record in reader:\n",
    "            print(record.type)\n",
    "            type_cnt += 1"
   ]
  },
  {
   "cell_type": "code",
   "execution_count": 42,
   "id": "c24a1c9d-4a08-47db-965b-549292081ce4",
   "metadata": {
    "pycharm": {
     "name": "#%%\n"
    }
   },
   "outputs": [
    {
     "name": "stdout",
     "output_type": "stream",
     "text": [
      "PushEvent 123441538\n",
      "CreateEvent 38485579\n",
      "PullRequestEvent 26278191\n",
      "IssueCommentEvent 16340194\n",
      "WatchEvent 13269952\n",
      "DeleteEvent 9547182\n",
      "IssuesEvent 6536574\n",
      "ForkEvent 4783059\n",
      "PullRequestReviewCommentEvent 4324718\n",
      "ReleaseEvent 1247622\n",
      "CommitCommentEvent 1019889\n",
      "GollumEvent 965936\n",
      "PublicEvent 793712\n",
      "MemberEvent 744073\n"
     ]
    }
   ],
   "source": [
    "sql = \"\"\"SELECT type, count(*) as cnt FROM ods_github_log\n",
    "WHERE pt>='20210101' AND pt<='20210301'\n",
    "GROUP BY type ORDER BY cnt DESC LIMIT %s\n",
    "\"\"\" %type_cnt\n",
    "event_type = []\n",
    "event_cnt = []\n",
    "with o.execute_sql(sql).open_reader() as reader:\n",
    "        for record in reader:\n",
    "            print(record.type, record.cnt)\n",
    "            event_type.append(record.type)\n",
    "            event_cnt.append(int(record.cnt))"
   ]
  },
  {
   "cell_type": "code",
   "execution_count": 51,
   "id": "e6f9b08c-3a51-4afc-95cd-e4727ddd401b",
   "metadata": {
    "pycharm": {
     "name": "#%%\n"
    }
   },
   "outputs": [
    {
     "data": {
      "image/png": "[encoded data removed]",
      "text/plain": [
       "<Figure size 720x288 with 1 Axes>"
      ]
     },
     "metadata": {
      "needs_background": "light"
     },
     "output_type": "display_data"
    }
   ],
   "source": [
    "event_type = [i[0:-5] for i in event_type]\n",
    "plt.figure(figsize=(10,4)) \n",
    "sns.barplot(x=event_cnt, y=event_type)\n",
    "plt.title(\"event count in 2021 first quarter\")\n",
    "plt.savefig(\"./pictures/event.png\")\n",
    "plt.show()"
   ]
  },
  {
   "cell_type": "code",
   "execution_count": 2,
   "id": "4712a421-659d-4c81-bc94-a5b626fe8fc6",
   "metadata": {
    "pycharm": {
     "name": "#%%\n"
    }
   },
   "outputs": [],
   "source": [
    "sql = \"\"\"SELECT actor_id, count(*) as cnt FROM ods_github_log\n",
    "WHERE pt>='20210101' AND pt<='20210301'\n",
    "GROUP BY actor_id\n",
    "\"\"\"\n",
    "actor_id = []\n",
    "log_cnt = []\n",
    "with o.execute_sql(sql).open_reader() as reader:\n",
    "        for record in reader:\n",
    "            actor_id.append(record.actor_id)\n",
    "            log_cnt.append(record.cnt)"
   ]
  },
  {
   "cell_type": "code",
   "execution_count": 3,
   "id": "0883ffbb-8066-473d-bebb-39b03b9c7c66",
   "metadata": {
    "pycharm": {
     "name": "#%%\n"
    }
   },
   "outputs": [
    {
     "data": {
      "text/plain": [
       "count    7.202365e+06\n",
       "mean     3.440234e+01\n",
       "std      8.266145e+03\n",
       "min      1.000000e+00\n",
       "25%      2.000000e+00\n",
       "50%      5.000000e+00\n",
       "75%      1.700000e+01\n",
       "max      1.991606e+07\n",
       "dtype: float64"
      ]
     },
     "execution_count": 3,
     "metadata": {},
     "output_type": "execute_result"
    }
   ],
   "source": [
    "pd.Series(log_cnt).describe()"
   ]
  },
  {
   "cell_type": "code",
   "execution_count": 4,
   "id": "08a68e2a-a9c6-42f5-859a-5192bd13d3db",
   "metadata": {
    "pycharm": {
     "name": "#%%\n"
    }
   },
   "outputs": [],
   "source": [
    "count = {}\n",
    "for i in log_cnt:\n",
    "    if i in count:\n",
    "        count[i] += 1\n",
    "    else:\n",
    "        count[i] = 1\n",
    "num = np.array(list(count.keys())).reshape(-1,1)\n",
    "num_cnt = np.array(list(count.values())).reshape(-1,1)"
   ]
  },
  {
   "cell_type": "code",
   "execution_count": 8,
   "id": "d21180ea-815f-49a1-bcfc-0219b79159cb",
   "metadata": {
    "pycharm": {
     "name": "#%%\n"
    }
   },
   "outputs": [
    {
     "data": {
      "image/png": "[encoded data removed]",
      "text/plain": [
       "<Figure size 432x288 with 1 Axes>"
      ]
     },
     "metadata": {
      "needs_background": "light"
     },
     "output_type": "display_data"
    }
   ],
   "source": [
    "plt.scatter(np.log10(num),np.log10(num_cnt))\n",
    "plt.xlabel(\"actor log number(log10)\")\n",
    "plt.ylabel(\"actor log number count(log10)\")\n",
    "plt.savefig(\"./pictures/log_number_count.png\")\n",
    "plt.show()"
   ]
  },
  {
   "cell_type": "markdown",
   "id": "eaf70533-0006-49e7-8a79-2fdff1085387",
   "metadata": {
    "pycharm": {
     "name": "#%% md\n"
    }
   },
   "source": [
    "查看dim层的一些数据，dim_github_actor，dim_github_repo，dim_github_org，dim_github_issue，dim_github_pr"
   ]
  },
  {
   "cell_type": "code",
   "execution_count": 38,
   "id": "6931c7a8-65d9-4384-9033-14709140557c",
   "metadata": {
    "pycharm": {
     "name": "#%%\n"
    }
   },
   "outputs": [
    {
     "data": {
      "text/plain": [
       "odps.Schema {\n",
       "  actor_id              int64           \n",
       "  actor_login           string          \n",
       "  type                  string          \n",
       "  created_at            datetime        \n",
       "}"
      ]
     },
     "execution_count": 38,
     "metadata": {},
     "output_type": "execute_result"
    }
   ],
   "source": [
    "user_dim = DataFrame(o.get_table('dim_github_actor'))\n",
    "user_dim.dtypes"
   ]
  },
  {
   "cell_type": "code",
   "execution_count": 39,
   "id": "646bc7d3-964a-466b-b221-c9e4cf80b906",
   "metadata": {
    "pycharm": {
     "name": "#%%\n"
    }
   },
   "outputs": [
    {
     "data": {
      "text/html": [
       "39924151"
      ],
      "text/plain": [
       "39924151"
      ]
     },
     "execution_count": 39,
     "metadata": {},
     "output_type": "execute_result"
    }
   ],
   "source": [
    "user_dim.count()"
   ]
  },
  {
   "cell_type": "code",
   "execution_count": 40,
   "id": "d31a4523-2961-4cdf-b3a9-5fd2374c5ba6",
   "metadata": {
    "pycharm": {
     "name": "#%%\n"
    }
   },
   "outputs": [
    {
     "data": {
      "text/html": [
       "<div>\n",
       "<style scoped>\n",
       "    .dataframe tbody tr th:only-of-type {\n",
       "        vertical-align: middle;\n",
       "    }\n",
       "\n",
       "    .dataframe tbody tr th {\n",
       "        vertical-align: top;\n",
       "    }\n",
       "\n",
       "    .dataframe thead th {\n",
       "        text-align: right;\n",
       "    }\n",
       "</style>\n",
       "<table border=\"1\" class=\"dataframe\">\n",
       "  <thead>\n",
       "    <tr style=\"text-align: right;\">\n",
       "      <th></th>\n",
       "      <th>actor_id</th>\n",
       "      <th>actor_login</th>\n",
       "      <th>type</th>\n",
       "      <th>created_at</th>\n",
       "    </tr>\n",
       "  </thead>\n",
       "  <tbody>\n",
       "    <tr>\n",
       "      <th>0</th>\n",
       "      <td>180</td>\n",
       "      <td>samgranieri</td>\n",
       "      <td>User</td>\n",
       "      <td>2021-12-16 13:52:50</td>\n",
       "    </tr>\n",
       "    <tr>\n",
       "      <th>1</th>\n",
       "      <td>217</td>\n",
       "      <td>tkersey</td>\n",
       "      <td>User</td>\n",
       "      <td>2021-12-17 08:27:04</td>\n",
       "    </tr>\n",
       "    <tr>\n",
       "      <th>2</th>\n",
       "      <td>588</td>\n",
       "      <td>nickpad</td>\n",
       "      <td>User</td>\n",
       "      <td>2021-07-02 19:28:29</td>\n",
       "    </tr>\n",
       "    <tr>\n",
       "      <th>3</th>\n",
       "      <td>813</td>\n",
       "      <td>Imbrondir</td>\n",
       "      <td></td>\n",
       "      <td>NaT</td>\n",
       "    </tr>\n",
       "    <tr>\n",
       "      <th>4</th>\n",
       "      <td>903</td>\n",
       "      <td>luke0x</td>\n",
       "      <td>User</td>\n",
       "      <td>2015-05-28 21:43:58</td>\n",
       "    </tr>\n",
       "  </tbody>\n",
       "</table>\n",
       "</div>"
      ],
      "text/plain": [
       "   actor_id  actor_login  type          created_at\n",
       "0       180  samgranieri  User 2021-12-16 13:52:50\n",
       "1       217      tkersey  User 2021-12-17 08:27:04\n",
       "2       588      nickpad  User 2021-07-02 19:28:29\n",
       "3       813    Imbrondir                       NaT\n",
       "4       903       luke0x  User 2015-05-28 21:43:58"
      ]
     },
     "execution_count": 40,
     "metadata": {},
     "output_type": "execute_result"
    }
   ],
   "source": [
    "user_dim.head(5)"
   ]
  },
  {
   "cell_type": "code",
   "execution_count": 44,
   "id": "6286d10c-20be-4118-959b-e5a854e88bfd",
   "metadata": {
    "pycharm": {
     "name": "#%%\n"
    }
   },
   "outputs": [
    {
     "data": {
      "text/plain": [
       "odps.Schema {\n",
       "  repo_id                                   int64           \n",
       "  repo_name                                 string          \n",
       "  org_id                                    int64           \n",
       "  org_login                                 string          \n",
       "  repo_description                          string          \n",
       "  repo_size                                 int32           \n",
       "  repo_stargazers_count                     int32           \n",
       "  repo_forks_count                          int32           \n",
       "  repo_language                             string          \n",
       "  repo_has_issues                           int8            \n",
       "  repo_has_projects                         int8            \n",
       "  repo_has_downloads                        int8            \n",
       "  repo_has_wiki                             int8            \n",
       "  repo_has_pages                            int8            \n",
       "  repo_license                              string          \n",
       "  repo_default_branch                       string          \n",
       "  repo_created_at                           datetime        \n",
       "  repo_updated_at                           datetime        \n",
       "  repo_pushed_at                            datetime        \n",
       "  repo_has_pr                               int64           \n",
       "}"
      ]
     },
     "execution_count": 44,
     "metadata": {},
     "output_type": "execute_result"
    }
   ],
   "source": [
    "repo_dim = DataFrame(o.get_table('dim_github_repo'))\n",
    "repo_dim.dtypes"
   ]
  },
  {
   "cell_type": "code",
   "execution_count": 45,
   "id": "b6724b7a-8d23-4163-9ec9-e7f78b493b4f",
   "metadata": {
    "pycharm": {
     "name": "#%%\n"
    }
   },
   "outputs": [
    {
     "data": {
      "text/html": [
       "220327295"
      ],
      "text/plain": [
       "220327295"
      ]
     },
     "execution_count": 45,
     "metadata": {},
     "output_type": "execute_result"
    }
   ],
   "source": [
    "repo_dim.count()"
   ]
  },
  {
   "cell_type": "code",
   "execution_count": 46,
   "id": "7ae6954a-9f1c-4f30-a9bd-a2f50682e732",
   "metadata": {
    "pycharm": {
     "name": "#%%\n"
    }
   },
   "outputs": [
    {
     "data": {
      "text/html": [
       "<div>\n",
       "<style scoped>\n",
       "    .dataframe tbody tr th:only-of-type {\n",
       "        vertical-align: middle;\n",
       "    }\n",
       "\n",
       "    .dataframe tbody tr th {\n",
       "        vertical-align: top;\n",
       "    }\n",
       "\n",
       "    .dataframe thead th {\n",
       "        text-align: right;\n",
       "    }\n",
       "</style>\n",
       "<table border=\"1\" class=\"dataframe\">\n",
       "  <thead>\n",
       "    <tr style=\"text-align: right;\">\n",
       "      <th></th>\n",
       "      <th>repo_id</th>\n",
       "      <th>repo_name</th>\n",
       "      <th>org_id</th>\n",
       "      <th>org_login</th>\n",
       "      <th>repo_description</th>\n",
       "      <th>repo_size</th>\n",
       "      <th>repo_stargazers_count</th>\n",
       "      <th>repo_forks_count</th>\n",
       "      <th>repo_language</th>\n",
       "      <th>repo_has_issues</th>\n",
       "      <th>repo_has_projects</th>\n",
       "      <th>repo_has_downloads</th>\n",
       "      <th>repo_has_wiki</th>\n",
       "      <th>repo_has_pages</th>\n",
       "      <th>repo_license</th>\n",
       "      <th>repo_default_branch</th>\n",
       "      <th>repo_created_at</th>\n",
       "      <th>repo_updated_at</th>\n",
       "      <th>repo_pushed_at</th>\n",
       "      <th>repo_has_pr</th>\n",
       "    </tr>\n",
       "  </thead>\n",
       "  <tbody>\n",
       "    <tr>\n",
       "      <th>0</th>\n",
       "      <td>20798</td>\n",
       "      <td>svenfuchs/reference_tracking</td>\n",
       "      <td>0</td>\n",
       "      <td></td>\n",
       "      <td></td>\n",
       "      <td>0</td>\n",
       "      <td>0</td>\n",
       "      <td>0</td>\n",
       "      <td></td>\n",
       "      <td>0</td>\n",
       "      <td>0</td>\n",
       "      <td>0</td>\n",
       "      <td>0</td>\n",
       "      <td>0</td>\n",
       "      <td></td>\n",
       "      <td></td>\n",
       "      <td>None</td>\n",
       "      <td>None</td>\n",
       "      <td>None</td>\n",
       "      <td>0</td>\n",
       "    </tr>\n",
       "    <tr>\n",
       "      <th>1</th>\n",
       "      <td>22698</td>\n",
       "      <td>averyj/ramazon</td>\n",
       "      <td>0</td>\n",
       "      <td></td>\n",
       "      <td></td>\n",
       "      <td>0</td>\n",
       "      <td>0</td>\n",
       "      <td>0</td>\n",
       "      <td></td>\n",
       "      <td>0</td>\n",
       "      <td>0</td>\n",
       "      <td>0</td>\n",
       "      <td>0</td>\n",
       "      <td>0</td>\n",
       "      <td></td>\n",
       "      <td></td>\n",
       "      <td>None</td>\n",
       "      <td>None</td>\n",
       "      <td>None</td>\n",
       "      <td>0</td>\n",
       "    </tr>\n",
       "    <tr>\n",
       "      <th>2</th>\n",
       "      <td>25247</td>\n",
       "      <td>kings/alonetone</td>\n",
       "      <td>0</td>\n",
       "      <td></td>\n",
       "      <td></td>\n",
       "      <td>0</td>\n",
       "      <td>0</td>\n",
       "      <td>0</td>\n",
       "      <td></td>\n",
       "      <td>0</td>\n",
       "      <td>0</td>\n",
       "      <td>0</td>\n",
       "      <td>0</td>\n",
       "      <td>0</td>\n",
       "      <td></td>\n",
       "      <td></td>\n",
       "      <td>None</td>\n",
       "      <td>None</td>\n",
       "      <td>None</td>\n",
       "      <td>0</td>\n",
       "    </tr>\n",
       "    <tr>\n",
       "      <th>3</th>\n",
       "      <td>36812</td>\n",
       "      <td>takatoshiono/chin-ma-ya.org</td>\n",
       "      <td>0</td>\n",
       "      <td></td>\n",
       "      <td></td>\n",
       "      <td>0</td>\n",
       "      <td>0</td>\n",
       "      <td>0</td>\n",
       "      <td></td>\n",
       "      <td>0</td>\n",
       "      <td>0</td>\n",
       "      <td>0</td>\n",
       "      <td>0</td>\n",
       "      <td>0</td>\n",
       "      <td></td>\n",
       "      <td></td>\n",
       "      <td>None</td>\n",
       "      <td>None</td>\n",
       "      <td>None</td>\n",
       "      <td>0</td>\n",
       "    </tr>\n",
       "    <tr>\n",
       "      <th>4</th>\n",
       "      <td>38382</td>\n",
       "      <td>dcrec1/in_place_editing_i18n</td>\n",
       "      <td>0</td>\n",
       "      <td></td>\n",
       "      <td></td>\n",
       "      <td>0</td>\n",
       "      <td>0</td>\n",
       "      <td>0</td>\n",
       "      <td></td>\n",
       "      <td>0</td>\n",
       "      <td>0</td>\n",
       "      <td>0</td>\n",
       "      <td>0</td>\n",
       "      <td>0</td>\n",
       "      <td></td>\n",
       "      <td></td>\n",
       "      <td>None</td>\n",
       "      <td>None</td>\n",
       "      <td>None</td>\n",
       "      <td>0</td>\n",
       "    </tr>\n",
       "  </tbody>\n",
       "</table>\n",
       "</div>"
      ],
      "text/plain": [
       "   repo_id                     repo_name  org_id org_login repo_description  \\\n",
       "0    20798  svenfuchs/reference_tracking       0                              \n",
       "1    22698                averyj/ramazon       0                              \n",
       "2    25247               kings/alonetone       0                              \n",
       "3    36812   takatoshiono/chin-ma-ya.org       0                              \n",
       "4    38382  dcrec1/in_place_editing_i18n       0                              \n",
       "\n",
       "   repo_size  repo_stargazers_count  repo_forks_count repo_language  \\\n",
       "0          0                      0                 0                 \n",
       "1          0                      0                 0                 \n",
       "2          0                      0                 0                 \n",
       "3          0                      0                 0                 \n",
       "4          0                      0                 0                 \n",
       "\n",
       "   repo_has_issues  repo_has_projects  repo_has_downloads  repo_has_wiki  \\\n",
       "0                0                  0                   0              0   \n",
       "1                0                  0                   0              0   \n",
       "2                0                  0                   0              0   \n",
       "3                0                  0                   0              0   \n",
       "4                0                  0                   0              0   \n",
       "\n",
       "   repo_has_pages repo_license repo_default_branch repo_created_at  \\\n",
       "0               0                                             None   \n",
       "1               0                                             None   \n",
       "2               0                                             None   \n",
       "3               0                                             None   \n",
       "4               0                                             None   \n",
       "\n",
       "  repo_updated_at repo_pushed_at  repo_has_pr  \n",
       "0            None           None            0  \n",
       "1            None           None            0  \n",
       "2            None           None            0  \n",
       "3            None           None            0  \n",
       "4            None           None            0  "
      ]
     },
     "execution_count": 46,
     "metadata": {},
     "output_type": "execute_result"
    }
   ],
   "source": [
    "repo_dim.head(5)"
   ]
  },
  {
   "cell_type": "code",
   "execution_count": 47,
   "id": "6a1127bc-d5bc-4773-8bfc-a807084ed452",
   "metadata": {
    "pycharm": {
     "name": "#%%\n"
    }
   },
   "outputs": [
    {
     "data": {
      "text/plain": [
       "odps.Schema {\n",
       "  org_id              int64           \n",
       "  org_login           string          \n",
       "  created_at          datetime        \n",
       "}"
      ]
     },
     "execution_count": 47,
     "metadata": {},
     "output_type": "execute_result"
    }
   ],
   "source": [
    "org_dim = DataFrame(o.get_table('dim_github_org'))\n",
    "org_dim.dtypes"
   ]
  },
  {
   "cell_type": "code",
   "execution_count": 48,
   "id": "34b657b3-e2a9-4358-8414-0ae091466607",
   "metadata": {
    "pycharm": {
     "name": "#%%\n"
    }
   },
   "outputs": [
    {
     "data": {
      "text/html": [
       "1866371"
      ],
      "text/plain": [
       "1866371"
      ]
     },
     "execution_count": 48,
     "metadata": {},
     "output_type": "execute_result"
    }
   ],
   "source": [
    "org_dim.count()"
   ]
  },
  {
   "cell_type": "code",
   "execution_count": 49,
   "id": "d4e66d7b-78b9-45c4-ab1a-8f12010f0432",
   "metadata": {
    "pycharm": {
     "name": "#%%\n"
    }
   },
   "outputs": [
    {
     "data": {
      "text/html": [
       "<div>\n",
       "<style scoped>\n",
       "    .dataframe tbody tr th:only-of-type {\n",
       "        vertical-align: middle;\n",
       "    }\n",
       "\n",
       "    .dataframe tbody tr th {\n",
       "        vertical-align: top;\n",
       "    }\n",
       "\n",
       "    .dataframe thead th {\n",
       "        text-align: right;\n",
       "    }\n",
       "</style>\n",
       "<table border=\"1\" class=\"dataframe\">\n",
       "  <thead>\n",
       "    <tr style=\"text-align: right;\">\n",
       "      <th></th>\n",
       "      <th>org_id</th>\n",
       "      <th>org_login</th>\n",
       "      <th>created_at</th>\n",
       "    </tr>\n",
       "  </thead>\n",
       "  <tbody>\n",
       "    <tr>\n",
       "      <th>0</th>\n",
       "      <td>1964</td>\n",
       "      <td>lincolnloop</td>\n",
       "      <td>2022-01-01 05:26:52</td>\n",
       "    </tr>\n",
       "    <tr>\n",
       "      <th>1</th>\n",
       "      <td>2842</td>\n",
       "      <td>wesabe</td>\n",
       "      <td>2021-09-24 00:50:10</td>\n",
       "    </tr>\n",
       "    <tr>\n",
       "      <th>2</th>\n",
       "      <td>7318</td>\n",
       "      <td>code</td>\n",
       "      <td>2019-01-05 06:10:11</td>\n",
       "    </tr>\n",
       "    <tr>\n",
       "      <th>3</th>\n",
       "      <td>10244</td>\n",
       "      <td>scotch</td>\n",
       "      <td>2021-05-10 04:36:10</td>\n",
       "    </tr>\n",
       "    <tr>\n",
       "      <th>4</th>\n",
       "      <td>11784</td>\n",
       "      <td>semantico</td>\n",
       "      <td>2019-08-26 19:13:27</td>\n",
       "    </tr>\n",
       "  </tbody>\n",
       "</table>\n",
       "</div>"
      ],
      "text/plain": [
       "   org_id    org_login          created_at\n",
       "0    1964  lincolnloop 2022-01-01 05:26:52\n",
       "1    2842       wesabe 2021-09-24 00:50:10\n",
       "2    7318         code 2019-01-05 06:10:11\n",
       "3   10244       scotch 2021-05-10 04:36:10\n",
       "4   11784    semantico 2019-08-26 19:13:27"
      ]
     },
     "execution_count": 49,
     "metadata": {},
     "output_type": "execute_result"
    }
   ],
   "source": [
    "org_dim.head(5)"
   ]
  },
  {
   "cell_type": "code",
   "execution_count": 54,
   "id": "2283d6f4-3ec2-40a2-b410-6e92759b32b1",
   "metadata": {
    "pycharm": {
     "name": "#%%\n"
    }
   },
   "outputs": [
    {
     "data": {
      "text/plain": [
       "odps.Schema {\n",
       "  issue_id                                        int64           \n",
       "  issue_number                                    string          \n",
       "  issue_title                                     string          \n",
       "  issue_body                                      string          \n",
       "  issue_labels_name                               string          \n",
       "  issue_labels_color                              string          \n",
       "  issue_labels_default                            string          \n",
       "  issue_lables_description                        string          \n",
       "  issue_comments                                  int16           \n",
       "  issue_created_at                                datetime        \n",
       "  issue_updated_at                                datetime        \n",
       "  issue_closed_at                                 datetime        \n",
       "}"
      ]
     },
     "execution_count": 54,
     "metadata": {},
     "output_type": "execute_result"
    }
   ],
   "source": [
    "issue_dim = DataFrame(o.get_table('dim_github_issue'))\n",
    "issue_dim.dtypes"
   ]
  },
  {
   "cell_type": "code",
   "execution_count": 55,
   "id": "cb557363-d4d2-4194-a2c7-f32db269cd85",
   "metadata": {
    "pycharm": {
     "name": "#%%\n"
    }
   },
   "outputs": [
    {
     "data": {
      "text/html": [
       "0"
      ],
      "text/plain": [
       "0"
      ]
     },
     "execution_count": 55,
     "metadata": {},
     "output_type": "execute_result"
    }
   ],
   "source": [
    "issue_dim.count()"
   ]
  },
  {
   "cell_type": "code",
   "execution_count": 56,
   "id": "0468c427-7975-42dc-97ff-02ebca79578d",
   "metadata": {
    "pycharm": {
     "name": "#%%\n"
    }
   },
   "outputs": [
    {
     "data": {
      "text/html": [
       "<div>\n",
       "<style scoped>\n",
       "    .dataframe tbody tr th:only-of-type {\n",
       "        vertical-align: middle;\n",
       "    }\n",
       "\n",
       "    .dataframe tbody tr th {\n",
       "        vertical-align: top;\n",
       "    }\n",
       "\n",
       "    .dataframe thead th {\n",
       "        text-align: right;\n",
       "    }\n",
       "</style>\n",
       "<table border=\"1\" class=\"dataframe\">\n",
       "  <thead>\n",
       "    <tr style=\"text-align: right;\">\n",
       "      <th></th>\n",
       "      <th>issue_id</th>\n",
       "      <th>issue_number</th>\n",
       "      <th>issue_title</th>\n",
       "      <th>issue_body</th>\n",
       "      <th>issue_labels_name</th>\n",
       "      <th>issue_labels_color</th>\n",
       "      <th>issue_labels_default</th>\n",
       "      <th>issue_lables_description</th>\n",
       "      <th>issue_comments</th>\n",
       "      <th>issue_created_at</th>\n",
       "      <th>issue_updated_at</th>\n",
       "      <th>issue_closed_at</th>\n",
       "    </tr>\n",
       "  </thead>\n",
       "  <tbody>\n",
       "  </tbody>\n",
       "</table>\n",
       "</div>"
      ],
      "text/plain": [
       "Empty DataFrame\n",
       "Columns: [issue_id, issue_number, issue_title, issue_body, issue_labels_name, issue_labels_color, issue_labels_default, issue_lables_description, issue_comments, issue_created_at, issue_updated_at, issue_closed_at]\n",
       "Index: []"
      ]
     },
     "execution_count": 56,
     "metadata": {},
     "output_type": "execute_result"
    }
   ],
   "source": [
    "issue_dim.head(5)"
   ]
  },
  {
   "cell_type": "code",
   "execution_count": 32,
   "id": "bfc3f5cc-522e-48ff-aaa0-395d39449871",
   "metadata": {
    "pycharm": {
     "name": "#%%\n"
    }
   },
   "outputs": [
    {
     "data": {
      "text/plain": [
       "odps.Schema {\n",
       "  pr_id                                           string      \n",
       "  issue_number                                    string      \n",
       "  issue_title                                     string      \n",
       "  issue_body                                      string      \n",
       "  issue_labels_name                               string      \n",
       "  issue_labels_color                              string      \n",
       "  issue_labels_default                            string      \n",
       "  issue_labels_description                        string      \n",
       "  issue_comments                                  string      \n",
       "  issue_created_at                                string      \n",
       "  issue_updated_at                                string      \n",
       "  issue_closed_at                                 string      \n",
       "  pull_commits                                    string      \n",
       "  pull_additions                                  string      \n",
       "  pull_deletions                                  string      \n",
       "  pull_changed_files                              string      \n",
       "  pull_merged                                     string      \n",
       "  pull_merge_commit_sha                           string      \n",
       "  pull_merged_at                                  string      \n",
       "  pull_review_comments                            string      \n",
       "}"
      ]
     },
     "execution_count": 32,
     "metadata": {},
     "output_type": "execute_result"
    }
   ],
   "source": [
    "pr_dim = DataFrame(o.get_table('dim_github_pr'))\n",
    "pr_dim.dtypes"
   ]
  },
  {
   "cell_type": "code",
   "execution_count": 33,
   "id": "4c2e0983-3a4e-47d9-862d-1f56c35c28e2",
   "metadata": {
    "pycharm": {
     "name": "#%%\n"
    }
   },
   "outputs": [
    {
     "data": {
      "text/html": [
       "177141328"
      ],
      "text/plain": [
       "177141328"
      ]
     },
     "execution_count": 33,
     "metadata": {},
     "output_type": "execute_result"
    }
   ],
   "source": [
    "pr_dim.count()"
   ]
  },
  {
   "cell_type": "code",
   "execution_count": 34,
   "id": "f56a589c-e04c-4f68-bc9d-97246397d4f6",
   "metadata": {
    "pycharm": {
     "name": "#%%\n"
    }
   },
   "outputs": [
    {
     "data": {
      "text/html": [
       "<div>\n",
       "<style scoped>\n",
       "    .dataframe tbody tr th:only-of-type {\n",
       "        vertical-align: middle;\n",
       "    }\n",
       "\n",
       "    .dataframe tbody tr th {\n",
       "        vertical-align: top;\n",
       "    }\n",
       "\n",
       "    .dataframe thead th {\n",
       "        text-align: right;\n",
       "    }\n",
       "</style>\n",
       "<table border=\"1\" class=\"dataframe\">\n",
       "  <thead>\n",
       "    <tr style=\"text-align: right;\">\n",
       "      <th></th>\n",
       "      <th>pr_id</th>\n",
       "      <th>issue_number</th>\n",
       "      <th>issue_title</th>\n",
       "      <th>issue_body</th>\n",
       "      <th>issue_labels_name</th>\n",
       "      <th>issue_labels_color</th>\n",
       "      <th>issue_labels_default</th>\n",
       "      <th>issue_labels_description</th>\n",
       "      <th>issue_comments</th>\n",
       "      <th>issue_created_at</th>\n",
       "      <th>issue_updated_at</th>\n",
       "      <th>issue_closed_at</th>\n",
       "      <th>pull_commits</th>\n",
       "      <th>pull_additions</th>\n",
       "      <th>pull_deletions</th>\n",
       "      <th>pull_changed_files</th>\n",
       "      <th>pull_merged</th>\n",
       "      <th>pull_merge_commit_sha</th>\n",
       "      <th>pull_merged_at</th>\n",
       "      <th>pull_review_comments</th>\n",
       "    </tr>\n",
       "  </thead>\n",
       "  <tbody>\n",
       "    <tr>\n",
       "      <th>0</th>\n",
       "      <td>100001556</td>\n",
       "      <td>33</td>\n",
       "      <td>done</td>\n",
       "      <td></td>\n",
       "      <td>[]</td>\n",
       "      <td>[]</td>\n",
       "      <td>[]</td>\n",
       "      <td>[]</td>\n",
       "      <td>0</td>\n",
       "      <td>2017-01-04 02:47:52</td>\n",
       "      <td>2017-01-04 02:47:52</td>\n",
       "      <td>1970-01-01 08:00:00</td>\n",
       "      <td>1</td>\n",
       "      <td>18</td>\n",
       "      <td>0</td>\n",
       "      <td>2</td>\n",
       "      <td>0</td>\n",
       "      <td></td>\n",
       "      <td></td>\n",
       "      <td>0</td>\n",
       "    </tr>\n",
       "    <tr>\n",
       "      <th>1</th>\n",
       "      <td>100007562</td>\n",
       "      <td>109</td>\n",
       "      <td>Remove nodeIDs by user action or after timeout</td>\n",
       "      <td>It is possible now to remove a nodeID (for ins...</td>\n",
       "      <td>[\"enhancement\"]</td>\n",
       "      <td>[\"84b6eb\"]</td>\n",
       "      <td>[1]</td>\n",
       "      <td>[\"\"]</td>\n",
       "      <td>29</td>\n",
       "      <td>2017-01-04 03:31:13</td>\n",
       "      <td>2020-08-16 19:00:51</td>\n",
       "      <td>2020-08-16 19:00:51</td>\n",
       "      <td>11</td>\n",
       "      <td>91</td>\n",
       "      <td>2</td>\n",
       "      <td>2</td>\n",
       "      <td>0</td>\n",
       "      <td></td>\n",
       "      <td></td>\n",
       "      <td>1</td>\n",
       "    </tr>\n",
       "    <tr>\n",
       "      <th>2</th>\n",
       "      <td>100007893</td>\n",
       "      <td>1</td>\n",
       "      <td>Add osx env</td>\n",
       "      <td></td>\n",
       "      <td>[]</td>\n",
       "      <td>[]</td>\n",
       "      <td>[]</td>\n",
       "      <td>[]</td>\n",
       "      <td>0</td>\n",
       "      <td>2017-01-04 03:33:33</td>\n",
       "      <td>2017-01-04 03:33:37</td>\n",
       "      <td>2017-01-04 03:33:37</td>\n",
       "      <td>2</td>\n",
       "      <td>201</td>\n",
       "      <td>0</td>\n",
       "      <td>2</td>\n",
       "      <td>1</td>\n",
       "      <td>36c72acb40e5a970b7919a03066dcc10c364f076</td>\n",
       "      <td>2017-01-04 03:33:37</td>\n",
       "      <td>0</td>\n",
       "    </tr>\n",
       "    <tr>\n",
       "      <th>3</th>\n",
       "      <td>100009393</td>\n",
       "      <td>2</td>\n",
       "      <td>Various tweaks</td>\n",
       "      <td></td>\n",
       "      <td>[]</td>\n",
       "      <td>[]</td>\n",
       "      <td>[]</td>\n",
       "      <td>[]</td>\n",
       "      <td>0</td>\n",
       "      <td>2017-01-04 03:43:58</td>\n",
       "      <td>2017-01-04 05:25:33</td>\n",
       "      <td>2017-01-04 05:25:33</td>\n",
       "      <td>10</td>\n",
       "      <td>46</td>\n",
       "      <td>31</td>\n",
       "      <td>2</td>\n",
       "      <td>1</td>\n",
       "      <td>6eb9b06da38d359d36fc3b51e09438a907ac957c</td>\n",
       "      <td>2017-01-04 05:25:33</td>\n",
       "      <td>0</td>\n",
       "    </tr>\n",
       "    <tr>\n",
       "      <th>4</th>\n",
       "      <td>100010006</td>\n",
       "      <td>31</td>\n",
       "      <td>Added \"Edit\" button when logged in as user and...</td>\n",
       "      <td>Added \"Edit\" button when logged in as user and...</td>\n",
       "      <td>[]</td>\n",
       "      <td>[]</td>\n",
       "      <td>[]</td>\n",
       "      <td>[]</td>\n",
       "      <td>0</td>\n",
       "      <td>2017-01-04 03:48:17</td>\n",
       "      <td>2017-01-04 03:48:42</td>\n",
       "      <td>2017-01-04 03:48:42</td>\n",
       "      <td>1</td>\n",
       "      <td>3</td>\n",
       "      <td>1</td>\n",
       "      <td>3</td>\n",
       "      <td>1</td>\n",
       "      <td>50fad027620cfff13cc6fd8be5725496d6c869db</td>\n",
       "      <td>2017-01-04 03:48:42</td>\n",
       "      <td>0</td>\n",
       "    </tr>\n",
       "  </tbody>\n",
       "</table>\n",
       "</div>"
      ],
      "text/plain": [
       "       pr_id issue_number                                        issue_title  \\\n",
       "0  100001556           33                                               done   \n",
       "1  100007562          109     Remove nodeIDs by user action or after timeout   \n",
       "2  100007893            1                                        Add osx env   \n",
       "3  100009393            2                                     Various tweaks   \n",
       "4  100010006           31  Added \"Edit\" button when logged in as user and...   \n",
       "\n",
       "                                          issue_body issue_labels_name  \\\n",
       "0                                                                   []   \n",
       "1  It is possible now to remove a nodeID (for ins...   [\"enhancement\"]   \n",
       "2                                                                   []   \n",
       "3                                                                   []   \n",
       "4  Added \"Edit\" button when logged in as user and...                []   \n",
       "\n",
       "  issue_labels_color issue_labels_default issue_labels_description  \\\n",
       "0                 []                   []                       []   \n",
       "1         [\"84b6eb\"]                  [1]                     [\"\"]   \n",
       "2                 []                   []                       []   \n",
       "3                 []                   []                       []   \n",
       "4                 []                   []                       []   \n",
       "\n",
       "  issue_comments     issue_created_at     issue_updated_at  \\\n",
       "0              0  2017-01-04 02:47:52  2017-01-04 02:47:52   \n",
       "1             29  2017-01-04 03:31:13  2020-08-16 19:00:51   \n",
       "2              0  2017-01-04 03:33:33  2017-01-04 03:33:37   \n",
       "3              0  2017-01-04 03:43:58  2017-01-04 05:25:33   \n",
       "4              0  2017-01-04 03:48:17  2017-01-04 03:48:42   \n",
       "\n",
       "       issue_closed_at pull_commits pull_additions pull_deletions  \\\n",
       "0  1970-01-01 08:00:00            1             18              0   \n",
       "1  2020-08-16 19:00:51           11             91              2   \n",
       "2  2017-01-04 03:33:37            2            201              0   \n",
       "3  2017-01-04 05:25:33           10             46             31   \n",
       "4  2017-01-04 03:48:42            1              3              1   \n",
       "\n",
       "  pull_changed_files pull_merged                     pull_merge_commit_sha  \\\n",
       "0                  2           0                                             \n",
       "1                  2           0                                             \n",
       "2                  2           1  36c72acb40e5a970b7919a03066dcc10c364f076   \n",
       "3                  2           1  6eb9b06da38d359d36fc3b51e09438a907ac957c   \n",
       "4                  3           1  50fad027620cfff13cc6fd8be5725496d6c869db   \n",
       "\n",
       "        pull_merged_at pull_review_comments  \n",
       "0                                         0  \n",
       "1                                         1  \n",
       "2  2017-01-04 03:33:37                    0  \n",
       "3  2017-01-04 05:25:33                    0  \n",
       "4  2017-01-04 03:48:42                    0  "
      ]
     },
     "execution_count": 34,
     "metadata": {},
     "output_type": "execute_result"
    }
   ],
   "source": [
    "pr_dim.head(5)"
   ]
  },
  {
   "cell_type": "code",
   "execution_count": null,
   "id": "79d8f6bd-082b-49ef-bccb-4880351bedc8",
   "metadata": {
    "pycharm": {
     "name": "#%%\n"
    }
   },
   "outputs": [],
   "source": []
  }
 ],
 "metadata": {
  "kernelspec": {
   "display_name": "Python 3 (ipykernel)",
   "language": "python",
   "name": "python3"
  },
  "language_info": {
   "codemirror_mode": {
    "name": "ipython",
    "version": 3
   },
   "file_extension": ".py",
   "mimetype": "text/x-python",
   "name": "python",
   "nbconvert_exporter": "python",
   "pygments_lexer": "ipython3",
   "version": "3.9.7"
  }
 },
 "nbformat": 4,
 "nbformat_minor": 5
}
